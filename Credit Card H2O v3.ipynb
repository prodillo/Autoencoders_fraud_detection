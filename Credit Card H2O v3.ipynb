{
 "cells": [
  {
   "cell_type": "code",
   "execution_count": 1,
   "metadata": {},
   "outputs": [],
   "source": [
    "# print all the outputs in a cell\n",
    "from IPython.core.interactiveshell import InteractiveShell\n",
    "InteractiveShell.ast_node_interactivity = \"all\"\n",
    "\n",
    "import warnings\n",
    "warnings.filterwarnings(\"ignore\")\n",
    "\n",
    "import numpy as np\n",
    "import pandas as pd\n",
    "import seaborn as sns"
   ]
  },
  {
   "cell_type": "code",
   "execution_count": 2,
   "metadata": {},
   "outputs": [],
   "source": [
    "df = pd.read_csv(\"creditcard.csv\")"
   ]
  },
  {
   "cell_type": "code",
   "execution_count": 3,
   "metadata": {},
   "outputs": [
    {
     "data": {
      "text/plain": [
       "86400"
      ]
     },
     "execution_count": 3,
     "metadata": {},
     "output_type": "execute_result"
    },
    {
     "data": {
      "text/plain": [
       "144787"
      ]
     },
     "execution_count": 3,
     "metadata": {},
     "output_type": "execute_result"
    },
    {
     "data": {
      "text/plain": [
       "140020"
      ]
     },
     "execution_count": 3,
     "metadata": {},
     "output_type": "execute_result"
    }
   ],
   "source": [
    "day = 3600 * 24\n",
    "day\n",
    "\n",
    "df['day']=(df.Time > day)+1\n",
    "len(df[df.day==1])\n",
    "len(df[df.day==2])"
   ]
  },
  {
   "cell_type": "code",
   "execution_count": 4,
   "metadata": {},
   "outputs": [],
   "source": [
    "df['Time_day']=df.Time.apply(lambda x: x if x<=day else x-day)"
   ]
  },
  {
   "cell_type": "code",
   "execution_count": 5,
   "metadata": {},
   "outputs": [],
   "source": [
    "df['Time_cluster']=pd.cut(df.Time_day,bins=24)"
   ]
  },
  {
   "cell_type": "code",
   "execution_count": 6,
   "metadata": {},
   "outputs": [],
   "source": [
    "df_new = df.drop(columns=['Time','day','Time_day'])"
   ]
  },
  {
   "cell_type": "code",
   "execution_count": 7,
   "metadata": {},
   "outputs": [],
   "source": [
    "df_new = pd.get_dummies(df_new)"
   ]
  },
  {
   "cell_type": "code",
   "execution_count": 8,
   "metadata": {},
   "outputs": [],
   "source": [
    "from sklearn.model_selection import train_test_split"
   ]
  },
  {
   "cell_type": "code",
   "execution_count": 9,
   "metadata": {},
   "outputs": [],
   "source": [
    "df_0 = df_new[df_new.Class==0]"
   ]
  },
  {
   "cell_type": "code",
   "execution_count": 10,
   "metadata": {},
   "outputs": [],
   "source": [
    "df_train, df_test_0 = train_test_split(df_0, random_state=0, test_size = 0.120693)"
   ]
  },
  {
   "cell_type": "code",
   "execution_count": 11,
   "metadata": {},
   "outputs": [
    {
     "data": {
      "text/html": [
       "<div>\n",
       "<style scoped>\n",
       "    .dataframe tbody tr th:only-of-type {\n",
       "        vertical-align: middle;\n",
       "    }\n",
       "\n",
       "    .dataframe tbody tr th {\n",
       "        vertical-align: top;\n",
       "    }\n",
       "\n",
       "    .dataframe thead th {\n",
       "        text-align: right;\n",
       "    }\n",
       "</style>\n",
       "<table border=\"1\" class=\"dataframe\">\n",
       "  <thead>\n",
       "    <tr style=\"text-align: right;\">\n",
       "      <th></th>\n",
       "      <th>V1</th>\n",
       "      <th>V2</th>\n",
       "      <th>V3</th>\n",
       "      <th>V4</th>\n",
       "      <th>V5</th>\n",
       "      <th>V6</th>\n",
       "      <th>V7</th>\n",
       "      <th>V8</th>\n",
       "      <th>V9</th>\n",
       "      <th>V10</th>\n",
       "      <th>...</th>\n",
       "      <th>Time_cluster_(50400.0, 54000.0]</th>\n",
       "      <th>Time_cluster_(54000.0, 57600.0]</th>\n",
       "      <th>Time_cluster_(57600.0, 61200.0]</th>\n",
       "      <th>Time_cluster_(61200.0, 64800.0]</th>\n",
       "      <th>Time_cluster_(64800.0, 68400.0]</th>\n",
       "      <th>Time_cluster_(68400.0, 72000.0]</th>\n",
       "      <th>Time_cluster_(72000.0, 75600.0]</th>\n",
       "      <th>Time_cluster_(75600.0, 79200.0]</th>\n",
       "      <th>Time_cluster_(79200.0, 82800.0]</th>\n",
       "      <th>Time_cluster_(82800.0, 86400.0]</th>\n",
       "    </tr>\n",
       "  </thead>\n",
       "  <tbody>\n",
       "    <tr>\n",
       "      <th>16534</th>\n",
       "      <td>1.420738</td>\n",
       "      <td>-1.094251</td>\n",
       "      <td>0.656305</td>\n",
       "      <td>-1.454003</td>\n",
       "      <td>-1.563648</td>\n",
       "      <td>-0.345731</td>\n",
       "      <td>-1.218119</td>\n",
       "      <td>0.128614</td>\n",
       "      <td>-1.930794</td>\n",
       "      <td>1.578324</td>\n",
       "      <td>...</td>\n",
       "      <td>0</td>\n",
       "      <td>0</td>\n",
       "      <td>0</td>\n",
       "      <td>0</td>\n",
       "      <td>0</td>\n",
       "      <td>0</td>\n",
       "      <td>0</td>\n",
       "      <td>0</td>\n",
       "      <td>0</td>\n",
       "      <td>0</td>\n",
       "    </tr>\n",
       "    <tr>\n",
       "      <th>71061</th>\n",
       "      <td>-0.481275</td>\n",
       "      <td>1.188679</td>\n",
       "      <td>1.346540</td>\n",
       "      <td>-0.021056</td>\n",
       "      <td>0.133936</td>\n",
       "      <td>-0.992413</td>\n",
       "      <td>0.857424</td>\n",
       "      <td>-0.263821</td>\n",
       "      <td>-0.011792</td>\n",
       "      <td>0.022229</td>\n",
       "      <td>...</td>\n",
       "      <td>0</td>\n",
       "      <td>1</td>\n",
       "      <td>0</td>\n",
       "      <td>0</td>\n",
       "      <td>0</td>\n",
       "      <td>0</td>\n",
       "      <td>0</td>\n",
       "      <td>0</td>\n",
       "      <td>0</td>\n",
       "      <td>0</td>\n",
       "    </tr>\n",
       "    <tr>\n",
       "      <th>11050</th>\n",
       "      <td>1.110357</td>\n",
       "      <td>0.396123</td>\n",
       "      <td>1.577974</td>\n",
       "      <td>2.709814</td>\n",
       "      <td>-0.401025</td>\n",
       "      <td>0.738637</td>\n",
       "      <td>-0.681952</td>\n",
       "      <td>0.186940</td>\n",
       "      <td>0.983012</td>\n",
       "      <td>0.258410</td>\n",
       "      <td>...</td>\n",
       "      <td>0</td>\n",
       "      <td>0</td>\n",
       "      <td>0</td>\n",
       "      <td>0</td>\n",
       "      <td>0</td>\n",
       "      <td>0</td>\n",
       "      <td>0</td>\n",
       "      <td>0</td>\n",
       "      <td>0</td>\n",
       "      <td>0</td>\n",
       "    </tr>\n",
       "    <tr>\n",
       "      <th>41174</th>\n",
       "      <td>-0.302487</td>\n",
       "      <td>-0.337496</td>\n",
       "      <td>1.359826</td>\n",
       "      <td>-2.594041</td>\n",
       "      <td>-0.216970</td>\n",
       "      <td>-0.654382</td>\n",
       "      <td>0.370343</td>\n",
       "      <td>-0.378541</td>\n",
       "      <td>-2.887691</td>\n",
       "      <td>1.122440</td>\n",
       "      <td>...</td>\n",
       "      <td>0</td>\n",
       "      <td>0</td>\n",
       "      <td>0</td>\n",
       "      <td>0</td>\n",
       "      <td>0</td>\n",
       "      <td>0</td>\n",
       "      <td>0</td>\n",
       "      <td>0</td>\n",
       "      <td>0</td>\n",
       "      <td>0</td>\n",
       "    </tr>\n",
       "    <tr>\n",
       "      <th>272382</th>\n",
       "      <td>2.047461</td>\n",
       "      <td>-1.231813</td>\n",
       "      <td>-0.518726</td>\n",
       "      <td>-1.505515</td>\n",
       "      <td>-1.238239</td>\n",
       "      <td>-0.442121</td>\n",
       "      <td>-0.998406</td>\n",
       "      <td>-0.013253</td>\n",
       "      <td>0.249211</td>\n",
       "      <td>0.514456</td>\n",
       "      <td>...</td>\n",
       "      <td>0</td>\n",
       "      <td>0</td>\n",
       "      <td>0</td>\n",
       "      <td>0</td>\n",
       "      <td>0</td>\n",
       "      <td>0</td>\n",
       "      <td>0</td>\n",
       "      <td>1</td>\n",
       "      <td>0</td>\n",
       "      <td>0</td>\n",
       "    </tr>\n",
       "  </tbody>\n",
       "</table>\n",
       "<p>5 rows × 54 columns</p>\n",
       "</div>"
      ],
      "text/plain": [
       "              V1        V2        V3        V4        V5        V6        V7  \\\n",
       "16534   1.420738 -1.094251  0.656305 -1.454003 -1.563648 -0.345731 -1.218119   \n",
       "71061  -0.481275  1.188679  1.346540 -0.021056  0.133936 -0.992413  0.857424   \n",
       "11050   1.110357  0.396123  1.577974  2.709814 -0.401025  0.738637 -0.681952   \n",
       "41174  -0.302487 -0.337496  1.359826 -2.594041 -0.216970 -0.654382  0.370343   \n",
       "272382  2.047461 -1.231813 -0.518726 -1.505515 -1.238239 -0.442121 -0.998406   \n",
       "\n",
       "              V8        V9       V10               ...                 \\\n",
       "16534   0.128614 -1.930794  1.578324               ...                  \n",
       "71061  -0.263821 -0.011792  0.022229               ...                  \n",
       "11050   0.186940  0.983012  0.258410               ...                  \n",
       "41174  -0.378541 -2.887691  1.122440               ...                  \n",
       "272382 -0.013253  0.249211  0.514456               ...                  \n",
       "\n",
       "        Time_cluster_(50400.0, 54000.0]  Time_cluster_(54000.0, 57600.0]  \\\n",
       "16534                                 0                                0   \n",
       "71061                                 0                                1   \n",
       "11050                                 0                                0   \n",
       "41174                                 0                                0   \n",
       "272382                                0                                0   \n",
       "\n",
       "        Time_cluster_(57600.0, 61200.0]  Time_cluster_(61200.0, 64800.0]  \\\n",
       "16534                                 0                                0   \n",
       "71061                                 0                                0   \n",
       "11050                                 0                                0   \n",
       "41174                                 0                                0   \n",
       "272382                                0                                0   \n",
       "\n",
       "        Time_cluster_(64800.0, 68400.0]  Time_cluster_(68400.0, 72000.0]  \\\n",
       "16534                                 0                                0   \n",
       "71061                                 0                                0   \n",
       "11050                                 0                                0   \n",
       "41174                                 0                                0   \n",
       "272382                                0                                0   \n",
       "\n",
       "        Time_cluster_(72000.0, 75600.0]  Time_cluster_(75600.0, 79200.0]  \\\n",
       "16534                                 0                                0   \n",
       "71061                                 0                                0   \n",
       "11050                                 0                                0   \n",
       "41174                                 0                                0   \n",
       "272382                                0                                1   \n",
       "\n",
       "        Time_cluster_(79200.0, 82800.0]  Time_cluster_(82800.0, 86400.0]  \n",
       "16534                                 0                                0  \n",
       "71061                                 0                                0  \n",
       "11050                                 0                                0  \n",
       "41174                                 0                                0  \n",
       "272382                                0                                0  \n",
       "\n",
       "[5 rows x 54 columns]"
      ]
     },
     "execution_count": 11,
     "metadata": {},
     "output_type": "execute_result"
    },
    {
     "data": {
      "text/plain": [
       "250000"
      ]
     },
     "execution_count": 11,
     "metadata": {},
     "output_type": "execute_result"
    },
    {
     "data": {
      "text/html": [
       "<div>\n",
       "<style scoped>\n",
       "    .dataframe tbody tr th:only-of-type {\n",
       "        vertical-align: middle;\n",
       "    }\n",
       "\n",
       "    .dataframe tbody tr th {\n",
       "        vertical-align: top;\n",
       "    }\n",
       "\n",
       "    .dataframe thead th {\n",
       "        text-align: right;\n",
       "    }\n",
       "</style>\n",
       "<table border=\"1\" class=\"dataframe\">\n",
       "  <thead>\n",
       "    <tr style=\"text-align: right;\">\n",
       "      <th></th>\n",
       "      <th>V1</th>\n",
       "      <th>V2</th>\n",
       "      <th>V3</th>\n",
       "      <th>V4</th>\n",
       "      <th>V5</th>\n",
       "      <th>V6</th>\n",
       "      <th>V7</th>\n",
       "      <th>V8</th>\n",
       "      <th>V9</th>\n",
       "      <th>V10</th>\n",
       "      <th>...</th>\n",
       "      <th>Time_cluster_(50400.0, 54000.0]</th>\n",
       "      <th>Time_cluster_(54000.0, 57600.0]</th>\n",
       "      <th>Time_cluster_(57600.0, 61200.0]</th>\n",
       "      <th>Time_cluster_(61200.0, 64800.0]</th>\n",
       "      <th>Time_cluster_(64800.0, 68400.0]</th>\n",
       "      <th>Time_cluster_(68400.0, 72000.0]</th>\n",
       "      <th>Time_cluster_(72000.0, 75600.0]</th>\n",
       "      <th>Time_cluster_(75600.0, 79200.0]</th>\n",
       "      <th>Time_cluster_(79200.0, 82800.0]</th>\n",
       "      <th>Time_cluster_(82800.0, 86400.0]</th>\n",
       "    </tr>\n",
       "  </thead>\n",
       "  <tbody>\n",
       "    <tr>\n",
       "      <th>266085</th>\n",
       "      <td>2.049094</td>\n",
       "      <td>0.186189</td>\n",
       "      <td>-1.707198</td>\n",
       "      <td>0.530768</td>\n",
       "      <td>0.160589</td>\n",
       "      <td>-1.448570</td>\n",
       "      <td>0.239310</td>\n",
       "      <td>-0.353611</td>\n",
       "      <td>0.634425</td>\n",
       "      <td>-0.471390</td>\n",
       "      <td>...</td>\n",
       "      <td>0</td>\n",
       "      <td>0</td>\n",
       "      <td>0</td>\n",
       "      <td>0</td>\n",
       "      <td>0</td>\n",
       "      <td>0</td>\n",
       "      <td>0</td>\n",
       "      <td>1</td>\n",
       "      <td>0</td>\n",
       "      <td>0</td>\n",
       "    </tr>\n",
       "    <tr>\n",
       "      <th>172120</th>\n",
       "      <td>2.125540</td>\n",
       "      <td>-0.030714</td>\n",
       "      <td>-1.527653</td>\n",
       "      <td>0.121046</td>\n",
       "      <td>0.543172</td>\n",
       "      <td>-0.347988</td>\n",
       "      <td>0.157221</td>\n",
       "      <td>-0.229126</td>\n",
       "      <td>0.477999</td>\n",
       "      <td>0.046959</td>\n",
       "      <td>...</td>\n",
       "      <td>0</td>\n",
       "      <td>0</td>\n",
       "      <td>0</td>\n",
       "      <td>0</td>\n",
       "      <td>0</td>\n",
       "      <td>0</td>\n",
       "      <td>0</td>\n",
       "      <td>0</td>\n",
       "      <td>0</td>\n",
       "      <td>0</td>\n",
       "    </tr>\n",
       "    <tr>\n",
       "      <th>15136</th>\n",
       "      <td>-4.155859</td>\n",
       "      <td>-5.705748</td>\n",
       "      <td>0.274699</td>\n",
       "      <td>-0.993262</td>\n",
       "      <td>-6.059393</td>\n",
       "      <td>5.210848</td>\n",
       "      <td>5.811316</td>\n",
       "      <td>0.367888</td>\n",
       "      <td>1.750710</td>\n",
       "      <td>-4.171672</td>\n",
       "      <td>...</td>\n",
       "      <td>0</td>\n",
       "      <td>0</td>\n",
       "      <td>0</td>\n",
       "      <td>0</td>\n",
       "      <td>0</td>\n",
       "      <td>0</td>\n",
       "      <td>0</td>\n",
       "      <td>0</td>\n",
       "      <td>0</td>\n",
       "      <td>0</td>\n",
       "    </tr>\n",
       "    <tr>\n",
       "      <th>96393</th>\n",
       "      <td>-0.566420</td>\n",
       "      <td>-0.579576</td>\n",
       "      <td>0.823503</td>\n",
       "      <td>-1.451240</td>\n",
       "      <td>-0.583587</td>\n",
       "      <td>0.206381</td>\n",
       "      <td>1.601392</td>\n",
       "      <td>-0.370446</td>\n",
       "      <td>-1.910354</td>\n",
       "      <td>0.252497</td>\n",
       "      <td>...</td>\n",
       "      <td>0</td>\n",
       "      <td>0</td>\n",
       "      <td>0</td>\n",
       "      <td>0</td>\n",
       "      <td>1</td>\n",
       "      <td>0</td>\n",
       "      <td>0</td>\n",
       "      <td>0</td>\n",
       "      <td>0</td>\n",
       "      <td>0</td>\n",
       "    </tr>\n",
       "    <tr>\n",
       "      <th>208225</th>\n",
       "      <td>0.060858</td>\n",
       "      <td>-0.261762</td>\n",
       "      <td>-1.699493</td>\n",
       "      <td>-1.202327</td>\n",
       "      <td>3.699527</td>\n",
       "      <td>3.196249</td>\n",
       "      <td>0.437208</td>\n",
       "      <td>0.421541</td>\n",
       "      <td>0.492435</td>\n",
       "      <td>-0.455964</td>\n",
       "      <td>...</td>\n",
       "      <td>1</td>\n",
       "      <td>0</td>\n",
       "      <td>0</td>\n",
       "      <td>0</td>\n",
       "      <td>0</td>\n",
       "      <td>0</td>\n",
       "      <td>0</td>\n",
       "      <td>0</td>\n",
       "      <td>0</td>\n",
       "      <td>0</td>\n",
       "    </tr>\n",
       "  </tbody>\n",
       "</table>\n",
       "<p>5 rows × 54 columns</p>\n",
       "</div>"
      ],
      "text/plain": [
       "              V1        V2        V3        V4        V5        V6        V7  \\\n",
       "266085  2.049094  0.186189 -1.707198  0.530768  0.160589 -1.448570  0.239310   \n",
       "172120  2.125540 -0.030714 -1.527653  0.121046  0.543172 -0.347988  0.157221   \n",
       "15136  -4.155859 -5.705748  0.274699 -0.993262 -6.059393  5.210848  5.811316   \n",
       "96393  -0.566420 -0.579576  0.823503 -1.451240 -0.583587  0.206381  1.601392   \n",
       "208225  0.060858 -0.261762 -1.699493 -1.202327  3.699527  3.196249  0.437208   \n",
       "\n",
       "              V8        V9       V10               ...                 \\\n",
       "266085 -0.353611  0.634425 -0.471390               ...                  \n",
       "172120 -0.229126  0.477999  0.046959               ...                  \n",
       "15136   0.367888  1.750710 -4.171672               ...                  \n",
       "96393  -0.370446 -1.910354  0.252497               ...                  \n",
       "208225  0.421541  0.492435 -0.455964               ...                  \n",
       "\n",
       "        Time_cluster_(50400.0, 54000.0]  Time_cluster_(54000.0, 57600.0]  \\\n",
       "266085                                0                                0   \n",
       "172120                                0                                0   \n",
       "15136                                 0                                0   \n",
       "96393                                 0                                0   \n",
       "208225                                1                                0   \n",
       "\n",
       "        Time_cluster_(57600.0, 61200.0]  Time_cluster_(61200.0, 64800.0]  \\\n",
       "266085                                0                                0   \n",
       "172120                                0                                0   \n",
       "15136                                 0                                0   \n",
       "96393                                 0                                0   \n",
       "208225                                0                                0   \n",
       "\n",
       "        Time_cluster_(64800.0, 68400.0]  Time_cluster_(68400.0, 72000.0]  \\\n",
       "266085                                0                                0   \n",
       "172120                                0                                0   \n",
       "15136                                 0                                0   \n",
       "96393                                 1                                0   \n",
       "208225                                0                                0   \n",
       "\n",
       "        Time_cluster_(72000.0, 75600.0]  Time_cluster_(75600.0, 79200.0]  \\\n",
       "266085                                0                                1   \n",
       "172120                                0                                0   \n",
       "15136                                 0                                0   \n",
       "96393                                 0                                0   \n",
       "208225                                0                                0   \n",
       "\n",
       "        Time_cluster_(79200.0, 82800.0]  Time_cluster_(82800.0, 86400.0]  \n",
       "266085                                0                                0  \n",
       "172120                                0                                0  \n",
       "15136                                 0                                0  \n",
       "96393                                 0                                0  \n",
       "208225                                0                                0  \n",
       "\n",
       "[5 rows x 54 columns]"
      ]
     },
     "execution_count": 11,
     "metadata": {},
     "output_type": "execute_result"
    },
    {
     "data": {
      "text/plain": [
       "34315"
      ]
     },
     "execution_count": 11,
     "metadata": {},
     "output_type": "execute_result"
    }
   ],
   "source": [
    "df_train.head()\n",
    "len(df_train)\n",
    "df_test_0.head()\n",
    "len(df_test_0)"
   ]
  },
  {
   "cell_type": "code",
   "execution_count": 12,
   "metadata": {},
   "outputs": [
    {
     "data": {
      "text/plain": [
       "34807"
      ]
     },
     "execution_count": 12,
     "metadata": {},
     "output_type": "execute_result"
    }
   ],
   "source": [
    "df_test = pd.concat([df_test_0, df_new[df_new.Class==1]])\n",
    "len(df_test)"
   ]
  },
  {
   "cell_type": "code",
   "execution_count": 13,
   "metadata": {},
   "outputs": [],
   "source": [
    "from sklearn.utils import shuffle\n",
    "\n",
    "df_test = shuffle(df_test, random_state=12)"
   ]
  },
  {
   "cell_type": "code",
   "execution_count": 14,
   "metadata": {},
   "outputs": [
    {
     "data": {
      "text/plain": [
       "250000"
      ]
     },
     "execution_count": 14,
     "metadata": {},
     "output_type": "execute_result"
    }
   ],
   "source": [
    "X_train = df_train.drop(columns='Class')\n",
    "len(X_train)"
   ]
  },
  {
   "cell_type": "code",
   "execution_count": 15,
   "metadata": {},
   "outputs": [],
   "source": [
    "X_test = df_test.drop(columns='Class')\n",
    "y_test = df_test.Class"
   ]
  },
  {
   "cell_type": "code",
   "execution_count": 16,
   "metadata": {},
   "outputs": [],
   "source": [
    "import matplotlib.pyplot as plt\n",
    "from sklearn.metrics import confusion_matrix\n",
    "from sklearn.metrics import f1_score\n",
    "from sklearn.metrics import roc_auc_score"
   ]
  },
  {
   "cell_type": "markdown",
   "metadata": {},
   "source": [
    "# H20 Autoencoder"
   ]
  },
  {
   "cell_type": "code",
   "execution_count": 17,
   "metadata": {},
   "outputs": [],
   "source": [
    "from h2o.estimators.deeplearning import H2OAutoEncoderEstimator, H2ODeepLearningEstimator\n",
    "import h2o"
   ]
  },
  {
   "cell_type": "code",
   "execution_count": 20,
   "metadata": {},
   "outputs": [
    {
     "name": "stdout",
     "output_type": "stream",
     "text": [
      "Checking whether there is an H2O instance running at http://localhost:54321. connected.\n"
     ]
    },
    {
     "data": {
      "text/html": [
       "<div style=\"overflow:auto\"><table style=\"width:50%\"><tr><td>H2O cluster uptime:</td>\n",
       "<td>2 mins 09 secs</td></tr>\n",
       "<tr><td>H2O cluster timezone:</td>\n",
       "<td>America/Los_Angeles</td></tr>\n",
       "<tr><td>H2O data parsing timezone:</td>\n",
       "<td>UTC</td></tr>\n",
       "<tr><td>H2O cluster version:</td>\n",
       "<td>3.18.0.11</td></tr>\n",
       "<tr><td>H2O cluster version age:</td>\n",
       "<td>15 days </td></tr>\n",
       "<tr><td>H2O cluster name:</td>\n",
       "<td>prodi</td></tr>\n",
       "<tr><td>H2O cluster total nodes:</td>\n",
       "<td>1</td></tr>\n",
       "<tr><td>H2O cluster free memory:</td>\n",
       "<td>3.973 Gb</td></tr>\n",
       "<tr><td>H2O cluster total cores:</td>\n",
       "<td>4</td></tr>\n",
       "<tr><td>H2O cluster allowed cores:</td>\n",
       "<td>4</td></tr>\n",
       "<tr><td>H2O cluster status:</td>\n",
       "<td>accepting new members, healthy</td></tr>\n",
       "<tr><td>H2O connection url:</td>\n",
       "<td>http://localhost:54321</td></tr>\n",
       "<tr><td>H2O connection proxy:</td>\n",
       "<td>None</td></tr>\n",
       "<tr><td>H2O internal security:</td>\n",
       "<td>False</td></tr>\n",
       "<tr><td>H2O API Extensions:</td>\n",
       "<td>Algos, AutoML, Core V3, Core V4</td></tr>\n",
       "<tr><td>Python version:</td>\n",
       "<td>3.5.4 final</td></tr></table></div>"
      ],
      "text/plain": [
       "--------------------------  -------------------------------\n",
       "H2O cluster uptime:         2 mins 09 secs\n",
       "H2O cluster timezone:       America/Los_Angeles\n",
       "H2O data parsing timezone:  UTC\n",
       "H2O cluster version:        3.18.0.11\n",
       "H2O cluster version age:    15 days\n",
       "H2O cluster name:           prodi\n",
       "H2O cluster total nodes:    1\n",
       "H2O cluster free memory:    3.973 Gb\n",
       "H2O cluster total cores:    4\n",
       "H2O cluster allowed cores:  4\n",
       "H2O cluster status:         accepting new members, healthy\n",
       "H2O connection url:         http://localhost:54321\n",
       "H2O connection proxy:\n",
       "H2O internal security:      False\n",
       "H2O API Extensions:         Algos, AutoML, Core V3, Core V4\n",
       "Python version:             3.5.4 final\n",
       "--------------------------  -------------------------------"
      ]
     },
     "metadata": {},
     "output_type": "display_data"
    }
   ],
   "source": [
    "h2o.init()"
   ]
  },
  {
   "cell_type": "code",
   "execution_count": 21,
   "metadata": {},
   "outputs": [
    {
     "name": "stdout",
     "output_type": "stream",
     "text": [
      "Parse progress: |█████████████████████████████████████████████████████████| 100%\n",
      "Parse progress: |█████████████████████████████████████████████████████████| 100%\n"
     ]
    }
   ],
   "source": [
    "X_train_h2o = h2o.H2OFrame(X_train)\n",
    "X_test_h2o = h2o.H2OFrame(X_test)"
   ]
  },
  {
   "cell_type": "code",
   "execution_count": 32,
   "metadata": {},
   "outputs": [
    {
     "name": "stdout",
     "output_type": "stream",
     "text": [
      "deeplearning Model Build progress: |██████████████████████████████████████| 100%\n"
     ]
    }
   ],
   "source": [
    "denoised_model = H2OAutoEncoderEstimator(activation=\"Tanh\", \n",
    "    hidden=[20,10,5,10,20], l1=1e-4, ignore_const_cols=False, epochs=100)\n",
    " \n",
    "denoised_model.train(training_frame=X_train_h2o)"
   ]
  },
  {
   "cell_type": "code",
   "execution_count": 33,
   "metadata": {},
   "outputs": [],
   "source": [
    "denoised_test_rec_error = denoised_model.anomaly(X_test_h2o) * 100\n",
    "denoised_test_rec_error_df = denoised_test_rec_error.as_data_frame()"
   ]
  },
  {
   "cell_type": "code",
   "execution_count": 34,
   "metadata": {},
   "outputs": [
    {
     "data": {
      "text/html": [
       "<div>\n",
       "<style scoped>\n",
       "    .dataframe tbody tr th:only-of-type {\n",
       "        vertical-align: middle;\n",
       "    }\n",
       "\n",
       "    .dataframe tbody tr th {\n",
       "        vertical-align: top;\n",
       "    }\n",
       "\n",
       "    .dataframe thead th {\n",
       "        text-align: right;\n",
       "    }\n",
       "</style>\n",
       "<table border=\"1\" class=\"dataframe\">\n",
       "  <thead>\n",
       "    <tr style=\"text-align: right;\">\n",
       "      <th></th>\n",
       "      <th>Reconstruction.MSE</th>\n",
       "    </tr>\n",
       "  </thead>\n",
       "  <tbody>\n",
       "    <tr>\n",
       "      <th>count</th>\n",
       "      <td>34807.000000</td>\n",
       "    </tr>\n",
       "    <tr>\n",
       "      <th>mean</th>\n",
       "      <td>0.213972</td>\n",
       "    </tr>\n",
       "    <tr>\n",
       "      <th>std</th>\n",
       "      <td>0.481744</td>\n",
       "    </tr>\n",
       "    <tr>\n",
       "      <th>min</th>\n",
       "      <td>0.010827</td>\n",
       "    </tr>\n",
       "    <tr>\n",
       "      <th>25%</th>\n",
       "      <td>0.062537</td>\n",
       "    </tr>\n",
       "    <tr>\n",
       "      <th>50%</th>\n",
       "      <td>0.092787</td>\n",
       "    </tr>\n",
       "    <tr>\n",
       "      <th>75%</th>\n",
       "      <td>0.142051</td>\n",
       "    </tr>\n",
       "    <tr>\n",
       "      <th>max</th>\n",
       "      <td>7.676604</td>\n",
       "    </tr>\n",
       "  </tbody>\n",
       "</table>\n",
       "</div>"
      ],
      "text/plain": [
       "       Reconstruction.MSE\n",
       "count        34807.000000\n",
       "mean             0.213972\n",
       "std              0.481744\n",
       "min              0.010827\n",
       "25%              0.062537\n",
       "50%              0.092787\n",
       "75%              0.142051\n",
       "max              7.676604"
      ]
     },
     "execution_count": 34,
     "metadata": {},
     "output_type": "execute_result"
    }
   ],
   "source": [
    "denoised_test_rec_error_df.describe()"
   ]
  },
  {
   "cell_type": "code",
   "execution_count": 35,
   "metadata": {},
   "outputs": [],
   "source": [
    "true_class=pd.DataFrame({'true_class': y_test.values})"
   ]
  },
  {
   "cell_type": "code",
   "execution_count": 36,
   "metadata": {},
   "outputs": [
    {
     "data": {
      "text/html": [
       "<div>\n",
       "<style scoped>\n",
       "    .dataframe tbody tr th:only-of-type {\n",
       "        vertical-align: middle;\n",
       "    }\n",
       "\n",
       "    .dataframe tbody tr th {\n",
       "        vertical-align: top;\n",
       "    }\n",
       "\n",
       "    .dataframe thead th {\n",
       "        text-align: right;\n",
       "    }\n",
       "</style>\n",
       "<table border=\"1\" class=\"dataframe\">\n",
       "  <thead>\n",
       "    <tr style=\"text-align: right;\">\n",
       "      <th></th>\n",
       "      <th>reconstruction_error</th>\n",
       "      <th>true_class</th>\n",
       "    </tr>\n",
       "  </thead>\n",
       "  <tbody>\n",
       "    <tr>\n",
       "      <th>count</th>\n",
       "      <td>34807.000000</td>\n",
       "      <td>34807.000000</td>\n",
       "    </tr>\n",
       "    <tr>\n",
       "      <th>mean</th>\n",
       "      <td>0.213972</td>\n",
       "      <td>0.014135</td>\n",
       "    </tr>\n",
       "    <tr>\n",
       "      <th>std</th>\n",
       "      <td>0.481744</td>\n",
       "      <td>0.118050</td>\n",
       "    </tr>\n",
       "    <tr>\n",
       "      <th>min</th>\n",
       "      <td>0.010827</td>\n",
       "      <td>0.000000</td>\n",
       "    </tr>\n",
       "    <tr>\n",
       "      <th>25%</th>\n",
       "      <td>0.062537</td>\n",
       "      <td>0.000000</td>\n",
       "    </tr>\n",
       "    <tr>\n",
       "      <th>50%</th>\n",
       "      <td>0.092787</td>\n",
       "      <td>0.000000</td>\n",
       "    </tr>\n",
       "    <tr>\n",
       "      <th>75%</th>\n",
       "      <td>0.142051</td>\n",
       "      <td>0.000000</td>\n",
       "    </tr>\n",
       "    <tr>\n",
       "      <th>max</th>\n",
       "      <td>7.676604</td>\n",
       "      <td>1.000000</td>\n",
       "    </tr>\n",
       "  </tbody>\n",
       "</table>\n",
       "</div>"
      ],
      "text/plain": [
       "       reconstruction_error    true_class\n",
       "count          34807.000000  34807.000000\n",
       "mean               0.213972      0.014135\n",
       "std                0.481744      0.118050\n",
       "min                0.010827      0.000000\n",
       "25%                0.062537      0.000000\n",
       "50%                0.092787      0.000000\n",
       "75%                0.142051      0.000000\n",
       "max                7.676604      1.000000"
      ]
     },
     "execution_count": 36,
     "metadata": {},
     "output_type": "execute_result"
    },
    {
     "data": {
      "text/html": [
       "<div>\n",
       "<style scoped>\n",
       "    .dataframe tbody tr th:only-of-type {\n",
       "        vertical-align: middle;\n",
       "    }\n",
       "\n",
       "    .dataframe tbody tr th {\n",
       "        vertical-align: top;\n",
       "    }\n",
       "\n",
       "    .dataframe thead th {\n",
       "        text-align: right;\n",
       "    }\n",
       "</style>\n",
       "<table border=\"1\" class=\"dataframe\">\n",
       "  <thead>\n",
       "    <tr style=\"text-align: right;\">\n",
       "      <th></th>\n",
       "      <th>reconstruction_error</th>\n",
       "      <th>true_class</th>\n",
       "    </tr>\n",
       "  </thead>\n",
       "  <tbody>\n",
       "    <tr>\n",
       "      <th>0</th>\n",
       "      <td>0.122149</td>\n",
       "      <td>0</td>\n",
       "    </tr>\n",
       "    <tr>\n",
       "      <th>1</th>\n",
       "      <td>0.145016</td>\n",
       "      <td>0</td>\n",
       "    </tr>\n",
       "    <tr>\n",
       "      <th>2</th>\n",
       "      <td>0.136125</td>\n",
       "      <td>0</td>\n",
       "    </tr>\n",
       "    <tr>\n",
       "      <th>3</th>\n",
       "      <td>0.097501</td>\n",
       "      <td>0</td>\n",
       "    </tr>\n",
       "    <tr>\n",
       "      <th>4</th>\n",
       "      <td>0.060835</td>\n",
       "      <td>0</td>\n",
       "    </tr>\n",
       "  </tbody>\n",
       "</table>\n",
       "</div>"
      ],
      "text/plain": [
       "   reconstruction_error  true_class\n",
       "0              0.122149           0\n",
       "1              0.145016           0\n",
       "2              0.136125           0\n",
       "3              0.097501           0\n",
       "4              0.060835           0"
      ]
     },
     "execution_count": 36,
     "metadata": {},
     "output_type": "execute_result"
    }
   ],
   "source": [
    "error_df_h2o = pd.concat([denoised_test_rec_error_df,true_class],axis=1)\n",
    "error_df_h2o.rename(columns={'Reconstruction.MSE': 'reconstruction_error'}, inplace=True)\n",
    "error_df_h2o.describe()\n",
    "\n",
    "error_df_h2o.head()"
   ]
  },
  {
   "cell_type": "code",
   "execution_count": 39,
   "metadata": {},
   "outputs": [
    {
     "data": {
      "image/png": "[encoded data removed]",
      "text/plain": [
       "<matplotlib.figure.Figure at 0x24386fec5c0>"
      ]
     },
     "metadata": {},
     "output_type": "display_data"
    }
   ],
   "source": [
    "threshold_h2o = 2\n",
    "\n",
    "groups = error_df_h2o.groupby('true_class')\n",
    "fig, ax = plt.subplots()\n",
    "\n",
    "for name, group in groups:\n",
    "    ax.plot(group.index, group.reconstruction_error, marker='o', ms=3.5, linestyle='',\n",
    "            label= \"Fraud\" if name == 1 else \"Normal\")\n",
    "ax.hlines(threshold_h2o, ax.get_xlim()[0], ax.get_xlim()[1], colors=\"r\", zorder=100, label='Threshold')\n",
    "ax.legend()\n",
    "plt.title(\"Reconstruction error for different classes\")\n",
    "plt.ylabel(\"Reconstruction error\")\n",
    "plt.xlabel(\"Data point index\")\n",
    "plt.show();"
   ]
  },
  {
   "cell_type": "code",
   "execution_count": 40,
   "metadata": {},
   "outputs": [
    {
     "data": {
      "text/plain": [
       "<matplotlib.figure.Figure at 0x24388a82e80>"
      ]
     },
     "execution_count": 40,
     "metadata": {},
     "output_type": "execute_result"
    },
    {
     "data": {
      "text/plain": [
       "<matplotlib.axes._subplots.AxesSubplot at 0x24388af17b8>"
      ]
     },
     "execution_count": 40,
     "metadata": {},
     "output_type": "execute_result"
    },
    {
     "data": {
      "text/plain": [
       "Text(0.5,1,'Confusion matrix')"
      ]
     },
     "execution_count": 40,
     "metadata": {},
     "output_type": "execute_result"
    },
    {
     "data": {
      "text/plain": [
       "Text(87,0.5,'True class')"
      ]
     },
     "execution_count": 40,
     "metadata": {},
     "output_type": "execute_result"
    },
    {
     "data": {
      "text/plain": [
       "Text(0.5,87,'Predicted class')"
      ]
     },
     "execution_count": 40,
     "metadata": {},
     "output_type": "execute_result"
    },
    {
     "data": {
      "image/png": "[encoded data removed]",
      "text/plain": [
       "<matplotlib.figure.Figure at 0x24388a82e80>"
      ]
     },
     "metadata": {},
     "output_type": "display_data"
    },
    {
     "data": {
      "text/plain": [
       "0.5007112375533428"
      ]
     },
     "execution_count": 40,
     "metadata": {},
     "output_type": "execute_result"
    }
   ],
   "source": [
    "y_pred_h2o = [1 if e > threshold_h2o else 0 for e in error_df_h2o.reconstruction_error.values]\n",
    "conf_matrix_h2o = confusion_matrix(error_df_h2o.true_class, y_pred_h2o)\n",
    "plt.figure(figsize=(12, 12))\n",
    "sns.heatmap(conf_matrix_h2o, annot=True, fmt=\"d\");\n",
    "plt.title(\"Confusion matrix\")\n",
    "plt.ylabel('True class')\n",
    "plt.xlabel('Predicted class')\n",
    "plt.show()\n",
    "\n",
    "f1_score(error_df_h2o.true_class, y_pred_h2o)"
   ]
  },
  {
   "cell_type": "markdown",
   "metadata": {},
   "source": [
    "# H2O Pre-trained autoencoder for supervised learning"
   ]
  },
  {
   "cell_type": "code",
   "execution_count": 22,
   "metadata": {},
   "outputs": [],
   "source": [
    "X = df_new\n",
    "#y = df_new.Class\n",
    "\n",
    "#len(X)\n",
    "#len(y)"
   ]
  },
  {
   "cell_type": "code",
   "execution_count": 23,
   "metadata": {},
   "outputs": [],
   "source": [
    "train, test = train_test_split(X, random_state=0, test_size = 0.12221, stratify=X.Class)"
   ]
  },
  {
   "cell_type": "code",
   "execution_count": 24,
   "metadata": {},
   "outputs": [
    {
     "data": {
      "text/html": [
       "<div>\n",
       "<style scoped>\n",
       "    .dataframe tbody tr th:only-of-type {\n",
       "        vertical-align: middle;\n",
       "    }\n",
       "\n",
       "    .dataframe tbody tr th {\n",
       "        vertical-align: top;\n",
       "    }\n",
       "\n",
       "    .dataframe thead th {\n",
       "        text-align: right;\n",
       "    }\n",
       "</style>\n",
       "<table border=\"1\" class=\"dataframe\">\n",
       "  <thead>\n",
       "    <tr style=\"text-align: right;\">\n",
       "      <th></th>\n",
       "      <th>V1</th>\n",
       "      <th>V2</th>\n",
       "      <th>V3</th>\n",
       "      <th>V4</th>\n",
       "      <th>V5</th>\n",
       "      <th>V6</th>\n",
       "      <th>V7</th>\n",
       "      <th>V8</th>\n",
       "      <th>V9</th>\n",
       "      <th>V10</th>\n",
       "      <th>...</th>\n",
       "      <th>Time_cluster_(50400.0, 54000.0]</th>\n",
       "      <th>Time_cluster_(54000.0, 57600.0]</th>\n",
       "      <th>Time_cluster_(57600.0, 61200.0]</th>\n",
       "      <th>Time_cluster_(61200.0, 64800.0]</th>\n",
       "      <th>Time_cluster_(64800.0, 68400.0]</th>\n",
       "      <th>Time_cluster_(68400.0, 72000.0]</th>\n",
       "      <th>Time_cluster_(72000.0, 75600.0]</th>\n",
       "      <th>Time_cluster_(75600.0, 79200.0]</th>\n",
       "      <th>Time_cluster_(79200.0, 82800.0]</th>\n",
       "      <th>Time_cluster_(82800.0, 86400.0]</th>\n",
       "    </tr>\n",
       "  </thead>\n",
       "  <tbody>\n",
       "    <tr>\n",
       "      <th>57286</th>\n",
       "      <td>0.897090</td>\n",
       "      <td>-0.224849</td>\n",
       "      <td>0.091052</td>\n",
       "      <td>1.267048</td>\n",
       "      <td>-0.469218</td>\n",
       "      <td>-0.909085</td>\n",
       "      <td>0.440814</td>\n",
       "      <td>-0.266607</td>\n",
       "      <td>-0.002861</td>\n",
       "      <td>-0.061727</td>\n",
       "      <td>...</td>\n",
       "      <td>0</td>\n",
       "      <td>0</td>\n",
       "      <td>0</td>\n",
       "      <td>0</td>\n",
       "      <td>0</td>\n",
       "      <td>0</td>\n",
       "      <td>0</td>\n",
       "      <td>0</td>\n",
       "      <td>0</td>\n",
       "      <td>0</td>\n",
       "    </tr>\n",
       "    <tr>\n",
       "      <th>61925</th>\n",
       "      <td>1.136690</td>\n",
       "      <td>-0.775679</td>\n",
       "      <td>0.713119</td>\n",
       "      <td>-0.654121</td>\n",
       "      <td>-1.260787</td>\n",
       "      <td>-0.697379</td>\n",
       "      <td>-0.541589</td>\n",
       "      <td>-0.124737</td>\n",
       "      <td>-1.159504</td>\n",
       "      <td>0.690001</td>\n",
       "      <td>...</td>\n",
       "      <td>0</td>\n",
       "      <td>0</td>\n",
       "      <td>0</td>\n",
       "      <td>0</td>\n",
       "      <td>0</td>\n",
       "      <td>0</td>\n",
       "      <td>0</td>\n",
       "      <td>0</td>\n",
       "      <td>0</td>\n",
       "      <td>0</td>\n",
       "    </tr>\n",
       "    <tr>\n",
       "      <th>47605</th>\n",
       "      <td>-4.124893</td>\n",
       "      <td>-3.000977</td>\n",
       "      <td>1.988954</td>\n",
       "      <td>-0.128288</td>\n",
       "      <td>0.828928</td>\n",
       "      <td>-1.400278</td>\n",
       "      <td>-0.162367</td>\n",
       "      <td>-0.239445</td>\n",
       "      <td>1.656449</td>\n",
       "      <td>-0.034424</td>\n",
       "      <td>...</td>\n",
       "      <td>0</td>\n",
       "      <td>0</td>\n",
       "      <td>0</td>\n",
       "      <td>0</td>\n",
       "      <td>0</td>\n",
       "      <td>0</td>\n",
       "      <td>0</td>\n",
       "      <td>0</td>\n",
       "      <td>0</td>\n",
       "      <td>0</td>\n",
       "    </tr>\n",
       "    <tr>\n",
       "      <th>67236</th>\n",
       "      <td>-0.539268</td>\n",
       "      <td>-0.328834</td>\n",
       "      <td>0.797263</td>\n",
       "      <td>-2.072748</td>\n",
       "      <td>1.857666</td>\n",
       "      <td>4.103744</td>\n",
       "      <td>0.290617</td>\n",
       "      <td>0.595669</td>\n",
       "      <td>0.937832</td>\n",
       "      <td>-0.622743</td>\n",
       "      <td>...</td>\n",
       "      <td>1</td>\n",
       "      <td>0</td>\n",
       "      <td>0</td>\n",
       "      <td>0</td>\n",
       "      <td>0</td>\n",
       "      <td>0</td>\n",
       "      <td>0</td>\n",
       "      <td>0</td>\n",
       "      <td>0</td>\n",
       "      <td>0</td>\n",
       "    </tr>\n",
       "    <tr>\n",
       "      <th>197189</th>\n",
       "      <td>2.148178</td>\n",
       "      <td>-0.884798</td>\n",
       "      <td>-1.245433</td>\n",
       "      <td>-1.100933</td>\n",
       "      <td>-0.294776</td>\n",
       "      <td>-0.124489</td>\n",
       "      <td>-0.651621</td>\n",
       "      <td>-0.080744</td>\n",
       "      <td>-0.552997</td>\n",
       "      <td>0.901167</td>\n",
       "      <td>...</td>\n",
       "      <td>0</td>\n",
       "      <td>0</td>\n",
       "      <td>0</td>\n",
       "      <td>0</td>\n",
       "      <td>0</td>\n",
       "      <td>0</td>\n",
       "      <td>0</td>\n",
       "      <td>0</td>\n",
       "      <td>0</td>\n",
       "      <td>0</td>\n",
       "    </tr>\n",
       "  </tbody>\n",
       "</table>\n",
       "<p>5 rows × 54 columns</p>\n",
       "</div>"
      ],
      "text/plain": [
       "              V1        V2        V3        V4        V5        V6        V7  \\\n",
       "57286   0.897090 -0.224849  0.091052  1.267048 -0.469218 -0.909085  0.440814   \n",
       "61925   1.136690 -0.775679  0.713119 -0.654121 -1.260787 -0.697379 -0.541589   \n",
       "47605  -4.124893 -3.000977  1.988954 -0.128288  0.828928 -1.400278 -0.162367   \n",
       "67236  -0.539268 -0.328834  0.797263 -2.072748  1.857666  4.103744  0.290617   \n",
       "197189  2.148178 -0.884798 -1.245433 -1.100933 -0.294776 -0.124489 -0.651621   \n",
       "\n",
       "              V8        V9       V10               ...                 \\\n",
       "57286  -0.266607 -0.002861 -0.061727               ...                  \n",
       "61925  -0.124737 -1.159504  0.690001               ...                  \n",
       "47605  -0.239445  1.656449 -0.034424               ...                  \n",
       "67236   0.595669  0.937832 -0.622743               ...                  \n",
       "197189 -0.080744 -0.552997  0.901167               ...                  \n",
       "\n",
       "        Time_cluster_(50400.0, 54000.0]  Time_cluster_(54000.0, 57600.0]  \\\n",
       "57286                                 0                                0   \n",
       "61925                                 0                                0   \n",
       "47605                                 0                                0   \n",
       "67236                                 1                                0   \n",
       "197189                                0                                0   \n",
       "\n",
       "        Time_cluster_(57600.0, 61200.0]  Time_cluster_(61200.0, 64800.0]  \\\n",
       "57286                                 0                                0   \n",
       "61925                                 0                                0   \n",
       "47605                                 0                                0   \n",
       "67236                                 0                                0   \n",
       "197189                                0                                0   \n",
       "\n",
       "        Time_cluster_(64800.0, 68400.0]  Time_cluster_(68400.0, 72000.0]  \\\n",
       "57286                                 0                                0   \n",
       "61925                                 0                                0   \n",
       "47605                                 0                                0   \n",
       "67236                                 0                                0   \n",
       "197189                                0                                0   \n",
       "\n",
       "        Time_cluster_(72000.0, 75600.0]  Time_cluster_(75600.0, 79200.0]  \\\n",
       "57286                                 0                                0   \n",
       "61925                                 0                                0   \n",
       "47605                                 0                                0   \n",
       "67236                                 0                                0   \n",
       "197189                                0                                0   \n",
       "\n",
       "        Time_cluster_(79200.0, 82800.0]  Time_cluster_(82800.0, 86400.0]  \n",
       "57286                                 0                                0  \n",
       "61925                                 0                                0  \n",
       "47605                                 0                                0  \n",
       "67236                                 0                                0  \n",
       "197189                                0                                0  \n",
       "\n",
       "[5 rows x 54 columns]"
      ]
     },
     "execution_count": 24,
     "metadata": {},
     "output_type": "execute_result"
    },
    {
     "data": {
      "text/plain": [
       "34807"
      ]
     },
     "execution_count": 24,
     "metadata": {},
     "output_type": "execute_result"
    },
    {
     "data": {
      "text/plain": [
       "250000"
      ]
     },
     "execution_count": 24,
     "metadata": {},
     "output_type": "execute_result"
    }
   ],
   "source": [
    "test.head()\n",
    "len(test)\n",
    "len(train)"
   ]
  },
  {
   "cell_type": "code",
   "execution_count": 25,
   "metadata": {},
   "outputs": [
    {
     "name": "stdout",
     "output_type": "stream",
     "text": [
      "Parse progress: |█████████████████████████████████████████████████████████| 100%\n",
      "Parse progress: |█████████████████████████████████████████████████████████| 100%\n"
     ]
    }
   ],
   "source": [
    "train_h2o = h2o.H2OFrame(train)\n",
    "test_h2o = h2o.H2OFrame(test)"
   ]
  },
  {
   "cell_type": "code",
   "execution_count": 26,
   "metadata": {},
   "outputs": [],
   "source": [
    "train_a,train_d = train_h2o.split_frame(ratios=[0.8], seed=1)"
   ]
  },
  {
   "cell_type": "code",
   "execution_count": 27,
   "metadata": {},
   "outputs": [
    {
     "data": {
      "text/plain": [
       "200140"
      ]
     },
     "execution_count": 27,
     "metadata": {},
     "output_type": "execute_result"
    },
    {
     "data": {
      "text/plain": [
       "49860"
      ]
     },
     "execution_count": 27,
     "metadata": {},
     "output_type": "execute_result"
    }
   ],
   "source": [
    "len(train_a)\n",
    "len(train_d)"
   ]
  },
  {
   "cell_type": "code",
   "execution_count": 28,
   "metadata": {},
   "outputs": [
    {
     "data": {
      "text/plain": [
       "333.0"
      ]
     },
     "execution_count": 28,
     "metadata": {},
     "output_type": "execute_result"
    },
    {
     "data": {
      "text/plain": [
       "99.0"
      ]
     },
     "execution_count": 28,
     "metadata": {},
     "output_type": "execute_result"
    }
   ],
   "source": [
    "train_a['Class'].sum()\n",
    "train_d['Class'].sum()"
   ]
  },
  {
   "cell_type": "markdown",
   "metadata": {},
   "source": [
    "# Train the autoencoder"
   ]
  },
  {
   "cell_type": "code",
   "execution_count": 29,
   "metadata": {},
   "outputs": [
    {
     "data": {
      "text/plain": [
       "['V1',\n",
       " 'V2',\n",
       " 'V3',\n",
       " 'V4',\n",
       " 'V5',\n",
       " 'V6',\n",
       " 'V7',\n",
       " 'V8',\n",
       " 'V9',\n",
       " 'V10',\n",
       " 'V11',\n",
       " 'V12',\n",
       " 'V13',\n",
       " 'V14',\n",
       " 'V15',\n",
       " 'V16',\n",
       " 'V17',\n",
       " 'V18',\n",
       " 'V19',\n",
       " 'V20',\n",
       " 'V21',\n",
       " 'V22',\n",
       " 'V23',\n",
       " 'V24',\n",
       " 'V25',\n",
       " 'V26',\n",
       " 'V27',\n",
       " 'V28',\n",
       " 'Amount',\n",
       " 'Time_cluster_(-86.4, 3600.0]',\n",
       " 'Time_cluster_(3600.0, 7200.0]',\n",
       " 'Time_cluster_(7200.0, 10800.0]',\n",
       " 'Time_cluster_(10800.0, 14400.0]',\n",
       " 'Time_cluster_(14400.0, 18000.0]',\n",
       " 'Time_cluster_(18000.0, 21600.0]',\n",
       " 'Time_cluster_(21600.0, 25200.0]',\n",
       " 'Time_cluster_(25200.0, 28800.0]',\n",
       " 'Time_cluster_(28800.0, 32400.0]',\n",
       " 'Time_cluster_(32400.0, 36000.0]',\n",
       " 'Time_cluster_(36000.0, 39600.0]',\n",
       " 'Time_cluster_(39600.0, 43200.0]',\n",
       " 'Time_cluster_(43200.0, 46800.0]',\n",
       " 'Time_cluster_(46800.0, 50400.0]',\n",
       " 'Time_cluster_(50400.0, 54000.0]',\n",
       " 'Time_cluster_(54000.0, 57600.0]',\n",
       " 'Time_cluster_(57600.0, 61200.0]',\n",
       " 'Time_cluster_(61200.0, 64800.0]',\n",
       " 'Time_cluster_(64800.0, 68400.0]',\n",
       " 'Time_cluster_(68400.0, 72000.0]',\n",
       " 'Time_cluster_(72000.0, 75600.0]',\n",
       " 'Time_cluster_(75600.0, 79200.0]',\n",
       " 'Time_cluster_(79200.0, 82800.0]',\n",
       " 'Time_cluster_(82800.0, 86400.0]']"
      ]
     },
     "execution_count": 29,
     "metadata": {},
     "output_type": "execute_result"
    }
   ],
   "source": [
    "colnames = train.columns.tolist()\n",
    "colnames.remove('Class')\n",
    "colnames"
   ]
  },
  {
   "cell_type": "code",
   "execution_count": 94,
   "metadata": {},
   "outputs": [
    {
     "name": "stdout",
     "output_type": "stream",
     "text": [
      "deeplearning Model Build progress: |██████████████████████████████████████| 100%\n"
     ]
    }
   ],
   "source": [
    "#autoencoder = H2OAutoEncoderEstimator(activation=\"Tanh\", \n",
    "#    hidden=[20,10,5,10,20], l1=1e-4, ignore_const_cols=False, epochs=100, model_id=\"ae\")\n",
    " \n",
    "#autoencoder.train(x = colnames, training_frame=train_a)"
   ]
  },
  {
   "cell_type": "code",
   "execution_count": 292,
   "metadata": {},
   "outputs": [
    {
     "name": "stdout",
     "output_type": "stream",
     "text": [
      "deeplearning Model Build progress: |██████████████████████████████████████| 100%\n"
     ]
    }
   ],
   "source": [
    "# 1234\n",
    "# 99999999999\n",
    "# 99999999\n",
    "\n",
    "autoencoder_2 = H2OAutoEncoderEstimator(activation=\"Tanh\", \n",
    "    hidden=[20,10,5,10,20], l1=1e-4, ignore_const_cols=False, epochs=50, model_id=\"ae_2\",reproducible=True,seed=0)\n",
    " \n",
    "autoencoder_2.train(x = colnames, training_frame=train_a)"
   ]
  },
  {
   "cell_type": "code",
   "execution_count": 293,
   "metadata": {},
   "outputs": [],
   "source": [
    "train_d['Class']=train_d['Class'].asfactor()"
   ]
  },
  {
   "cell_type": "code",
   "execution_count": 303,
   "metadata": {},
   "outputs": [
    {
     "name": "stdout",
     "output_type": "stream",
     "text": [
      "deeplearning Model Build progress: |██████████████████████████████████████| 100%\n"
     ]
    }
   ],
   "source": [
    "pretrained_model_2 = H2ODeepLearningEstimator(activation=\"Tanh\", hidden=[20,10,5], epochs=5, reproducible=True,\n",
    "                                                seed=1234, ignore_const_cols=False, pretrained_autoencoder=\"ae_2\",\n",
    "                                                mini_batch_size=16,input_dropout_ratio=0.1,rate=0.001,balance_classes=True)\n",
    "pretrained_model_2.train(x = colnames, y= 'Class', training_frame=train_d)"
   ]
  },
  {
   "cell_type": "code",
   "execution_count": 304,
   "metadata": {},
   "outputs": [],
   "source": [
    "y = test_h2o['Class']\n",
    "X_test_h2o = test_h2o.drop(['Class'],axis=1)"
   ]
  },
  {
   "cell_type": "code",
   "execution_count": 305,
   "metadata": {},
   "outputs": [
    {
     "name": "stdout",
     "output_type": "stream",
     "text": [
      "deeplearning prediction progress: |███████████████████████████████████████| 100%\n"
     ]
    }
   ],
   "source": [
    "pred = pretrained_model_2.predict(X_test_h2o)"
   ]
  },
  {
   "cell_type": "code",
   "execution_count": 306,
   "metadata": {},
   "outputs": [],
   "source": [
    "y_prob = pred[:,2]"
   ]
  },
  {
   "cell_type": "code",
   "execution_count": 307,
   "metadata": {},
   "outputs": [
    {
     "data": {
      "text/html": [
       "<table>\n",
       "<thead>\n",
       "<tr><th style=\"text-align: right;\">         p1</th></tr>\n",
       "</thead>\n",
       "<tbody>\n",
       "<tr><td style=\"text-align: right;\">7.06981e-08</td></tr>\n",
       "<tr><td style=\"text-align: right;\">5.72947e-08</td></tr>\n",
       "<tr><td style=\"text-align: right;\">7.25778e-07</td></tr>\n",
       "<tr><td style=\"text-align: right;\">3.85452e-07</td></tr>\n",
       "<tr><td style=\"text-align: right;\">6.20576e-07</td></tr>\n",
       "<tr><td style=\"text-align: right;\">3.62054e-09</td></tr>\n",
       "<tr><td style=\"text-align: right;\">5.45585e-06</td></tr>\n",
       "<tr><td style=\"text-align: right;\">1.02156e-07</td></tr>\n",
       "<tr><td style=\"text-align: right;\">2.6142e-07 </td></tr>\n",
       "<tr><td style=\"text-align: right;\">5.16686e-06</td></tr>\n",
       "</tbody>\n",
       "</table>"
      ]
     },
     "metadata": {},
     "output_type": "display_data"
    },
    {
     "data": {
      "text/plain": []
     },
     "execution_count": 307,
     "metadata": {},
     "output_type": "execute_result"
    }
   ],
   "source": [
    "y_prob"
   ]
  },
  {
   "cell_type": "code",
   "execution_count": 308,
   "metadata": {},
   "outputs": [],
   "source": [
    "pred_threshold=0.5\n",
    "y_pred = ((y_prob>=pred_threshold)*1).as_data_frame()\n",
    "y_test = y.as_data_frame()"
   ]
  },
  {
   "cell_type": "code",
   "execution_count": 309,
   "metadata": {},
   "outputs": [
    {
     "data": {
      "text/plain": [
       "<matplotlib.figure.Figure at 0x14f04839b70>"
      ]
     },
     "execution_count": 309,
     "metadata": {},
     "output_type": "execute_result"
    },
    {
     "data": {
      "text/plain": [
       "<matplotlib.axes._subplots.AxesSubplot at 0x14f04526be0>"
      ]
     },
     "execution_count": 309,
     "metadata": {},
     "output_type": "execute_result"
    },
    {
     "data": {
      "text/plain": [
       "Text(0.5,1,'Confusion matrix')"
      ]
     },
     "execution_count": 309,
     "metadata": {},
     "output_type": "execute_result"
    },
    {
     "data": {
      "text/plain": [
       "Text(87,0.5,'True class')"
      ]
     },
     "execution_count": 309,
     "metadata": {},
     "output_type": "execute_result"
    },
    {
     "data": {
      "text/plain": [
       "Text(0.5,87,'Predicted class')"
      ]
     },
     "execution_count": 309,
     "metadata": {},
     "output_type": "execute_result"
    },
    {
     "data": {
      "image/png": "[encoded data removed]",
      "text/plain": [
       "<matplotlib.figure.Figure at 0x14f04839b70>"
      ]
     },
     "metadata": {},
     "output_type": "display_data"
    },
    {
     "data": {
      "text/plain": [
       "0.7741935483870969"
      ]
     },
     "execution_count": 309,
     "metadata": {},
     "output_type": "execute_result"
    },
    {
     "data": {
      "text/plain": [
       "0.9290394374574302"
      ]
     },
     "execution_count": 309,
     "metadata": {},
     "output_type": "execute_result"
    }
   ],
   "source": [
    "conf_matrix_d = confusion_matrix(y_test.values, y_pred.values)\n",
    "plt.figure(figsize=(12, 12))\n",
    "sns.heatmap(conf_matrix_d, annot=True, fmt=\"d\");\n",
    "plt.title(\"Confusion matrix\")\n",
    "plt.ylabel('True class')\n",
    "plt.xlabel('Predicted class')\n",
    "plt.show()\n",
    "\n",
    "f1_score(y_test, y_pred)\n",
    "roc_auc_score(y_test,y_prob.as_data_frame())"
   ]
  },
  {
   "cell_type": "markdown",
   "metadata": {},
   "source": [
    "Save the models"
   ]
  },
  {
   "cell_type": "code",
   "execution_count": 107,
   "metadata": {},
   "outputs": [],
   "source": [
    "model_path_autoencoder = h2o.save_model(model=autoencoder, force=True)\n",
    "model_path_nn = h2o.save_model(model=pretrained_model, force=True)"
   ]
  },
  {
   "cell_type": "markdown",
   "metadata": {},
   "source": [
    "## Calculating Cost"
   ]
  },
  {
   "cell_type": "code",
   "execution_count": 207,
   "metadata": {},
   "outputs": [],
   "source": [
    "df_cost = pd.concat([X_test_h2o.as_data_frame(),y_test.rename(columns={'Class': 'actual'}),y_pred.rename(\n",
    "    columns={'p1': 'predicted'})],axis=1)"
   ]
  },
  {
   "cell_type": "code",
   "execution_count": 227,
   "metadata": {},
   "outputs": [
    {
     "data": {
      "text/plain": [
       "10307     89.99\n",
       "19339     89.99\n",
       "20619     89.99\n",
       "25833    119.99\n",
       "26554     89.99\n",
       "32954     89.99\n",
       "33076    102.00\n",
       "34004      1.00\n",
       "Name: Amount, dtype: float64"
      ]
     },
     "execution_count": 227,
     "metadata": {},
     "output_type": "execute_result"
    },
    {
     "data": {
      "text/plain": [
       "672.94"
      ]
     },
     "execution_count": 227,
     "metadata": {},
     "output_type": "execute_result"
    }
   ],
   "source": [
    "df_cost[(df_cost.actual==0) & (df_cost.predicted==1)].Amount\n",
    "df_cost[(df_cost.actual==0) & (df_cost.predicted==1)].Amount.sum()\n",
    "fp_cost = df_cost[(df_cost.actual==0) & (df_cost.predicted==1)].Amount.sum()*0.5\n",
    "merchant_fee_cost = (1.75/100)*fp_cost"
   ]
  },
  {
   "cell_type": "code",
   "execution_count": 228,
   "metadata": {},
   "outputs": [
    {
     "data": {
      "text/plain": [
       "1174      354.33\n",
       "2323        1.00\n",
       "3182        1.79\n",
       "5155        3.93\n",
       "10306     237.26\n",
       "10716       1.00\n",
       "13786       7.18\n",
       "15565       7.06\n",
       "15919       1.00\n",
       "17331       0.00\n",
       "19061      33.76\n",
       "25973       5.09\n",
       "26029     105.99\n",
       "32074    1096.99\n",
       "33237     108.51\n",
       "Name: Amount, dtype: float64"
      ]
     },
     "execution_count": 228,
     "metadata": {},
     "output_type": "execute_result"
    },
    {
     "data": {
      "text/plain": [
       "1964.89"
      ]
     },
     "execution_count": 228,
     "metadata": {},
     "output_type": "execute_result"
    }
   ],
   "source": [
    "df_cost[(df_cost.actual==1) & (df_cost.predicted==0)].Amount\n",
    "df_cost[(df_cost.actual==1) & (df_cost.predicted==0)].Amount.sum()\n",
    "fn_cost = df_cost[(df_cost.actual==1) & (df_cost.predicted==0)].Amount.sum()"
   ]
  },
  {
   "cell_type": "code",
   "execution_count": 229,
   "metadata": {},
   "outputs": [
    {
     "data": {
      "text/plain": [
       "2307.2482250000003"
      ]
     },
     "execution_count": 229,
     "metadata": {},
     "output_type": "execute_result"
    }
   ],
   "source": [
    "total_cost = fp_cost + merchant_fee_cost + fn_cost\n",
    "total_cost"
   ]
  },
  {
   "cell_type": "code",
   "execution_count": 225,
   "metadata": {},
   "outputs": [],
   "source": [
    "def total_fraud_cost(X,y_actual,y_pred):\n",
    "    \n",
    "    df_cost = pd.concat([X,y_actual.rename(columns={y_test.columns[0] : 'actual'}),y_pred.rename(\n",
    "    columns={y_pred.columns[0]: 'predicted'})],axis=1)\n",
    "    \n",
    "    fp_cost = df_cost[(df_cost.actual==0) & (df_cost.predicted==1)].Amount.sum()*0.5\n",
    "    merchant_fee_cost = (1.75/100)*fp_cost\n",
    "    fn_cost = df_cost[(df_cost.actual==1) & (df_cost.predicted==0)].Amount.sum()\n",
    "    total_cost = fp_cost + merchant_fee_cost + fn_cost\n",
    "    return total_cost"
   ]
  },
  {
   "cell_type": "code",
   "execution_count": 310,
   "metadata": {},
   "outputs": [
    {
     "data": {
      "text/plain": [
       "2592.5145624999996"
      ]
     },
     "execution_count": 310,
     "metadata": {},
     "output_type": "execute_result"
    }
   ],
   "source": [
    "total_fraud_cost(X_test_h2o.as_data_frame(),y_test,y_pred)"
   ]
  },
  {
   "cell_type": "code",
   "execution_count": null,
   "metadata": {},
   "outputs": [],
   "source": []
  }
 ],
 "metadata": {
  "kernelspec": {
   "display_name": "Python 3",
   "language": "python",
   "name": "python3"
  },
  "language_info": {
   "codemirror_mode": {
    "name": "ipython",
    "version": 3
   },
   "file_extension": ".py",
   "mimetype": "text/x-python",
   "name": "python",
   "nbconvert_exporter": "python",
   "pygments_lexer": "ipython3",
   "version": "3.5.4"
  }
 },
 "nbformat": 4,
 "nbformat_minor": 2
}
