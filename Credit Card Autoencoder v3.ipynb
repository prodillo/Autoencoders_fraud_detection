{
 "cells": [
  {
   "cell_type": "code",
   "execution_count": 1,
   "metadata": {},
   "outputs": [],
   "source": [
    "# print all the outputs in a cell\n",
    "from IPython.core.interactiveshell import InteractiveShell\n",
    "InteractiveShell.ast_node_interactivity = \"all\"\n",
    "\n",
    "import warnings\n",
    "warnings.filterwarnings(\"ignore\")\n",
    "\n",
    "import numpy as np\n",
    "import pandas as pd\n",
    "import seaborn as sns"
   ]
  },
  {
   "cell_type": "code",
   "execution_count": 2,
   "metadata": {},
   "outputs": [],
   "source": [
    "df = pd.read_csv(\"creditcard.csv\")"
   ]
  },
  {
   "cell_type": "markdown",
   "metadata": {},
   "source": [
    "# Check data"
   ]
  },
  {
   "cell_type": "code",
   "execution_count": 3,
   "metadata": {},
   "outputs": [
    {
     "data": {
      "text/html": [
       "<div>\n",
       "<style scoped>\n",
       "    .dataframe tbody tr th:only-of-type {\n",
       "        vertical-align: middle;\n",
       "    }\n",
       "\n",
       "    .dataframe tbody tr th {\n",
       "        vertical-align: top;\n",
       "    }\n",
       "\n",
       "    .dataframe thead th {\n",
       "        text-align: right;\n",
       "    }\n",
       "</style>\n",
       "<table border=\"1\" class=\"dataframe\">\n",
       "  <thead>\n",
       "    <tr style=\"text-align: right;\">\n",
       "      <th></th>\n",
       "      <th>Time</th>\n",
       "      <th>V1</th>\n",
       "      <th>V2</th>\n",
       "      <th>V3</th>\n",
       "      <th>V4</th>\n",
       "      <th>V5</th>\n",
       "      <th>V6</th>\n",
       "      <th>V7</th>\n",
       "      <th>V8</th>\n",
       "      <th>V9</th>\n",
       "      <th>...</th>\n",
       "      <th>V21</th>\n",
       "      <th>V22</th>\n",
       "      <th>V23</th>\n",
       "      <th>V24</th>\n",
       "      <th>V25</th>\n",
       "      <th>V26</th>\n",
       "      <th>V27</th>\n",
       "      <th>V28</th>\n",
       "      <th>Amount</th>\n",
       "      <th>Class</th>\n",
       "    </tr>\n",
       "  </thead>\n",
       "  <tbody>\n",
       "    <tr>\n",
       "      <th>0</th>\n",
       "      <td>0.0</td>\n",
       "      <td>-1.359807</td>\n",
       "      <td>-0.072781</td>\n",
       "      <td>2.536347</td>\n",
       "      <td>1.378155</td>\n",
       "      <td>-0.338321</td>\n",
       "      <td>0.462388</td>\n",
       "      <td>0.239599</td>\n",
       "      <td>0.098698</td>\n",
       "      <td>0.363787</td>\n",
       "      <td>...</td>\n",
       "      <td>-0.018307</td>\n",
       "      <td>0.277838</td>\n",
       "      <td>-0.110474</td>\n",
       "      <td>0.066928</td>\n",
       "      <td>0.128539</td>\n",
       "      <td>-0.189115</td>\n",
       "      <td>0.133558</td>\n",
       "      <td>-0.021053</td>\n",
       "      <td>149.62</td>\n",
       "      <td>0</td>\n",
       "    </tr>\n",
       "    <tr>\n",
       "      <th>1</th>\n",
       "      <td>0.0</td>\n",
       "      <td>1.191857</td>\n",
       "      <td>0.266151</td>\n",
       "      <td>0.166480</td>\n",
       "      <td>0.448154</td>\n",
       "      <td>0.060018</td>\n",
       "      <td>-0.082361</td>\n",
       "      <td>-0.078803</td>\n",
       "      <td>0.085102</td>\n",
       "      <td>-0.255425</td>\n",
       "      <td>...</td>\n",
       "      <td>-0.225775</td>\n",
       "      <td>-0.638672</td>\n",
       "      <td>0.101288</td>\n",
       "      <td>-0.339846</td>\n",
       "      <td>0.167170</td>\n",
       "      <td>0.125895</td>\n",
       "      <td>-0.008983</td>\n",
       "      <td>0.014724</td>\n",
       "      <td>2.69</td>\n",
       "      <td>0</td>\n",
       "    </tr>\n",
       "    <tr>\n",
       "      <th>2</th>\n",
       "      <td>1.0</td>\n",
       "      <td>-1.358354</td>\n",
       "      <td>-1.340163</td>\n",
       "      <td>1.773209</td>\n",
       "      <td>0.379780</td>\n",
       "      <td>-0.503198</td>\n",
       "      <td>1.800499</td>\n",
       "      <td>0.791461</td>\n",
       "      <td>0.247676</td>\n",
       "      <td>-1.514654</td>\n",
       "      <td>...</td>\n",
       "      <td>0.247998</td>\n",
       "      <td>0.771679</td>\n",
       "      <td>0.909412</td>\n",
       "      <td>-0.689281</td>\n",
       "      <td>-0.327642</td>\n",
       "      <td>-0.139097</td>\n",
       "      <td>-0.055353</td>\n",
       "      <td>-0.059752</td>\n",
       "      <td>378.66</td>\n",
       "      <td>0</td>\n",
       "    </tr>\n",
       "    <tr>\n",
       "      <th>3</th>\n",
       "      <td>1.0</td>\n",
       "      <td>-0.966272</td>\n",
       "      <td>-0.185226</td>\n",
       "      <td>1.792993</td>\n",
       "      <td>-0.863291</td>\n",
       "      <td>-0.010309</td>\n",
       "      <td>1.247203</td>\n",
       "      <td>0.237609</td>\n",
       "      <td>0.377436</td>\n",
       "      <td>-1.387024</td>\n",
       "      <td>...</td>\n",
       "      <td>-0.108300</td>\n",
       "      <td>0.005274</td>\n",
       "      <td>-0.190321</td>\n",
       "      <td>-1.175575</td>\n",
       "      <td>0.647376</td>\n",
       "      <td>-0.221929</td>\n",
       "      <td>0.062723</td>\n",
       "      <td>0.061458</td>\n",
       "      <td>123.50</td>\n",
       "      <td>0</td>\n",
       "    </tr>\n",
       "    <tr>\n",
       "      <th>4</th>\n",
       "      <td>2.0</td>\n",
       "      <td>-1.158233</td>\n",
       "      <td>0.877737</td>\n",
       "      <td>1.548718</td>\n",
       "      <td>0.403034</td>\n",
       "      <td>-0.407193</td>\n",
       "      <td>0.095921</td>\n",
       "      <td>0.592941</td>\n",
       "      <td>-0.270533</td>\n",
       "      <td>0.817739</td>\n",
       "      <td>...</td>\n",
       "      <td>-0.009431</td>\n",
       "      <td>0.798278</td>\n",
       "      <td>-0.137458</td>\n",
       "      <td>0.141267</td>\n",
       "      <td>-0.206010</td>\n",
       "      <td>0.502292</td>\n",
       "      <td>0.219422</td>\n",
       "      <td>0.215153</td>\n",
       "      <td>69.99</td>\n",
       "      <td>0</td>\n",
       "    </tr>\n",
       "  </tbody>\n",
       "</table>\n",
       "<p>5 rows × 31 columns</p>\n",
       "</div>"
      ],
      "text/plain": [
       "   Time        V1        V2        V3        V4        V5        V6        V7  \\\n",
       "0   0.0 -1.359807 -0.072781  2.536347  1.378155 -0.338321  0.462388  0.239599   \n",
       "1   0.0  1.191857  0.266151  0.166480  0.448154  0.060018 -0.082361 -0.078803   \n",
       "2   1.0 -1.358354 -1.340163  1.773209  0.379780 -0.503198  1.800499  0.791461   \n",
       "3   1.0 -0.966272 -0.185226  1.792993 -0.863291 -0.010309  1.247203  0.237609   \n",
       "4   2.0 -1.158233  0.877737  1.548718  0.403034 -0.407193  0.095921  0.592941   \n",
       "\n",
       "         V8        V9  ...         V21       V22       V23       V24  \\\n",
       "0  0.098698  0.363787  ...   -0.018307  0.277838 -0.110474  0.066928   \n",
       "1  0.085102 -0.255425  ...   -0.225775 -0.638672  0.101288 -0.339846   \n",
       "2  0.247676 -1.514654  ...    0.247998  0.771679  0.909412 -0.689281   \n",
       "3  0.377436 -1.387024  ...   -0.108300  0.005274 -0.190321 -1.175575   \n",
       "4 -0.270533  0.817739  ...   -0.009431  0.798278 -0.137458  0.141267   \n",
       "\n",
       "        V25       V26       V27       V28  Amount  Class  \n",
       "0  0.128539 -0.189115  0.133558 -0.021053  149.62      0  \n",
       "1  0.167170  0.125895 -0.008983  0.014724    2.69      0  \n",
       "2 -0.327642 -0.139097 -0.055353 -0.059752  378.66      0  \n",
       "3  0.647376 -0.221929  0.062723  0.061458  123.50      0  \n",
       "4 -0.206010  0.502292  0.219422  0.215153   69.99      0  \n",
       "\n",
       "[5 rows x 31 columns]"
      ]
     },
     "execution_count": 3,
     "metadata": {},
     "output_type": "execute_result"
    }
   ],
   "source": [
    "df.head()"
   ]
  },
  {
   "cell_type": "markdown",
   "metadata": {},
   "source": [
    "Let's check how many transactions are fraudulent:"
   ]
  },
  {
   "cell_type": "code",
   "execution_count": 4,
   "metadata": {},
   "outputs": [
    {
     "data": {
      "text/plain": [
       "<matplotlib.axes._subplots.AxesSubplot at 0x20598c82be0>"
      ]
     },
     "execution_count": 4,
     "metadata": {},
     "output_type": "execute_result"
    },
    {
     "data": {
      "image/png": "[encoded data removed]",
      "text/plain": [
       "<matplotlib.figure.Figure at 0x2058cddaeb8>"
      ]
     },
     "metadata": {},
     "output_type": "display_data"
    }
   ],
   "source": [
    "sns.countplot(x='Class', data=df)"
   ]
  },
  {
   "cell_type": "code",
   "execution_count": 5,
   "metadata": {},
   "outputs": [
    {
     "data": {
      "text/plain": [
       "492"
      ]
     },
     "execution_count": 5,
     "metadata": {},
     "output_type": "execute_result"
    },
    {
     "data": {
      "text/plain": [
       "284315"
      ]
     },
     "execution_count": 5,
     "metadata": {},
     "output_type": "execute_result"
    },
    {
     "data": {
      "text/plain": [
       "0.1727485630620034"
      ]
     },
     "execution_count": 5,
     "metadata": {},
     "output_type": "execute_result"
    }
   ],
   "source": [
    "len(df[df.Class==1])\n",
    "len(df[df.Class==0])\n",
    "len(df[df.Class==1])/len(df)*100"
   ]
  },
  {
   "cell_type": "markdown",
   "metadata": {},
   "source": [
    "We are dealing with a really imbalanced dataset, just 0.17% of the transactions are fraudulent."
   ]
  },
  {
   "cell_type": "markdown",
   "metadata": {},
   "source": [
    "Now let's take a look at the Time variable."
   ]
  },
  {
   "cell_type": "code",
   "execution_count": 6,
   "metadata": {},
   "outputs": [
    {
     "data": {
      "text/plain": [
       "86400"
      ]
     },
     "execution_count": 6,
     "metadata": {},
     "output_type": "execute_result"
    },
    {
     "data": {
      "text/plain": [
       "144787"
      ]
     },
     "execution_count": 6,
     "metadata": {},
     "output_type": "execute_result"
    },
    {
     "data": {
      "text/plain": [
       "140020"
      ]
     },
     "execution_count": 6,
     "metadata": {},
     "output_type": "execute_result"
    }
   ],
   "source": [
    "day = 3600 * 24\n",
    "day\n",
    "\n",
    "df['day']=(df.Time > day)+1\n",
    "len(df[df.day==1])\n",
    "len(df[df.day==2])\n",
    "\n"
   ]
  },
  {
   "cell_type": "markdown",
   "metadata": {},
   "source": [
    "We will split the Time in ten Time clusters:"
   ]
  },
  {
   "cell_type": "code",
   "execution_count": 7,
   "metadata": {},
   "outputs": [],
   "source": [
    "df['Time_day']=df.Time.apply(lambda x: x if x<=day else x-day)"
   ]
  },
  {
   "cell_type": "code",
   "execution_count": 8,
   "metadata": {},
   "outputs": [],
   "source": [
    "df['Time_cluster']=pd.cut(df.Time_day,bins=24)"
   ]
  },
  {
   "cell_type": "code",
   "execution_count": 9,
   "metadata": {},
   "outputs": [
    {
     "data": {
      "text/html": [
       "<div>\n",
       "<style scoped>\n",
       "    .dataframe tbody tr th:only-of-type {\n",
       "        vertical-align: middle;\n",
       "    }\n",
       "\n",
       "    .dataframe tbody tr th {\n",
       "        vertical-align: top;\n",
       "    }\n",
       "\n",
       "    .dataframe thead th {\n",
       "        text-align: right;\n",
       "    }\n",
       "</style>\n",
       "<table border=\"1\" class=\"dataframe\">\n",
       "  <thead>\n",
       "    <tr style=\"text-align: right;\">\n",
       "      <th></th>\n",
       "      <th>Time</th>\n",
       "      <th>V1</th>\n",
       "      <th>V2</th>\n",
       "      <th>V3</th>\n",
       "      <th>V4</th>\n",
       "      <th>V5</th>\n",
       "      <th>V6</th>\n",
       "      <th>V7</th>\n",
       "      <th>V8</th>\n",
       "      <th>V9</th>\n",
       "      <th>...</th>\n",
       "      <th>V23</th>\n",
       "      <th>V24</th>\n",
       "      <th>V25</th>\n",
       "      <th>V26</th>\n",
       "      <th>V27</th>\n",
       "      <th>V28</th>\n",
       "      <th>Amount</th>\n",
       "      <th>Class</th>\n",
       "      <th>day</th>\n",
       "      <th>Time_day</th>\n",
       "    </tr>\n",
       "    <tr>\n",
       "      <th>Time_cluster</th>\n",
       "      <th></th>\n",
       "      <th></th>\n",
       "      <th></th>\n",
       "      <th></th>\n",
       "      <th></th>\n",
       "      <th></th>\n",
       "      <th></th>\n",
       "      <th></th>\n",
       "      <th></th>\n",
       "      <th></th>\n",
       "      <th></th>\n",
       "      <th></th>\n",
       "      <th></th>\n",
       "      <th></th>\n",
       "      <th></th>\n",
       "      <th></th>\n",
       "      <th></th>\n",
       "      <th></th>\n",
       "      <th></th>\n",
       "      <th></th>\n",
       "      <th></th>\n",
       "    </tr>\n",
       "  </thead>\n",
       "  <tbody>\n",
       "    <tr>\n",
       "      <th>(-86.4, 3600.0]</th>\n",
       "      <td>7695</td>\n",
       "      <td>7695</td>\n",
       "      <td>7695</td>\n",
       "      <td>7695</td>\n",
       "      <td>7695</td>\n",
       "      <td>7695</td>\n",
       "      <td>7695</td>\n",
       "      <td>7695</td>\n",
       "      <td>7695</td>\n",
       "      <td>7695</td>\n",
       "      <td>...</td>\n",
       "      <td>7695</td>\n",
       "      <td>7695</td>\n",
       "      <td>7695</td>\n",
       "      <td>7695</td>\n",
       "      <td>7695</td>\n",
       "      <td>7695</td>\n",
       "      <td>7695</td>\n",
       "      <td>7695</td>\n",
       "      <td>7695</td>\n",
       "      <td>7695</td>\n",
       "    </tr>\n",
       "    <tr>\n",
       "      <th>(3600.0, 7200.0]</th>\n",
       "      <td>4222</td>\n",
       "      <td>4222</td>\n",
       "      <td>4222</td>\n",
       "      <td>4222</td>\n",
       "      <td>4222</td>\n",
       "      <td>4222</td>\n",
       "      <td>4222</td>\n",
       "      <td>4222</td>\n",
       "      <td>4222</td>\n",
       "      <td>4222</td>\n",
       "      <td>...</td>\n",
       "      <td>4222</td>\n",
       "      <td>4222</td>\n",
       "      <td>4222</td>\n",
       "      <td>4222</td>\n",
       "      <td>4222</td>\n",
       "      <td>4222</td>\n",
       "      <td>4222</td>\n",
       "      <td>4222</td>\n",
       "      <td>4222</td>\n",
       "      <td>4222</td>\n",
       "    </tr>\n",
       "    <tr>\n",
       "      <th>(7200.0, 10800.0]</th>\n",
       "      <td>3326</td>\n",
       "      <td>3326</td>\n",
       "      <td>3326</td>\n",
       "      <td>3326</td>\n",
       "      <td>3326</td>\n",
       "      <td>3326</td>\n",
       "      <td>3326</td>\n",
       "      <td>3326</td>\n",
       "      <td>3326</td>\n",
       "      <td>3326</td>\n",
       "      <td>...</td>\n",
       "      <td>3326</td>\n",
       "      <td>3326</td>\n",
       "      <td>3326</td>\n",
       "      <td>3326</td>\n",
       "      <td>3326</td>\n",
       "      <td>3326</td>\n",
       "      <td>3326</td>\n",
       "      <td>3326</td>\n",
       "      <td>3326</td>\n",
       "      <td>3326</td>\n",
       "    </tr>\n",
       "    <tr>\n",
       "      <th>(10800.0, 14400.0]</th>\n",
       "      <td>3493</td>\n",
       "      <td>3493</td>\n",
       "      <td>3493</td>\n",
       "      <td>3493</td>\n",
       "      <td>3493</td>\n",
       "      <td>3493</td>\n",
       "      <td>3493</td>\n",
       "      <td>3493</td>\n",
       "      <td>3493</td>\n",
       "      <td>3493</td>\n",
       "      <td>...</td>\n",
       "      <td>3493</td>\n",
       "      <td>3493</td>\n",
       "      <td>3493</td>\n",
       "      <td>3493</td>\n",
       "      <td>3493</td>\n",
       "      <td>3493</td>\n",
       "      <td>3493</td>\n",
       "      <td>3493</td>\n",
       "      <td>3493</td>\n",
       "      <td>3493</td>\n",
       "    </tr>\n",
       "    <tr>\n",
       "      <th>(14400.0, 18000.0]</th>\n",
       "      <td>2208</td>\n",
       "      <td>2208</td>\n",
       "      <td>2208</td>\n",
       "      <td>2208</td>\n",
       "      <td>2208</td>\n",
       "      <td>2208</td>\n",
       "      <td>2208</td>\n",
       "      <td>2208</td>\n",
       "      <td>2208</td>\n",
       "      <td>2208</td>\n",
       "      <td>...</td>\n",
       "      <td>2208</td>\n",
       "      <td>2208</td>\n",
       "      <td>2208</td>\n",
       "      <td>2208</td>\n",
       "      <td>2208</td>\n",
       "      <td>2208</td>\n",
       "      <td>2208</td>\n",
       "      <td>2208</td>\n",
       "      <td>2208</td>\n",
       "      <td>2208</td>\n",
       "    </tr>\n",
       "    <tr>\n",
       "      <th>(18000.0, 21600.0]</th>\n",
       "      <td>2990</td>\n",
       "      <td>2990</td>\n",
       "      <td>2990</td>\n",
       "      <td>2990</td>\n",
       "      <td>2990</td>\n",
       "      <td>2990</td>\n",
       "      <td>2990</td>\n",
       "      <td>2990</td>\n",
       "      <td>2990</td>\n",
       "      <td>2990</td>\n",
       "      <td>...</td>\n",
       "      <td>2990</td>\n",
       "      <td>2990</td>\n",
       "      <td>2990</td>\n",
       "      <td>2990</td>\n",
       "      <td>2990</td>\n",
       "      <td>2990</td>\n",
       "      <td>2990</td>\n",
       "      <td>2990</td>\n",
       "      <td>2990</td>\n",
       "      <td>2990</td>\n",
       "    </tr>\n",
       "    <tr>\n",
       "      <th>(21600.0, 25200.0]</th>\n",
       "      <td>4102</td>\n",
       "      <td>4102</td>\n",
       "      <td>4102</td>\n",
       "      <td>4102</td>\n",
       "      <td>4102</td>\n",
       "      <td>4102</td>\n",
       "      <td>4102</td>\n",
       "      <td>4102</td>\n",
       "      <td>4102</td>\n",
       "      <td>4102</td>\n",
       "      <td>...</td>\n",
       "      <td>4102</td>\n",
       "      <td>4102</td>\n",
       "      <td>4102</td>\n",
       "      <td>4102</td>\n",
       "      <td>4102</td>\n",
       "      <td>4102</td>\n",
       "      <td>4102</td>\n",
       "      <td>4102</td>\n",
       "      <td>4102</td>\n",
       "      <td>4102</td>\n",
       "    </tr>\n",
       "    <tr>\n",
       "      <th>(25200.0, 28800.0]</th>\n",
       "      <td>7242</td>\n",
       "      <td>7242</td>\n",
       "      <td>7242</td>\n",
       "      <td>7242</td>\n",
       "      <td>7242</td>\n",
       "      <td>7242</td>\n",
       "      <td>7242</td>\n",
       "      <td>7242</td>\n",
       "      <td>7242</td>\n",
       "      <td>7242</td>\n",
       "      <td>...</td>\n",
       "      <td>7242</td>\n",
       "      <td>7242</td>\n",
       "      <td>7242</td>\n",
       "      <td>7242</td>\n",
       "      <td>7242</td>\n",
       "      <td>7242</td>\n",
       "      <td>7242</td>\n",
       "      <td>7242</td>\n",
       "      <td>7242</td>\n",
       "      <td>7242</td>\n",
       "    </tr>\n",
       "    <tr>\n",
       "      <th>(28800.0, 32400.0]</th>\n",
       "      <td>10275</td>\n",
       "      <td>10275</td>\n",
       "      <td>10275</td>\n",
       "      <td>10275</td>\n",
       "      <td>10275</td>\n",
       "      <td>10275</td>\n",
       "      <td>10275</td>\n",
       "      <td>10275</td>\n",
       "      <td>10275</td>\n",
       "      <td>10275</td>\n",
       "      <td>...</td>\n",
       "      <td>10275</td>\n",
       "      <td>10275</td>\n",
       "      <td>10275</td>\n",
       "      <td>10275</td>\n",
       "      <td>10275</td>\n",
       "      <td>10275</td>\n",
       "      <td>10275</td>\n",
       "      <td>10275</td>\n",
       "      <td>10275</td>\n",
       "      <td>10275</td>\n",
       "    </tr>\n",
       "    <tr>\n",
       "      <th>(32400.0, 36000.0]</th>\n",
       "      <td>15840</td>\n",
       "      <td>15840</td>\n",
       "      <td>15840</td>\n",
       "      <td>15840</td>\n",
       "      <td>15840</td>\n",
       "      <td>15840</td>\n",
       "      <td>15840</td>\n",
       "      <td>15840</td>\n",
       "      <td>15840</td>\n",
       "      <td>15840</td>\n",
       "      <td>...</td>\n",
       "      <td>15840</td>\n",
       "      <td>15840</td>\n",
       "      <td>15840</td>\n",
       "      <td>15840</td>\n",
       "      <td>15840</td>\n",
       "      <td>15840</td>\n",
       "      <td>15840</td>\n",
       "      <td>15840</td>\n",
       "      <td>15840</td>\n",
       "      <td>15840</td>\n",
       "    </tr>\n",
       "    <tr>\n",
       "      <th>(36000.0, 39600.0]</th>\n",
       "      <td>16601</td>\n",
       "      <td>16601</td>\n",
       "      <td>16601</td>\n",
       "      <td>16601</td>\n",
       "      <td>16601</td>\n",
       "      <td>16601</td>\n",
       "      <td>16601</td>\n",
       "      <td>16601</td>\n",
       "      <td>16601</td>\n",
       "      <td>16601</td>\n",
       "      <td>...</td>\n",
       "      <td>16601</td>\n",
       "      <td>16601</td>\n",
       "      <td>16601</td>\n",
       "      <td>16601</td>\n",
       "      <td>16601</td>\n",
       "      <td>16601</td>\n",
       "      <td>16601</td>\n",
       "      <td>16601</td>\n",
       "      <td>16601</td>\n",
       "      <td>16601</td>\n",
       "    </tr>\n",
       "    <tr>\n",
       "      <th>(39600.0, 43200.0]</th>\n",
       "      <td>16857</td>\n",
       "      <td>16857</td>\n",
       "      <td>16857</td>\n",
       "      <td>16857</td>\n",
       "      <td>16857</td>\n",
       "      <td>16857</td>\n",
       "      <td>16857</td>\n",
       "      <td>16857</td>\n",
       "      <td>16857</td>\n",
       "      <td>16857</td>\n",
       "      <td>...</td>\n",
       "      <td>16857</td>\n",
       "      <td>16857</td>\n",
       "      <td>16857</td>\n",
       "      <td>16857</td>\n",
       "      <td>16857</td>\n",
       "      <td>16857</td>\n",
       "      <td>16857</td>\n",
       "      <td>16857</td>\n",
       "      <td>16857</td>\n",
       "      <td>16857</td>\n",
       "    </tr>\n",
       "    <tr>\n",
       "      <th>(43200.0, 46800.0]</th>\n",
       "      <td>15417</td>\n",
       "      <td>15417</td>\n",
       "      <td>15417</td>\n",
       "      <td>15417</td>\n",
       "      <td>15417</td>\n",
       "      <td>15417</td>\n",
       "      <td>15417</td>\n",
       "      <td>15417</td>\n",
       "      <td>15417</td>\n",
       "      <td>15417</td>\n",
       "      <td>...</td>\n",
       "      <td>15417</td>\n",
       "      <td>15417</td>\n",
       "      <td>15417</td>\n",
       "      <td>15417</td>\n",
       "      <td>15417</td>\n",
       "      <td>15417</td>\n",
       "      <td>15417</td>\n",
       "      <td>15417</td>\n",
       "      <td>15417</td>\n",
       "      <td>15417</td>\n",
       "    </tr>\n",
       "    <tr>\n",
       "      <th>(46800.0, 50400.0]</th>\n",
       "      <td>15367</td>\n",
       "      <td>15367</td>\n",
       "      <td>15367</td>\n",
       "      <td>15367</td>\n",
       "      <td>15367</td>\n",
       "      <td>15367</td>\n",
       "      <td>15367</td>\n",
       "      <td>15367</td>\n",
       "      <td>15367</td>\n",
       "      <td>15367</td>\n",
       "      <td>...</td>\n",
       "      <td>15367</td>\n",
       "      <td>15367</td>\n",
       "      <td>15367</td>\n",
       "      <td>15367</td>\n",
       "      <td>15367</td>\n",
       "      <td>15367</td>\n",
       "      <td>15367</td>\n",
       "      <td>15367</td>\n",
       "      <td>15367</td>\n",
       "      <td>15367</td>\n",
       "    </tr>\n",
       "    <tr>\n",
       "      <th>(50400.0, 54000.0]</th>\n",
       "      <td>16568</td>\n",
       "      <td>16568</td>\n",
       "      <td>16568</td>\n",
       "      <td>16568</td>\n",
       "      <td>16568</td>\n",
       "      <td>16568</td>\n",
       "      <td>16568</td>\n",
       "      <td>16568</td>\n",
       "      <td>16568</td>\n",
       "      <td>16568</td>\n",
       "      <td>...</td>\n",
       "      <td>16568</td>\n",
       "      <td>16568</td>\n",
       "      <td>16568</td>\n",
       "      <td>16568</td>\n",
       "      <td>16568</td>\n",
       "      <td>16568</td>\n",
       "      <td>16568</td>\n",
       "      <td>16568</td>\n",
       "      <td>16568</td>\n",
       "      <td>16568</td>\n",
       "    </tr>\n",
       "    <tr>\n",
       "      <th>(54000.0, 57600.0]</th>\n",
       "      <td>16460</td>\n",
       "      <td>16460</td>\n",
       "      <td>16460</td>\n",
       "      <td>16460</td>\n",
       "      <td>16460</td>\n",
       "      <td>16460</td>\n",
       "      <td>16460</td>\n",
       "      <td>16460</td>\n",
       "      <td>16460</td>\n",
       "      <td>16460</td>\n",
       "      <td>...</td>\n",
       "      <td>16460</td>\n",
       "      <td>16460</td>\n",
       "      <td>16460</td>\n",
       "      <td>16460</td>\n",
       "      <td>16460</td>\n",
       "      <td>16460</td>\n",
       "      <td>16460</td>\n",
       "      <td>16460</td>\n",
       "      <td>16460</td>\n",
       "      <td>16460</td>\n",
       "    </tr>\n",
       "    <tr>\n",
       "      <th>(57600.0, 61200.0]</th>\n",
       "      <td>16457</td>\n",
       "      <td>16457</td>\n",
       "      <td>16457</td>\n",
       "      <td>16457</td>\n",
       "      <td>16457</td>\n",
       "      <td>16457</td>\n",
       "      <td>16457</td>\n",
       "      <td>16457</td>\n",
       "      <td>16457</td>\n",
       "      <td>16457</td>\n",
       "      <td>...</td>\n",
       "      <td>16457</td>\n",
       "      <td>16457</td>\n",
       "      <td>16457</td>\n",
       "      <td>16457</td>\n",
       "      <td>16457</td>\n",
       "      <td>16457</td>\n",
       "      <td>16457</td>\n",
       "      <td>16457</td>\n",
       "      <td>16457</td>\n",
       "      <td>16457</td>\n",
       "    </tr>\n",
       "    <tr>\n",
       "      <th>(61200.0, 64800.0]</th>\n",
       "      <td>16164</td>\n",
       "      <td>16164</td>\n",
       "      <td>16164</td>\n",
       "      <td>16164</td>\n",
       "      <td>16164</td>\n",
       "      <td>16164</td>\n",
       "      <td>16164</td>\n",
       "      <td>16164</td>\n",
       "      <td>16164</td>\n",
       "      <td>16164</td>\n",
       "      <td>...</td>\n",
       "      <td>16164</td>\n",
       "      <td>16164</td>\n",
       "      <td>16164</td>\n",
       "      <td>16164</td>\n",
       "      <td>16164</td>\n",
       "      <td>16164</td>\n",
       "      <td>16164</td>\n",
       "      <td>16164</td>\n",
       "      <td>16164</td>\n",
       "      <td>16164</td>\n",
       "    </tr>\n",
       "    <tr>\n",
       "      <th>(64800.0, 68400.0]</th>\n",
       "      <td>17036</td>\n",
       "      <td>17036</td>\n",
       "      <td>17036</td>\n",
       "      <td>17036</td>\n",
       "      <td>17036</td>\n",
       "      <td>17036</td>\n",
       "      <td>17036</td>\n",
       "      <td>17036</td>\n",
       "      <td>17036</td>\n",
       "      <td>17036</td>\n",
       "      <td>...</td>\n",
       "      <td>17036</td>\n",
       "      <td>17036</td>\n",
       "      <td>17036</td>\n",
       "      <td>17036</td>\n",
       "      <td>17036</td>\n",
       "      <td>17036</td>\n",
       "      <td>17036</td>\n",
       "      <td>17036</td>\n",
       "      <td>17036</td>\n",
       "      <td>17036</td>\n",
       "    </tr>\n",
       "    <tr>\n",
       "      <th>(68400.0, 72000.0]</th>\n",
       "      <td>15651</td>\n",
       "      <td>15651</td>\n",
       "      <td>15651</td>\n",
       "      <td>15651</td>\n",
       "      <td>15651</td>\n",
       "      <td>15651</td>\n",
       "      <td>15651</td>\n",
       "      <td>15651</td>\n",
       "      <td>15651</td>\n",
       "      <td>15651</td>\n",
       "      <td>...</td>\n",
       "      <td>15651</td>\n",
       "      <td>15651</td>\n",
       "      <td>15651</td>\n",
       "      <td>15651</td>\n",
       "      <td>15651</td>\n",
       "      <td>15651</td>\n",
       "      <td>15651</td>\n",
       "      <td>15651</td>\n",
       "      <td>15651</td>\n",
       "      <td>15651</td>\n",
       "    </tr>\n",
       "    <tr>\n",
       "      <th>(72000.0, 75600.0]</th>\n",
       "      <td>16757</td>\n",
       "      <td>16757</td>\n",
       "      <td>16757</td>\n",
       "      <td>16757</td>\n",
       "      <td>16757</td>\n",
       "      <td>16757</td>\n",
       "      <td>16757</td>\n",
       "      <td>16757</td>\n",
       "      <td>16757</td>\n",
       "      <td>16757</td>\n",
       "      <td>...</td>\n",
       "      <td>16757</td>\n",
       "      <td>16757</td>\n",
       "      <td>16757</td>\n",
       "      <td>16757</td>\n",
       "      <td>16757</td>\n",
       "      <td>16757</td>\n",
       "      <td>16757</td>\n",
       "      <td>16757</td>\n",
       "      <td>16757</td>\n",
       "      <td>16757</td>\n",
       "    </tr>\n",
       "    <tr>\n",
       "      <th>(75600.0, 79200.0]</th>\n",
       "      <td>17708</td>\n",
       "      <td>17708</td>\n",
       "      <td>17708</td>\n",
       "      <td>17708</td>\n",
       "      <td>17708</td>\n",
       "      <td>17708</td>\n",
       "      <td>17708</td>\n",
       "      <td>17708</td>\n",
       "      <td>17708</td>\n",
       "      <td>17708</td>\n",
       "      <td>...</td>\n",
       "      <td>17708</td>\n",
       "      <td>17708</td>\n",
       "      <td>17708</td>\n",
       "      <td>17708</td>\n",
       "      <td>17708</td>\n",
       "      <td>17708</td>\n",
       "      <td>17708</td>\n",
       "      <td>17708</td>\n",
       "      <td>17708</td>\n",
       "      <td>17708</td>\n",
       "    </tr>\n",
       "    <tr>\n",
       "      <th>(79200.0, 82800.0]</th>\n",
       "      <td>15433</td>\n",
       "      <td>15433</td>\n",
       "      <td>15433</td>\n",
       "      <td>15433</td>\n",
       "      <td>15433</td>\n",
       "      <td>15433</td>\n",
       "      <td>15433</td>\n",
       "      <td>15433</td>\n",
       "      <td>15433</td>\n",
       "      <td>15433</td>\n",
       "      <td>...</td>\n",
       "      <td>15433</td>\n",
       "      <td>15433</td>\n",
       "      <td>15433</td>\n",
       "      <td>15433</td>\n",
       "      <td>15433</td>\n",
       "      <td>15433</td>\n",
       "      <td>15433</td>\n",
       "      <td>15433</td>\n",
       "      <td>15433</td>\n",
       "      <td>15433</td>\n",
       "    </tr>\n",
       "    <tr>\n",
       "      <th>(82800.0, 86400.0]</th>\n",
       "      <td>10938</td>\n",
       "      <td>10938</td>\n",
       "      <td>10938</td>\n",
       "      <td>10938</td>\n",
       "      <td>10938</td>\n",
       "      <td>10938</td>\n",
       "      <td>10938</td>\n",
       "      <td>10938</td>\n",
       "      <td>10938</td>\n",
       "      <td>10938</td>\n",
       "      <td>...</td>\n",
       "      <td>10938</td>\n",
       "      <td>10938</td>\n",
       "      <td>10938</td>\n",
       "      <td>10938</td>\n",
       "      <td>10938</td>\n",
       "      <td>10938</td>\n",
       "      <td>10938</td>\n",
       "      <td>10938</td>\n",
       "      <td>10938</td>\n",
       "      <td>10938</td>\n",
       "    </tr>\n",
       "  </tbody>\n",
       "</table>\n",
       "<p>24 rows × 33 columns</p>\n",
       "</div>"
      ],
      "text/plain": [
       "                     Time     V1     V2     V3     V4     V5     V6     V7  \\\n",
       "Time_cluster                                                                 \n",
       "(-86.4, 3600.0]      7695   7695   7695   7695   7695   7695   7695   7695   \n",
       "(3600.0, 7200.0]     4222   4222   4222   4222   4222   4222   4222   4222   \n",
       "(7200.0, 10800.0]    3326   3326   3326   3326   3326   3326   3326   3326   \n",
       "(10800.0, 14400.0]   3493   3493   3493   3493   3493   3493   3493   3493   \n",
       "(14400.0, 18000.0]   2208   2208   2208   2208   2208   2208   2208   2208   \n",
       "(18000.0, 21600.0]   2990   2990   2990   2990   2990   2990   2990   2990   \n",
       "(21600.0, 25200.0]   4102   4102   4102   4102   4102   4102   4102   4102   \n",
       "(25200.0, 28800.0]   7242   7242   7242   7242   7242   7242   7242   7242   \n",
       "(28800.0, 32400.0]  10275  10275  10275  10275  10275  10275  10275  10275   \n",
       "(32400.0, 36000.0]  15840  15840  15840  15840  15840  15840  15840  15840   \n",
       "(36000.0, 39600.0]  16601  16601  16601  16601  16601  16601  16601  16601   \n",
       "(39600.0, 43200.0]  16857  16857  16857  16857  16857  16857  16857  16857   \n",
       "(43200.0, 46800.0]  15417  15417  15417  15417  15417  15417  15417  15417   \n",
       "(46800.0, 50400.0]  15367  15367  15367  15367  15367  15367  15367  15367   \n",
       "(50400.0, 54000.0]  16568  16568  16568  16568  16568  16568  16568  16568   \n",
       "(54000.0, 57600.0]  16460  16460  16460  16460  16460  16460  16460  16460   \n",
       "(57600.0, 61200.0]  16457  16457  16457  16457  16457  16457  16457  16457   \n",
       "(61200.0, 64800.0]  16164  16164  16164  16164  16164  16164  16164  16164   \n",
       "(64800.0, 68400.0]  17036  17036  17036  17036  17036  17036  17036  17036   \n",
       "(68400.0, 72000.0]  15651  15651  15651  15651  15651  15651  15651  15651   \n",
       "(72000.0, 75600.0]  16757  16757  16757  16757  16757  16757  16757  16757   \n",
       "(75600.0, 79200.0]  17708  17708  17708  17708  17708  17708  17708  17708   \n",
       "(79200.0, 82800.0]  15433  15433  15433  15433  15433  15433  15433  15433   \n",
       "(82800.0, 86400.0]  10938  10938  10938  10938  10938  10938  10938  10938   \n",
       "\n",
       "                       V8     V9    ...       V23    V24    V25    V26    V27  \\\n",
       "Time_cluster                        ...                                         \n",
       "(-86.4, 3600.0]      7695   7695    ...      7695   7695   7695   7695   7695   \n",
       "(3600.0, 7200.0]     4222   4222    ...      4222   4222   4222   4222   4222   \n",
       "(7200.0, 10800.0]    3326   3326    ...      3326   3326   3326   3326   3326   \n",
       "(10800.0, 14400.0]   3493   3493    ...      3493   3493   3493   3493   3493   \n",
       "(14400.0, 18000.0]   2208   2208    ...      2208   2208   2208   2208   2208   \n",
       "(18000.0, 21600.0]   2990   2990    ...      2990   2990   2990   2990   2990   \n",
       "(21600.0, 25200.0]   4102   4102    ...      4102   4102   4102   4102   4102   \n",
       "(25200.0, 28800.0]   7242   7242    ...      7242   7242   7242   7242   7242   \n",
       "(28800.0, 32400.0]  10275  10275    ...     10275  10275  10275  10275  10275   \n",
       "(32400.0, 36000.0]  15840  15840    ...     15840  15840  15840  15840  15840   \n",
       "(36000.0, 39600.0]  16601  16601    ...     16601  16601  16601  16601  16601   \n",
       "(39600.0, 43200.0]  16857  16857    ...     16857  16857  16857  16857  16857   \n",
       "(43200.0, 46800.0]  15417  15417    ...     15417  15417  15417  15417  15417   \n",
       "(46800.0, 50400.0]  15367  15367    ...     15367  15367  15367  15367  15367   \n",
       "(50400.0, 54000.0]  16568  16568    ...     16568  16568  16568  16568  16568   \n",
       "(54000.0, 57600.0]  16460  16460    ...     16460  16460  16460  16460  16460   \n",
       "(57600.0, 61200.0]  16457  16457    ...     16457  16457  16457  16457  16457   \n",
       "(61200.0, 64800.0]  16164  16164    ...     16164  16164  16164  16164  16164   \n",
       "(64800.0, 68400.0]  17036  17036    ...     17036  17036  17036  17036  17036   \n",
       "(68400.0, 72000.0]  15651  15651    ...     15651  15651  15651  15651  15651   \n",
       "(72000.0, 75600.0]  16757  16757    ...     16757  16757  16757  16757  16757   \n",
       "(75600.0, 79200.0]  17708  17708    ...     17708  17708  17708  17708  17708   \n",
       "(79200.0, 82800.0]  15433  15433    ...     15433  15433  15433  15433  15433   \n",
       "(82800.0, 86400.0]  10938  10938    ...     10938  10938  10938  10938  10938   \n",
       "\n",
       "                      V28  Amount  Class    day  Time_day  \n",
       "Time_cluster                                               \n",
       "(-86.4, 3600.0]      7695    7695   7695   7695      7695  \n",
       "(3600.0, 7200.0]     4222    4222   4222   4222      4222  \n",
       "(7200.0, 10800.0]    3326    3326   3326   3326      3326  \n",
       "(10800.0, 14400.0]   3493    3493   3493   3493      3493  \n",
       "(14400.0, 18000.0]   2208    2208   2208   2208      2208  \n",
       "(18000.0, 21600.0]   2990    2990   2990   2990      2990  \n",
       "(21600.0, 25200.0]   4102    4102   4102   4102      4102  \n",
       "(25200.0, 28800.0]   7242    7242   7242   7242      7242  \n",
       "(28800.0, 32400.0]  10275   10275  10275  10275     10275  \n",
       "(32400.0, 36000.0]  15840   15840  15840  15840     15840  \n",
       "(36000.0, 39600.0]  16601   16601  16601  16601     16601  \n",
       "(39600.0, 43200.0]  16857   16857  16857  16857     16857  \n",
       "(43200.0, 46800.0]  15417   15417  15417  15417     15417  \n",
       "(46800.0, 50400.0]  15367   15367  15367  15367     15367  \n",
       "(50400.0, 54000.0]  16568   16568  16568  16568     16568  \n",
       "(54000.0, 57600.0]  16460   16460  16460  16460     16460  \n",
       "(57600.0, 61200.0]  16457   16457  16457  16457     16457  \n",
       "(61200.0, 64800.0]  16164   16164  16164  16164     16164  \n",
       "(64800.0, 68400.0]  17036   17036  17036  17036     17036  \n",
       "(68400.0, 72000.0]  15651   15651  15651  15651     15651  \n",
       "(72000.0, 75600.0]  16757   16757  16757  16757     16757  \n",
       "(75600.0, 79200.0]  17708   17708  17708  17708     17708  \n",
       "(79200.0, 82800.0]  15433   15433  15433  15433     15433  \n",
       "(82800.0, 86400.0]  10938   10938  10938  10938     10938  \n",
       "\n",
       "[24 rows x 33 columns]"
      ]
     },
     "execution_count": 9,
     "metadata": {},
     "output_type": "execute_result"
    }
   ],
   "source": [
    "df.groupby('Time_cluster').count()"
   ]
  },
  {
   "cell_type": "code",
   "execution_count": 10,
   "metadata": {},
   "outputs": [
    {
     "data": {
      "text/plain": [
       "<seaborn.axisgrid.FacetGrid at 0x20599775eb8>"
      ]
     },
     "execution_count": 10,
     "metadata": {},
     "output_type": "execute_result"
    },
    {
     "data": {
      "image/png": "[encoded data removed]",
      "text/plain": [
       "<matplotlib.figure.Figure at 0x20599775cc0>"
      ]
     },
     "metadata": {},
     "output_type": "display_data"
    }
   ],
   "source": [
    "sns.factorplot(x='Time_cluster', data=df, y='Class',aspect=3)"
   ]
  },
  {
   "cell_type": "markdown",
   "metadata": {},
   "source": [
    "We can see that some time cluster have a higher rate of fraudulent transactions, so this feature should help in our model."
   ]
  },
  {
   "cell_type": "markdown",
   "metadata": {},
   "source": [
    "Now we can drop Time, day, and Time_day:"
   ]
  },
  {
   "cell_type": "code",
   "execution_count": 11,
   "metadata": {},
   "outputs": [],
   "source": [
    "df_new = df.drop(columns=['Time','day','Time_day'])"
   ]
  },
  {
   "cell_type": "code",
   "execution_count": 12,
   "metadata": {},
   "outputs": [],
   "source": [
    "df_new = pd.get_dummies(df_new)"
   ]
  },
  {
   "cell_type": "code",
   "execution_count": 13,
   "metadata": {},
   "outputs": [
    {
     "data": {
      "text/plain": [
       "Index(['V1', 'V2', 'V3', 'V4', 'V5', 'V6', 'V7', 'V8', 'V9', 'V10', 'V11',\n",
       "       'V12', 'V13', 'V14', 'V15', 'V16', 'V17', 'V18', 'V19', 'V20', 'V21',\n",
       "       'V22', 'V23', 'V24', 'V25', 'V26', 'V27', 'V28', 'Amount', 'Class',\n",
       "       'Time_cluster_(-86.4, 3600.0]', 'Time_cluster_(3600.0, 7200.0]',\n",
       "       'Time_cluster_(7200.0, 10800.0]', 'Time_cluster_(10800.0, 14400.0]',\n",
       "       'Time_cluster_(14400.0, 18000.0]', 'Time_cluster_(18000.0, 21600.0]',\n",
       "       'Time_cluster_(21600.0, 25200.0]', 'Time_cluster_(25200.0, 28800.0]',\n",
       "       'Time_cluster_(28800.0, 32400.0]', 'Time_cluster_(32400.0, 36000.0]',\n",
       "       'Time_cluster_(36000.0, 39600.0]', 'Time_cluster_(39600.0, 43200.0]',\n",
       "       'Time_cluster_(43200.0, 46800.0]', 'Time_cluster_(46800.0, 50400.0]',\n",
       "       'Time_cluster_(50400.0, 54000.0]', 'Time_cluster_(54000.0, 57600.0]',\n",
       "       'Time_cluster_(57600.0, 61200.0]', 'Time_cluster_(61200.0, 64800.0]',\n",
       "       'Time_cluster_(64800.0, 68400.0]', 'Time_cluster_(68400.0, 72000.0]',\n",
       "       'Time_cluster_(72000.0, 75600.0]', 'Time_cluster_(75600.0, 79200.0]',\n",
       "       'Time_cluster_(79200.0, 82800.0]', 'Time_cluster_(82800.0, 86400.0]'],\n",
       "      dtype='object')"
      ]
     },
     "execution_count": 13,
     "metadata": {},
     "output_type": "execute_result"
    }
   ],
   "source": [
    "df_new.columns"
   ]
  },
  {
   "cell_type": "code",
   "execution_count": 14,
   "metadata": {},
   "outputs": [
    {
     "data": {
      "text/plain": [
       "284807"
      ]
     },
     "execution_count": 14,
     "metadata": {},
     "output_type": "execute_result"
    },
    {
     "data": {
      "text/plain": [
       "284807"
      ]
     },
     "execution_count": 14,
     "metadata": {},
     "output_type": "execute_result"
    }
   ],
   "source": [
    "X = df_new.drop(columns=['Class'])\n",
    "y = df_new.Class\n",
    "\n",
    "len(X)\n",
    "len(y)"
   ]
  },
  {
   "cell_type": "code",
   "execution_count": 16,
   "metadata": {},
   "outputs": [],
   "source": [
    "from sklearn.model_selection import train_test_split\n",
    "from sklearn.preprocessing import StandardScaler"
   ]
  },
  {
   "cell_type": "markdown",
   "metadata": {},
   "source": [
    "We will standardize the data:"
   ]
  },
  {
   "cell_type": "code",
   "execution_count": 17,
   "metadata": {},
   "outputs": [],
   "source": [
    "scaler = StandardScaler()\n",
    "X_s = scaler.fit_transform(X)"
   ]
  },
  {
   "cell_type": "markdown",
   "metadata": {},
   "source": [
    "And we will split in train and test set:"
   ]
  },
  {
   "cell_type": "code",
   "execution_count": 18,
   "metadata": {},
   "outputs": [],
   "source": [
    "X_train, X_test, y_train, y_test = train_test_split(X_s, y, random_state=0, test_size = 0.12221, stratify=y)"
   ]
  },
  {
   "cell_type": "code",
   "execution_count": 19,
   "metadata": {},
   "outputs": [
    {
     "data": {
      "text/plain": [
       "250000"
      ]
     },
     "execution_count": 19,
     "metadata": {},
     "output_type": "execute_result"
    },
    {
     "data": {
      "text/plain": [
       "34807"
      ]
     },
     "execution_count": 19,
     "metadata": {},
     "output_type": "execute_result"
    },
    {
     "data": {
      "text/plain": [
       "250000"
      ]
     },
     "execution_count": 19,
     "metadata": {},
     "output_type": "execute_result"
    },
    {
     "data": {
      "text/plain": [
       "34807"
      ]
     },
     "execution_count": 19,
     "metadata": {},
     "output_type": "execute_result"
    },
    {
     "data": {
      "text/plain": [
       "432"
      ]
     },
     "execution_count": 19,
     "metadata": {},
     "output_type": "execute_result"
    },
    {
     "data": {
      "text/plain": [
       "60"
      ]
     },
     "execution_count": 19,
     "metadata": {},
     "output_type": "execute_result"
    }
   ],
   "source": [
    "len(X_train)\n",
    "len(X_test)\n",
    "len(y_train)\n",
    "len(y_test)\n",
    "\n",
    "y_train.sum()\n",
    "y_test.sum()"
   ]
  },
  {
   "cell_type": "markdown",
   "metadata": {},
   "source": [
    "From training data we will create a train set to train the autoencoder and a validation set to check the error and define the threshold:"
   ]
  },
  {
   "cell_type": "code",
   "execution_count": 20,
   "metadata": {},
   "outputs": [],
   "source": [
    "X_train_a, X_val, y_train_a, y_val = train_test_split(X_train, y_train, random_state=0, test_size = 0.2)"
   ]
  },
  {
   "cell_type": "code",
   "execution_count": 21,
   "metadata": {},
   "outputs": [
    {
     "data": {
      "text/plain": [
       "200000"
      ]
     },
     "execution_count": 21,
     "metadata": {},
     "output_type": "execute_result"
    },
    {
     "data": {
      "text/plain": [
       "50000"
      ]
     },
     "execution_count": 21,
     "metadata": {},
     "output_type": "execute_result"
    },
    {
     "data": {
      "text/plain": [
       "200000"
      ]
     },
     "execution_count": 21,
     "metadata": {},
     "output_type": "execute_result"
    },
    {
     "data": {
      "text/plain": [
       "50000"
      ]
     },
     "execution_count": 21,
     "metadata": {},
     "output_type": "execute_result"
    },
    {
     "data": {
      "text/plain": [
       "341"
      ]
     },
     "execution_count": 21,
     "metadata": {},
     "output_type": "execute_result"
    },
    {
     "data": {
      "text/plain": [
       "91"
      ]
     },
     "execution_count": 21,
     "metadata": {},
     "output_type": "execute_result"
    }
   ],
   "source": [
    "len(X_train_a)\n",
    "len(X_val)\n",
    "len(y_train_a)\n",
    "len(y_val)\n",
    "\n",
    "y_train_a.sum()\n",
    "y_val.sum()"
   ]
  },
  {
   "cell_type": "markdown",
   "metadata": {},
   "source": [
    "From X_train_a we will get just the non-fraudulent transactions to train the autoencoder. First we put X_train_a and y_train_a in a dataframe to filter by Class==0:"
   ]
  },
  {
   "cell_type": "code",
   "execution_count": 36,
   "metadata": {},
   "outputs": [
    {
     "data": {
      "text/html": [
       "<div>\n",
       "<style scoped>\n",
       "    .dataframe tbody tr th:only-of-type {\n",
       "        vertical-align: middle;\n",
       "    }\n",
       "\n",
       "    .dataframe tbody tr th {\n",
       "        vertical-align: top;\n",
       "    }\n",
       "\n",
       "    .dataframe thead th {\n",
       "        text-align: right;\n",
       "    }\n",
       "</style>\n",
       "<table border=\"1\" class=\"dataframe\">\n",
       "  <thead>\n",
       "    <tr style=\"text-align: right;\">\n",
       "      <th></th>\n",
       "      <th>V1</th>\n",
       "      <th>V2</th>\n",
       "      <th>V3</th>\n",
       "      <th>V4</th>\n",
       "      <th>V5</th>\n",
       "      <th>V6</th>\n",
       "      <th>V7</th>\n",
       "      <th>V8</th>\n",
       "      <th>V9</th>\n",
       "      <th>V10</th>\n",
       "      <th>...</th>\n",
       "      <th>Time_cluster_(54000.0, 57600.0]</th>\n",
       "      <th>Time_cluster_(57600.0, 61200.0]</th>\n",
       "      <th>Time_cluster_(61200.0, 64800.0]</th>\n",
       "      <th>Time_cluster_(64800.0, 68400.0]</th>\n",
       "      <th>Time_cluster_(68400.0, 72000.0]</th>\n",
       "      <th>Time_cluster_(72000.0, 75600.0]</th>\n",
       "      <th>Time_cluster_(75600.0, 79200.0]</th>\n",
       "      <th>Time_cluster_(79200.0, 82800.0]</th>\n",
       "      <th>Time_cluster_(82800.0, 86400.0]</th>\n",
       "      <th>Class</th>\n",
       "    </tr>\n",
       "  </thead>\n",
       "  <tbody>\n",
       "    <tr>\n",
       "      <th>0</th>\n",
       "      <td>-1.190826</td>\n",
       "      <td>0.008110</td>\n",
       "      <td>-2.067785</td>\n",
       "      <td>-0.319980</td>\n",
       "      <td>0.282701</td>\n",
       "      <td>-0.546771</td>\n",
       "      <td>1.301051</td>\n",
       "      <td>-2.301310</td>\n",
       "      <td>-0.310362</td>\n",
       "      <td>0.190875</td>\n",
       "      <td>...</td>\n",
       "      <td>-0.247666</td>\n",
       "      <td>-0.247642</td>\n",
       "      <td>-0.245294</td>\n",
       "      <td>-0.252233</td>\n",
       "      <td>-0.241140</td>\n",
       "      <td>-0.250029</td>\n",
       "      <td>-0.257483</td>\n",
       "      <td>-0.239358</td>\n",
       "      <td>-0.199847</td>\n",
       "      <td>0</td>\n",
       "    </tr>\n",
       "    <tr>\n",
       "      <th>1</th>\n",
       "      <td>0.642077</td>\n",
       "      <td>0.239073</td>\n",
       "      <td>0.209613</td>\n",
       "      <td>0.485873</td>\n",
       "      <td>-0.234500</td>\n",
       "      <td>-0.796264</td>\n",
       "      <td>0.098932</td>\n",
       "      <td>-0.196006</td>\n",
       "      <td>-0.044063</td>\n",
       "      <td>-0.273813</td>\n",
       "      <td>...</td>\n",
       "      <td>-0.247666</td>\n",
       "      <td>-0.247642</td>\n",
       "      <td>-0.245294</td>\n",
       "      <td>3.964587</td>\n",
       "      <td>-0.241140</td>\n",
       "      <td>-0.250029</td>\n",
       "      <td>-0.257483</td>\n",
       "      <td>-0.239358</td>\n",
       "      <td>-0.199847</td>\n",
       "      <td>0</td>\n",
       "    </tr>\n",
       "    <tr>\n",
       "      <th>2</th>\n",
       "      <td>-0.602773</td>\n",
       "      <td>0.969215</td>\n",
       "      <td>0.324712</td>\n",
       "      <td>-0.462595</td>\n",
       "      <td>0.154253</td>\n",
       "      <td>-0.866112</td>\n",
       "      <td>0.463546</td>\n",
       "      <td>-3.345351</td>\n",
       "      <td>0.375650</td>\n",
       "      <td>0.153340</td>\n",
       "      <td>...</td>\n",
       "      <td>-0.247666</td>\n",
       "      <td>-0.247642</td>\n",
       "      <td>-0.245294</td>\n",
       "      <td>-0.252233</td>\n",
       "      <td>-0.241140</td>\n",
       "      <td>-0.250029</td>\n",
       "      <td>-0.257483</td>\n",
       "      <td>-0.239358</td>\n",
       "      <td>-0.199847</td>\n",
       "      <td>0</td>\n",
       "    </tr>\n",
       "    <tr>\n",
       "      <th>3</th>\n",
       "      <td>0.384364</td>\n",
       "      <td>-0.414595</td>\n",
       "      <td>0.720458</td>\n",
       "      <td>1.013522</td>\n",
       "      <td>-0.473677</td>\n",
       "      <td>1.020495</td>\n",
       "      <td>-0.522945</td>\n",
       "      <td>0.403216</td>\n",
       "      <td>0.779793</td>\n",
       "      <td>-0.287009</td>\n",
       "      <td>...</td>\n",
       "      <td>-0.247666</td>\n",
       "      <td>-0.247642</td>\n",
       "      <td>-0.245294</td>\n",
       "      <td>-0.252233</td>\n",
       "      <td>4.146971</td>\n",
       "      <td>-0.250029</td>\n",
       "      <td>-0.257483</td>\n",
       "      <td>-0.239358</td>\n",
       "      <td>-0.199847</td>\n",
       "      <td>0</td>\n",
       "    </tr>\n",
       "    <tr>\n",
       "      <th>4</th>\n",
       "      <td>0.127957</td>\n",
       "      <td>0.373207</td>\n",
       "      <td>-0.204707</td>\n",
       "      <td>-0.689461</td>\n",
       "      <td>0.730783</td>\n",
       "      <td>-0.180958</td>\n",
       "      <td>0.629337</td>\n",
       "      <td>0.008063</td>\n",
       "      <td>-0.019499</td>\n",
       "      <td>-0.513947</td>\n",
       "      <td>...</td>\n",
       "      <td>-0.247666</td>\n",
       "      <td>-0.247642</td>\n",
       "      <td>-0.245294</td>\n",
       "      <td>-0.252233</td>\n",
       "      <td>-0.241140</td>\n",
       "      <td>-0.250029</td>\n",
       "      <td>-0.257483</td>\n",
       "      <td>-0.239358</td>\n",
       "      <td>-0.199847</td>\n",
       "      <td>0</td>\n",
       "    </tr>\n",
       "  </tbody>\n",
       "</table>\n",
       "<p>5 rows × 54 columns</p>\n",
       "</div>"
      ],
      "text/plain": [
       "         V1        V2        V3        V4        V5        V6        V7  \\\n",
       "0 -1.190826  0.008110 -2.067785 -0.319980  0.282701 -0.546771  1.301051   \n",
       "1  0.642077  0.239073  0.209613  0.485873 -0.234500 -0.796264  0.098932   \n",
       "2 -0.602773  0.969215  0.324712 -0.462595  0.154253 -0.866112  0.463546   \n",
       "3  0.384364 -0.414595  0.720458  1.013522 -0.473677  1.020495 -0.522945   \n",
       "4  0.127957  0.373207 -0.204707 -0.689461  0.730783 -0.180958  0.629337   \n",
       "\n",
       "         V8        V9       V10  ...    Time_cluster_(54000.0, 57600.0]  \\\n",
       "0 -2.301310 -0.310362  0.190875  ...                          -0.247666   \n",
       "1 -0.196006 -0.044063 -0.273813  ...                          -0.247666   \n",
       "2 -3.345351  0.375650  0.153340  ...                          -0.247666   \n",
       "3  0.403216  0.779793 -0.287009  ...                          -0.247666   \n",
       "4  0.008063 -0.019499 -0.513947  ...                          -0.247666   \n",
       "\n",
       "   Time_cluster_(57600.0, 61200.0]  Time_cluster_(61200.0, 64800.0]  \\\n",
       "0                        -0.247642                        -0.245294   \n",
       "1                        -0.247642                        -0.245294   \n",
       "2                        -0.247642                        -0.245294   \n",
       "3                        -0.247642                        -0.245294   \n",
       "4                        -0.247642                        -0.245294   \n",
       "\n",
       "   Time_cluster_(64800.0, 68400.0]  Time_cluster_(68400.0, 72000.0]  \\\n",
       "0                        -0.252233                        -0.241140   \n",
       "1                         3.964587                        -0.241140   \n",
       "2                        -0.252233                        -0.241140   \n",
       "3                        -0.252233                         4.146971   \n",
       "4                        -0.252233                        -0.241140   \n",
       "\n",
       "   Time_cluster_(72000.0, 75600.0]  Time_cluster_(75600.0, 79200.0]  \\\n",
       "0                        -0.250029                        -0.257483   \n",
       "1                        -0.250029                        -0.257483   \n",
       "2                        -0.250029                        -0.257483   \n",
       "3                        -0.250029                        -0.257483   \n",
       "4                        -0.250029                        -0.257483   \n",
       "\n",
       "   Time_cluster_(79200.0, 82800.0]  Time_cluster_(82800.0, 86400.0]  Class  \n",
       "0                        -0.239358                        -0.199847      0  \n",
       "1                        -0.239358                        -0.199847      0  \n",
       "2                        -0.239358                        -0.199847      0  \n",
       "3                        -0.239358                        -0.199847      0  \n",
       "4                        -0.239358                        -0.199847      0  \n",
       "\n",
       "[5 rows x 54 columns]"
      ]
     },
     "execution_count": 36,
     "metadata": {},
     "output_type": "execute_result"
    }
   ],
   "source": [
    "X_train_a_df = pd.DataFrame(data=X_train_a,columns=X.columns.tolist())\n",
    "\n",
    "y_train_a_df = pd.DataFrame(data=np.array(y_train_a),columns=['Class'])\n",
    "\n",
    "\n",
    "df_train_a = pd.concat([X_train_a_df,y_train_a_df],axis = 1)\n",
    "\n",
    "df_train_a.head()"
   ]
  },
  {
   "cell_type": "code",
   "execution_count": 40,
   "metadata": {},
   "outputs": [
    {
     "data": {
      "text/plain": [
       "199659"
      ]
     },
     "execution_count": 40,
     "metadata": {},
     "output_type": "execute_result"
    },
    {
     "data": {
      "text/plain": [
       "0"
      ]
     },
     "execution_count": 40,
     "metadata": {},
     "output_type": "execute_result"
    }
   ],
   "source": [
    "df_train_a_0 = df_train_a[df_train_a.Class==0]\n",
    "len(df_train_a_0)\n",
    "df_train_a_0.Class.sum()"
   ]
  },
  {
   "cell_type": "markdown",
   "metadata": {},
   "source": [
    "Now that we have just the non-fraudulent transations we create the final data to train the autoencoder, we drop the column 'Class' and we transform the dataframe to array:"
   ]
  },
  {
   "cell_type": "code",
   "execution_count": 43,
   "metadata": {},
   "outputs": [
    {
     "data": {
      "text/html": [
       "<div>\n",
       "<style scoped>\n",
       "    .dataframe tbody tr th:only-of-type {\n",
       "        vertical-align: middle;\n",
       "    }\n",
       "\n",
       "    .dataframe tbody tr th {\n",
       "        vertical-align: top;\n",
       "    }\n",
       "\n",
       "    .dataframe thead th {\n",
       "        text-align: right;\n",
       "    }\n",
       "</style>\n",
       "<table border=\"1\" class=\"dataframe\">\n",
       "  <thead>\n",
       "    <tr style=\"text-align: right;\">\n",
       "      <th></th>\n",
       "      <th>V1</th>\n",
       "      <th>V2</th>\n",
       "      <th>V3</th>\n",
       "      <th>V4</th>\n",
       "      <th>V5</th>\n",
       "      <th>V6</th>\n",
       "      <th>V7</th>\n",
       "      <th>V8</th>\n",
       "      <th>V9</th>\n",
       "      <th>V10</th>\n",
       "      <th>...</th>\n",
       "      <th>Time_cluster_(50400.0, 54000.0]</th>\n",
       "      <th>Time_cluster_(54000.0, 57600.0]</th>\n",
       "      <th>Time_cluster_(57600.0, 61200.0]</th>\n",
       "      <th>Time_cluster_(61200.0, 64800.0]</th>\n",
       "      <th>Time_cluster_(64800.0, 68400.0]</th>\n",
       "      <th>Time_cluster_(68400.0, 72000.0]</th>\n",
       "      <th>Time_cluster_(72000.0, 75600.0]</th>\n",
       "      <th>Time_cluster_(75600.0, 79200.0]</th>\n",
       "      <th>Time_cluster_(79200.0, 82800.0]</th>\n",
       "      <th>Time_cluster_(82800.0, 86400.0]</th>\n",
       "    </tr>\n",
       "  </thead>\n",
       "  <tbody>\n",
       "    <tr>\n",
       "      <th>0</th>\n",
       "      <td>-1.190826</td>\n",
       "      <td>0.008110</td>\n",
       "      <td>-2.067785</td>\n",
       "      <td>-0.319980</td>\n",
       "      <td>0.282701</td>\n",
       "      <td>-0.546771</td>\n",
       "      <td>1.301051</td>\n",
       "      <td>-2.301310</td>\n",
       "      <td>-0.310362</td>\n",
       "      <td>0.190875</td>\n",
       "      <td>...</td>\n",
       "      <td>-0.248527</td>\n",
       "      <td>-0.247666</td>\n",
       "      <td>-0.247642</td>\n",
       "      <td>-0.245294</td>\n",
       "      <td>-0.252233</td>\n",
       "      <td>-0.24114</td>\n",
       "      <td>-0.250029</td>\n",
       "      <td>-0.257483</td>\n",
       "      <td>-0.239358</td>\n",
       "      <td>-0.199847</td>\n",
       "    </tr>\n",
       "    <tr>\n",
       "      <th>1</th>\n",
       "      <td>0.642077</td>\n",
       "      <td>0.239073</td>\n",
       "      <td>0.209613</td>\n",
       "      <td>0.485873</td>\n",
       "      <td>-0.234500</td>\n",
       "      <td>-0.796264</td>\n",
       "      <td>0.098932</td>\n",
       "      <td>-0.196006</td>\n",
       "      <td>-0.044063</td>\n",
       "      <td>-0.273813</td>\n",
       "      <td>...</td>\n",
       "      <td>-0.248527</td>\n",
       "      <td>-0.247666</td>\n",
       "      <td>-0.247642</td>\n",
       "      <td>-0.245294</td>\n",
       "      <td>3.964587</td>\n",
       "      <td>-0.24114</td>\n",
       "      <td>-0.250029</td>\n",
       "      <td>-0.257483</td>\n",
       "      <td>-0.239358</td>\n",
       "      <td>-0.199847</td>\n",
       "    </tr>\n",
       "  </tbody>\n",
       "</table>\n",
       "<p>2 rows × 53 columns</p>\n",
       "</div>"
      ],
      "text/plain": [
       "         V1        V2        V3        V4        V5        V6        V7  \\\n",
       "0 -1.190826  0.008110 -2.067785 -0.319980  0.282701 -0.546771  1.301051   \n",
       "1  0.642077  0.239073  0.209613  0.485873 -0.234500 -0.796264  0.098932   \n",
       "\n",
       "         V8        V9       V10               ...                 \\\n",
       "0 -2.301310 -0.310362  0.190875               ...                  \n",
       "1 -0.196006 -0.044063 -0.273813               ...                  \n",
       "\n",
       "   Time_cluster_(50400.0, 54000.0]  Time_cluster_(54000.0, 57600.0]  \\\n",
       "0                        -0.248527                        -0.247666   \n",
       "1                        -0.248527                        -0.247666   \n",
       "\n",
       "   Time_cluster_(57600.0, 61200.0]  Time_cluster_(61200.0, 64800.0]  \\\n",
       "0                        -0.247642                        -0.245294   \n",
       "1                        -0.247642                        -0.245294   \n",
       "\n",
       "   Time_cluster_(64800.0, 68400.0]  Time_cluster_(68400.0, 72000.0]  \\\n",
       "0                        -0.252233                         -0.24114   \n",
       "1                         3.964587                         -0.24114   \n",
       "\n",
       "   Time_cluster_(72000.0, 75600.0]  Time_cluster_(75600.0, 79200.0]  \\\n",
       "0                        -0.250029                        -0.257483   \n",
       "1                        -0.250029                        -0.257483   \n",
       "\n",
       "   Time_cluster_(79200.0, 82800.0]  Time_cluster_(82800.0, 86400.0]  \n",
       "0                        -0.239358                        -0.199847  \n",
       "1                        -0.239358                        -0.199847  \n",
       "\n",
       "[2 rows x 53 columns]"
      ]
     },
     "execution_count": 43,
     "metadata": {},
     "output_type": "execute_result"
    },
    {
     "data": {
      "text/plain": [
       "array([[-1.19082559,  0.00810973, -2.06778495, ..., -0.25748304,\n",
       "        -0.23935767, -0.19984695],\n",
       "       [ 0.64207692,  0.23907324,  0.20961312, ..., -0.25748304,\n",
       "        -0.23935767, -0.19984695],\n",
       "       [-0.60277335,  0.96921453,  0.32471192, ..., -0.25748304,\n",
       "        -0.23935767, -0.19984695],\n",
       "       ...,\n",
       "       [ 0.00646304,  0.63632307,  0.1536399 , ..., -0.25748304,\n",
       "        -0.23935767, -0.19984695],\n",
       "       [ 0.4583078 , -0.29182565,  0.78409389, ..., -0.25748304,\n",
       "        -0.23935767, -0.19984695],\n",
       "       [ 0.90578448, -0.20322477, -1.42679993, ..., -0.25748304,\n",
       "        -0.23935767,  5.00382922]])"
      ]
     },
     "execution_count": 43,
     "metadata": {},
     "output_type": "execute_result"
    }
   ],
   "source": [
    "X_autoencoder = df_train_a_0.drop(columns='Class')\n",
    "X_autoencoder.head(2)\n",
    "\n",
    "X_autoencoder = np.array(X_autoencoder)\n",
    "X_autoencoder"
   ]
  },
  {
   "cell_type": "markdown",
   "metadata": {},
   "source": [
    "# Classification setting"
   ]
  },
  {
   "cell_type": "markdown",
   "metadata": {},
   "source": [
    "We will use:\n",
    "\n",
    "- 199,659 non-fraudulent transactions (Class 0) to train the autoencoder\n",
    "- 50,000 records with 91 fraudulent transactions as validation set to define the error threshold\n",
    "- 34,807 records with 60 fraudulent transactions as test set to make predictions"
   ]
  },
  {
   "cell_type": "markdown",
   "metadata": {},
   "source": [
    "# Autoencoder"
   ]
  },
  {
   "cell_type": "markdown",
   "metadata": {},
   "source": [
    "## Model 1: 1 compression layer"
   ]
  },
  {
   "cell_type": "code",
   "execution_count": 44,
   "metadata": {},
   "outputs": [
    {
     "name": "stderr",
     "output_type": "stream",
     "text": [
      "Using TensorFlow backend.\n"
     ]
    }
   ],
   "source": [
    "import tensorflow as tf\n",
    "from keras.models import Model, load_model\n",
    "from keras.layers import Input, Dense\n",
    "from keras.callbacks import ModelCheckpoint, TensorBoard\n",
    "from keras import regularizers"
   ]
  },
  {
   "cell_type": "code",
   "execution_count": 45,
   "metadata": {},
   "outputs": [],
   "source": [
    "input_dim = X_autoencoder.shape[1]\n",
    "encoding_dim = int((len(X_train_a_df.columns)-1) / 2)\n",
    "\n",
    "input_layer = Input(shape=(input_dim, ))\n",
    "\n",
    "encoder = Dense(encoding_dim, activation=\"relu\", \n",
    "                activity_regularizer=regularizers.l1(10e-5))(input_layer)\n",
    "\n",
    "decoder = Dense(input_dim, activation='relu')(encoder)\n",
    "\n",
    "autoencoder = Model(inputs=input_layer, outputs=decoder)"
   ]
  },
  {
   "cell_type": "code",
   "execution_count": 46,
   "metadata": {
    "scrolled": false
   },
   "outputs": [
    {
     "name": "stdout",
     "output_type": "stream",
     "text": [
      "Epoch 1/100\n",
      "199659/199659 [==============================] - 22s 112us/step - loss: 0.5577 - acc: 0.8070\n",
      "Epoch 2/100\n",
      "199659/199659 [==============================] - 18s 92us/step - loss: 0.4610 - acc: 0.8499\n",
      "Epoch 3/100\n",
      "199659/199659 [==============================] - 19s 98us/step - loss: 0.4430 - acc: 0.8514 0s - loss: 0.4431 - acc: 0.8\n",
      "Epoch 4/100\n",
      "199659/199659 [==============================] - 18s 90us/step - loss: 0.4322 - acc: 0.8524\n",
      "Epoch 5/100\n",
      "199659/199659 [==============================] - 19s 93us/step - loss: 0.4237 - acc: 0.8530\n",
      "Epoch 6/100\n",
      "199659/199659 [==============================] - 18s 91us/step - loss: 0.4192 - acc: 0.8534\n",
      "Epoch 7/100\n",
      "199659/199659 [==============================] - 18s 91us/step - loss: 0.4162 - acc: 0.8540\n",
      "Epoch 8/100\n",
      "199659/199659 [==============================] - 19s 94us/step - loss: 0.4137 - acc: 0.8543\n",
      "Epoch 9/100\n",
      "199659/199659 [==============================] - 19s 97us/step - loss: 0.4120 - acc: 0.8541\n",
      "Epoch 10/100\n",
      "199659/199659 [==============================] - 19s 93us/step - loss: 0.4103 - acc: 0.8540\n",
      "Epoch 11/100\n",
      "199659/199659 [==============================] - 20s 98us/step - loss: 0.4085 - acc: 0.8542\n",
      "Epoch 12/100\n",
      "199659/199659 [==============================] - 20s 98us/step - loss: 0.4077 - acc: 0.8543\n",
      "Epoch 13/100\n",
      "199659/199659 [==============================] - 20s 102us/step - loss: 0.4065 - acc: 0.8545\n",
      "Epoch 14/100\n",
      "199659/199659 [==============================] - 20s 99us/step - loss: 0.4059 - acc: 0.8545 1s - loss:\n",
      "Epoch 15/100\n",
      "199659/199659 [==============================] - 19s 97us/step - loss: 0.4059 - acc: 0.8544\n",
      "Epoch 16/100\n",
      "199659/199659 [==============================] - 19s 97us/step - loss: 0.4035 - acc: 0.8546\n",
      "Epoch 17/100\n",
      "199659/199659 [==============================] - 23s 115us/step - loss: 0.4043 - acc: 0.8547\n",
      "Epoch 18/100\n",
      "199659/199659 [==============================] - 21s 105us/step - loss: 0.4025 - acc: 0.8550 - ETA: - ETA: 1\n",
      "Epoch 19/100\n",
      "199659/199659 [==============================] - 21s 103us/step - loss: 0.4033 - acc: 0.8547\n",
      "Epoch 20/100\n",
      "199659/199659 [==============================] - 21s 106us/step - loss: 0.4026 - acc: 0.85501s - lo\n",
      "Epoch 21/100\n",
      "199659/199659 [==============================] - 21s 105us/step - loss: 0.4025 - acc: 0.8550\n",
      "Epoch 22/100\n",
      "199659/199659 [==============================] - 21s 104us/step - loss: 0.4023 - acc: 0.8547\n",
      "Epoch 23/100\n",
      "199659/199659 [==============================] - 20s 99us/step - loss: 0.4016 - acc: 0.8549\n",
      "Epoch 24/100\n",
      "199659/199659 [==============================] - 14s 72us/step - loss: 0.4011 - acc: 0.8551\n",
      "Epoch 25/100\n",
      "199659/199659 [==============================] - 15s 73us/step - loss: 0.4016 - acc: 0.8549\n",
      "Epoch 26/100\n",
      "199659/199659 [==============================] - 16s 80us/step - loss: 0.4011 - acc: 0.8551\n",
      "Epoch 27/100\n",
      "199659/199659 [==============================] - 16s 80us/step - loss: 0.4012 - acc: 0.8547\n",
      "Epoch 28/100\n",
      "199659/199659 [==============================] - 16s 80us/step - loss: 0.4010 - acc: 0.8556\n",
      "Epoch 29/100\n",
      "199659/199659 [==============================] - 15s 78us/step - loss: 0.3998 - acc: 0.8556\n",
      "Epoch 30/100\n",
      "199659/199659 [==============================] - 16s 80us/step - loss: 0.4000 - acc: 0.8554\n",
      "Epoch 31/100\n",
      "199659/199659 [==============================] - 14s 72us/step - loss: 0.3997 - acc: 0.8554\n",
      "Epoch 32/100\n",
      "199659/199659 [==============================] - 16s 80us/step - loss: 0.3997 - acc: 0.8553\n",
      "Epoch 33/100\n",
      "199659/199659 [==============================] - 16s 80us/step - loss: 0.3998 - acc: 0.8554\n",
      "Epoch 34/100\n",
      "199659/199659 [==============================] - 18s 92us/step - loss: 0.3990 - acc: 0.8553 0s - loss: 0.3993 - acc: 0\n",
      "Epoch 35/100\n",
      "199659/199659 [==============================] - 16s 79us/step - loss: 0.3998 - acc: 0.8553\n",
      "Epoch 36/100\n",
      "199659/199659 [==============================] - 16s 79us/step - loss: 0.3990 - acc: 0.8551\n",
      "Epoch 37/100\n",
      "199659/199659 [==============================] - 15s 77us/step - loss: 0.3983 - acc: 0.8556\n",
      "Epoch 38/100\n",
      "199659/199659 [==============================] - 16s 81us/step - loss: 0.3990 - acc: 0.8552\n",
      "Epoch 39/100\n",
      "199659/199659 [==============================] - 16s 80us/step - loss: 0.3982 - acc: 0.8553\n",
      "Epoch 40/100\n",
      "199659/199659 [==============================] - 16s 81us/step - loss: 0.3976 - acc: 0.8554\n",
      "Epoch 41/100\n",
      "199659/199659 [==============================] - 16s 81us/step - loss: 0.3980 - acc: 0.8552\n",
      "Epoch 42/100\n",
      "199659/199659 [==============================] - 16s 80us/step - loss: 0.3978 - acc: 0.8557\n",
      "Epoch 43/100\n",
      "199659/199659 [==============================] - 16s 80us/step - loss: 0.3976 - acc: 0.8558\n",
      "Epoch 44/100\n",
      "199659/199659 [==============================] - 16s 79us/step - loss: 0.3973 - acc: 0.8554\n",
      "Epoch 45/100\n",
      "199659/199659 [==============================] - 16s 81us/step - loss: 0.3972 - acc: 0.8561\n",
      "Epoch 46/100\n",
      "199659/199659 [==============================] - 16s 81us/step - loss: 0.3974 - acc: 0.8558\n",
      "Epoch 47/100\n",
      "199659/199659 [==============================] - 16s 82us/step - loss: 0.3968 - acc: 0.8558\n",
      "Epoch 48/100\n",
      "199659/199659 [==============================] - 16s 80us/step - loss: 0.3973 - acc: 0.8554\n",
      "Epoch 49/100\n",
      "199659/199659 [==============================] - 17s 83us/step - loss: 0.3967 - acc: 0.8559\n",
      "Epoch 50/100\n",
      "199659/199659 [==============================] - 16s 81us/step - loss: 0.3972 - acc: 0.8555\n",
      "Epoch 51/100\n",
      "199659/199659 [==============================] - 16s 81us/step - loss: 0.3965 - acc: 0.8558\n",
      "Epoch 52/100\n",
      "199659/199659 [==============================] - 16s 80us/step - loss: 0.3968 - acc: 0.8556\n",
      "Epoch 53/100\n",
      "199659/199659 [==============================] - 18s 91us/step - loss: 0.3962 - acc: 0.8557\n",
      "Epoch 54/100\n",
      "199659/199659 [==============================] - 16s 80us/step - loss: 0.3964 - acc: 0.8555\n",
      "Epoch 55/100\n",
      "199659/199659 [==============================] - 17s 84us/step - loss: 0.3959 - acc: 0.8557\n",
      "Epoch 56/100\n",
      "199659/199659 [==============================] - 16s 82us/step - loss: 0.3960 - acc: 0.8557\n",
      "Epoch 57/100\n",
      "199659/199659 [==============================] - 16s 80us/step - loss: 0.3958 - acc: 0.8557\n",
      "Epoch 58/100\n",
      "199659/199659 [==============================] - 16s 80us/step - loss: 0.3955 - acc: 0.8555\n",
      "Epoch 59/100\n",
      "199659/199659 [==============================] - 16s 80us/step - loss: 0.3973 - acc: 0.8554\n",
      "Epoch 60/100\n",
      "199659/199659 [==============================] - 16s 81us/step - loss: 0.3962 - acc: 0.8555\n",
      "Epoch 61/100\n",
      "199659/199659 [==============================] - 16s 81us/step - loss: 0.3954 - acc: 0.8563\n",
      "Epoch 62/100\n",
      "199659/199659 [==============================] - 16s 80us/step - loss: 0.3956 - acc: 0.8559\n",
      "Epoch 63/100\n",
      "199659/199659 [==============================] - 16s 80us/step - loss: 0.3969 - acc: 0.8556\n",
      "Epoch 64/100\n",
      "199659/199659 [==============================] - 17s 83us/step - loss: 0.3962 - acc: 0.8560\n",
      "Epoch 65/100\n",
      "199659/199659 [==============================] - 16s 81us/step - loss: 0.3959 - acc: 0.8557\n",
      "Epoch 66/100\n",
      "199659/199659 [==============================] - 16s 82us/step - loss: 0.3955 - acc: 0.8557\n",
      "Epoch 67/100\n",
      "199659/199659 [==============================] - 16s 81us/step - loss: 0.3959 - acc: 0.8556\n",
      "Epoch 68/100\n",
      "199659/199659 [==============================] - 16s 82us/step - loss: 0.3947 - acc: 0.8562\n",
      "Epoch 69/100\n",
      "199659/199659 [==============================] - 16s 80us/step - loss: 0.3956 - acc: 0.8556\n",
      "Epoch 70/100\n",
      "199659/199659 [==============================] - 16s 82us/step - loss: 0.3953 - acc: 0.8561\n",
      "Epoch 71/100\n",
      "199659/199659 [==============================] - 16s 82us/step - loss: 0.3957 - acc: 0.8557\n",
      "Epoch 72/100\n",
      "199659/199659 [==============================] - 18s 92us/step - loss: 0.3953 - acc: 0.8557\n",
      "Epoch 73/100\n",
      "199659/199659 [==============================] - 16s 82us/step - loss: 0.3953 - acc: 0.8559\n",
      "Epoch 74/100\n",
      "199659/199659 [==============================] - 16s 81us/step - loss: 0.3946 - acc: 0.8561\n",
      "Epoch 75/100\n",
      "199659/199659 [==============================] - 16s 81us/step - loss: 0.3956 - acc: 0.8558\n",
      "Epoch 76/100\n",
      "199659/199659 [==============================] - 16s 81us/step - loss: 0.3952 - acc: 0.8558\n",
      "Epoch 77/100\n"
     ]
    },
    {
     "name": "stdout",
     "output_type": "stream",
     "text": [
      "199659/199659 [==============================] - 16s 78us/step - loss: 0.3952 - acc: 0.8559\n",
      "Epoch 78/100\n",
      "199659/199659 [==============================] - 16s 80us/step - loss: 0.3956 - acc: 0.8557\n",
      "Epoch 79/100\n",
      "199659/199659 [==============================] - 16s 80us/step - loss: 0.3955 - acc: 0.8556\n",
      "Epoch 80/100\n",
      "199659/199659 [==============================] - 16s 80us/step - loss: 0.3951 - acc: 0.8558\n",
      "Epoch 81/100\n",
      "199659/199659 [==============================] - 16s 79us/step - loss: 0.3956 - acc: 0.8556\n",
      "Epoch 82/100\n",
      "199659/199659 [==============================] - 16s 80us/step - loss: 0.3951 - acc: 0.8558\n",
      "Epoch 83/100\n",
      "199659/199659 [==============================] - 16s 79us/step - loss: 0.3949 - acc: 0.8558\n",
      "Epoch 84/100\n",
      "199659/199659 [==============================] - 16s 79us/step - loss: 0.3959 - acc: 0.8556\n",
      "Epoch 85/100\n",
      "199659/199659 [==============================] - 16s 81us/step - loss: 0.3955 - acc: 0.8557\n",
      "Epoch 86/100\n",
      "199659/199659 [==============================] - 15s 77us/step - loss: 0.3953 - acc: 0.8559\n",
      "Epoch 87/100\n",
      "199659/199659 [==============================] - 16s 82us/step - loss: 0.3950 - acc: 0.8560\n",
      "Epoch 88/100\n",
      "199659/199659 [==============================] - 16s 82us/step - loss: 0.3946 - acc: 0.8562\n",
      "Epoch 89/100\n",
      "199659/199659 [==============================] - 16s 79us/step - loss: 0.3949 - acc: 0.8561\n",
      "Epoch 90/100\n",
      "199659/199659 [==============================] - 16s 80us/step - loss: 0.3960 - acc: 0.8556\n",
      "Epoch 91/100\n",
      "199659/199659 [==============================] - 18s 89us/step - loss: 0.3949 - acc: 0.8559\n",
      "Epoch 92/100\n",
      "199659/199659 [==============================] - 16s 80us/step - loss: 0.3947 - acc: 0.8559\n",
      "Epoch 93/100\n",
      "199659/199659 [==============================] - 16s 80us/step - loss: 0.3960 - acc: 0.8558\n",
      "Epoch 94/100\n",
      "199659/199659 [==============================] - 16s 80us/step - loss: 0.3947 - acc: 0.8560\n",
      "Epoch 95/100\n",
      "199659/199659 [==============================] - 16s 80us/step - loss: 0.3956 - acc: 0.8557 0s - loss: 0.3958\n",
      "Epoch 96/100\n",
      "199659/199659 [==============================] - 16s 81us/step - loss: 0.3961 - acc: 0.8555\n",
      "Epoch 97/100\n",
      "199659/199659 [==============================] - 16s 81us/step - loss: 0.3941 - acc: 0.8560\n",
      "Epoch 98/100\n",
      "199659/199659 [==============================] - 16s 80us/step - loss: 0.3955 - acc: 0.8557\n",
      "Epoch 99/100\n",
      "199659/199659 [==============================] - 16s 80us/step - loss: 0.3950 - acc: 0.8558\n",
      "Epoch 100/100\n",
      "199659/199659 [==============================] - 16s 79us/step - loss: 0.3949 - acc: 0.8559\n"
     ]
    }
   ],
   "source": [
    "nb_epoch = 100\n",
    "batch_size = 32\n",
    "autoencoder.compile(optimizer='adam', \n",
    "                    loss='mean_squared_error', \n",
    "                    metrics=['accuracy'])\n",
    "\n",
    "checkpointer = ModelCheckpoint(filepath=\"model_10.h5\",\n",
    "                               verbose=0,\n",
    "                               save_best_only=True)\n",
    "\n",
    "tensorboard = TensorBoard(log_dir='./logs',\n",
    "                          histogram_freq=0,\n",
    "                          write_graph=True,\n",
    "                          write_images=True)\n",
    "\n",
    "history = autoencoder.fit(X_autoencoder, X_autoencoder,\n",
    "                    epochs=nb_epoch,\n",
    "                    batch_size=batch_size,\n",
    "                    shuffle=True,\n",
    "                    #validation_data=(X_test_s, X_test_s),\n",
    "                    verbose=1,\n",
    "                    callbacks=[checkpointer, tensorboard]).history"
   ]
  },
  {
   "cell_type": "markdown",
   "metadata": {},
   "source": [
    "# Check errors in the val set"
   ]
  },
  {
   "cell_type": "code",
   "execution_count": 47,
   "metadata": {},
   "outputs": [
    {
     "data": {
      "text/html": [
       "<div>\n",
       "<style scoped>\n",
       "    .dataframe tbody tr th:only-of-type {\n",
       "        vertical-align: middle;\n",
       "    }\n",
       "\n",
       "    .dataframe tbody tr th {\n",
       "        vertical-align: top;\n",
       "    }\n",
       "\n",
       "    .dataframe thead th {\n",
       "        text-align: right;\n",
       "    }\n",
       "</style>\n",
       "<table border=\"1\" class=\"dataframe\">\n",
       "  <thead>\n",
       "    <tr style=\"text-align: right;\">\n",
       "      <th></th>\n",
       "      <th>reconstruction_error</th>\n",
       "      <th>true_class</th>\n",
       "    </tr>\n",
       "  </thead>\n",
       "  <tbody>\n",
       "    <tr>\n",
       "      <th>count</th>\n",
       "      <td>50000.000000</td>\n",
       "      <td>50000.000000</td>\n",
       "    </tr>\n",
       "    <tr>\n",
       "      <th>mean</th>\n",
       "      <td>0.405968</td>\n",
       "      <td>0.001820</td>\n",
       "    </tr>\n",
       "    <tr>\n",
       "      <th>std</th>\n",
       "      <td>1.699662</td>\n",
       "      <td>0.042623</td>\n",
       "    </tr>\n",
       "    <tr>\n",
       "      <th>min</th>\n",
       "      <td>0.032304</td>\n",
       "      <td>0.000000</td>\n",
       "    </tr>\n",
       "    <tr>\n",
       "      <th>25%</th>\n",
       "      <td>0.132257</td>\n",
       "      <td>0.000000</td>\n",
       "    </tr>\n",
       "    <tr>\n",
       "      <th>50%</th>\n",
       "      <td>0.212997</td>\n",
       "      <td>0.000000</td>\n",
       "    </tr>\n",
       "    <tr>\n",
       "      <th>75%</th>\n",
       "      <td>0.383642</td>\n",
       "      <td>0.000000</td>\n",
       "    </tr>\n",
       "    <tr>\n",
       "      <th>max</th>\n",
       "      <td>136.124928</td>\n",
       "      <td>1.000000</td>\n",
       "    </tr>\n",
       "  </tbody>\n",
       "</table>\n",
       "</div>"
      ],
      "text/plain": [
       "       reconstruction_error    true_class\n",
       "count          50000.000000  50000.000000\n",
       "mean               0.405968      0.001820\n",
       "std                1.699662      0.042623\n",
       "min                0.032304      0.000000\n",
       "25%                0.132257      0.000000\n",
       "50%                0.212997      0.000000\n",
       "75%                0.383642      0.000000\n",
       "max              136.124928      1.000000"
      ]
     },
     "execution_count": 47,
     "metadata": {},
     "output_type": "execute_result"
    }
   ],
   "source": [
    "predictions = autoencoder.predict(X_val)\n",
    "\n",
    "mse = np.mean(np.power(X_val - predictions, 2), axis=1)\n",
    "\n",
    "error_df = pd.DataFrame({'reconstruction_error': mse,\n",
    "                        'true_class': y_val})\n",
    "error_df.describe()"
   ]
  },
  {
   "cell_type": "code",
   "execution_count": 48,
   "metadata": {},
   "outputs": [],
   "source": [
    "import matplotlib.pyplot as plt"
   ]
  },
  {
   "cell_type": "code",
   "execution_count": 49,
   "metadata": {},
   "outputs": [
    {
     "data": {
      "image/png": "[encoded data removed]",
      "text/plain": [
       "<matplotlib.figure.Figure at 0x205ac7871d0>"
      ]
     },
     "metadata": {},
     "output_type": "display_data"
    }
   ],
   "source": [
    "threshold = 0.8\n",
    "\n",
    "groups = error_df.groupby('true_class')\n",
    "fig, ax = plt.subplots()\n",
    "\n",
    "for name, group in groups:\n",
    "    ax.plot(group.index, group.reconstruction_error, marker='o', ms=3.5, linestyle='',\n",
    "            label= \"Fraud\" if name == 1 else \"Normal\")\n",
    "ax.hlines(threshold, ax.get_xlim()[0], ax.get_xlim()[1], colors=\"r\", zorder=100, label='Threshold')\n",
    "ax.legend()\n",
    "plt.title(\"Reconstruction error for different classes\")\n",
    "plt.ylabel(\"Reconstruction error\")\n",
    "plt.xlabel(\"Data point index\")\n",
    "plt.show();"
   ]
  },
  {
   "cell_type": "code",
   "execution_count": 115,
   "metadata": {},
   "outputs": [],
   "source": [
    "from sklearn.metrics import confusion_matrix\n",
    "from sklearn.metrics import f1_score\n",
    "from sklearn.metrics import roc_auc_score"
   ]
  },
  {
   "cell_type": "code",
   "execution_count": 51,
   "metadata": {},
   "outputs": [
    {
     "data": {
      "text/plain": [
       "<matplotlib.figure.Figure at 0x205ac8e5da0>"
      ]
     },
     "execution_count": 51,
     "metadata": {},
     "output_type": "execute_result"
    },
    {
     "data": {
      "text/plain": [
       "<matplotlib.axes._subplots.AxesSubplot at 0x205ac7de390>"
      ]
     },
     "execution_count": 51,
     "metadata": {},
     "output_type": "execute_result"
    },
    {
     "data": {
      "text/plain": [
       "Text(0.5,1,'Confusion matrix')"
      ]
     },
     "execution_count": 51,
     "metadata": {},
     "output_type": "execute_result"
    },
    {
     "data": {
      "text/plain": [
       "Text(87,0.5,'True class')"
      ]
     },
     "execution_count": 51,
     "metadata": {},
     "output_type": "execute_result"
    },
    {
     "data": {
      "text/plain": [
       "Text(0.5,87,'Predicted class')"
      ]
     },
     "execution_count": 51,
     "metadata": {},
     "output_type": "execute_result"
    },
    {
     "data": {
      "image/png": "[encoded data removed]",
      "text/plain": [
       "<matplotlib.figure.Figure at 0x205ac8e5da0>"
      ]
     },
     "metadata": {},
     "output_type": "display_data"
    },
    {
     "data": {
      "text/plain": [
       "0.04836759371221282"
      ]
     },
     "execution_count": 51,
     "metadata": {},
     "output_type": "execute_result"
    }
   ],
   "source": [
    "y_pred = [1 if e > threshold else 0 for e in error_df.reconstruction_error.values]\n",
    "conf_matrix = confusion_matrix(error_df.true_class, y_pred)\n",
    "plt.figure(figsize=(12, 12))\n",
    "sns.heatmap(conf_matrix, annot=True, fmt=\"d\");\n",
    "plt.title(\"Confusion matrix\")\n",
    "plt.ylabel('True class')\n",
    "plt.xlabel('Predicted class')\n",
    "plt.show()\n",
    "\n",
    "f1_score(error_df.true_class, y_pred)"
   ]
  },
  {
   "cell_type": "markdown",
   "metadata": {},
   "source": [
    "## Check on the test set"
   ]
  },
  {
   "cell_type": "code",
   "execution_count": 53,
   "metadata": {},
   "outputs": [
    {
     "data": {
      "text/html": [
       "<div>\n",
       "<style scoped>\n",
       "    .dataframe tbody tr th:only-of-type {\n",
       "        vertical-align: middle;\n",
       "    }\n",
       "\n",
       "    .dataframe tbody tr th {\n",
       "        vertical-align: top;\n",
       "    }\n",
       "\n",
       "    .dataframe thead th {\n",
       "        text-align: right;\n",
       "    }\n",
       "</style>\n",
       "<table border=\"1\" class=\"dataframe\">\n",
       "  <thead>\n",
       "    <tr style=\"text-align: right;\">\n",
       "      <th></th>\n",
       "      <th>reconstruction_error</th>\n",
       "      <th>true_class</th>\n",
       "    </tr>\n",
       "  </thead>\n",
       "  <tbody>\n",
       "    <tr>\n",
       "      <th>count</th>\n",
       "      <td>34807.000000</td>\n",
       "      <td>34807.000000</td>\n",
       "    </tr>\n",
       "    <tr>\n",
       "      <th>mean</th>\n",
       "      <td>0.400762</td>\n",
       "      <td>0.001724</td>\n",
       "    </tr>\n",
       "    <tr>\n",
       "      <th>std</th>\n",
       "      <td>1.276564</td>\n",
       "      <td>0.041483</td>\n",
       "    </tr>\n",
       "    <tr>\n",
       "      <th>min</th>\n",
       "      <td>0.034577</td>\n",
       "      <td>0.000000</td>\n",
       "    </tr>\n",
       "    <tr>\n",
       "      <th>25%</th>\n",
       "      <td>0.131851</td>\n",
       "      <td>0.000000</td>\n",
       "    </tr>\n",
       "    <tr>\n",
       "      <th>50%</th>\n",
       "      <td>0.214775</td>\n",
       "      <td>0.000000</td>\n",
       "    </tr>\n",
       "    <tr>\n",
       "      <th>75%</th>\n",
       "      <td>0.391179</td>\n",
       "      <td>0.000000</td>\n",
       "    </tr>\n",
       "    <tr>\n",
       "      <th>max</th>\n",
       "      <td>71.823302</td>\n",
       "      <td>1.000000</td>\n",
       "    </tr>\n",
       "  </tbody>\n",
       "</table>\n",
       "</div>"
      ],
      "text/plain": [
       "       reconstruction_error    true_class\n",
       "count          34807.000000  34807.000000\n",
       "mean               0.400762      0.001724\n",
       "std                1.276564      0.041483\n",
       "min                0.034577      0.000000\n",
       "25%                0.131851      0.000000\n",
       "50%                0.214775      0.000000\n",
       "75%                0.391179      0.000000\n",
       "max               71.823302      1.000000"
      ]
     },
     "execution_count": 53,
     "metadata": {},
     "output_type": "execute_result"
    }
   ],
   "source": [
    "predictions_t = autoencoder.predict(X_test)\n",
    "\n",
    "mse = np.mean(np.power(X_test - predictions_t, 2), axis=1)\n",
    "\n",
    "error_df_t = pd.DataFrame({'reconstruction_error': mse,\n",
    "                        'true_class': y_test})\n",
    "error_df_t.describe()"
   ]
  },
  {
   "cell_type": "code",
   "execution_count": 54,
   "metadata": {},
   "outputs": [
    {
     "data": {
      "image/png": "[encoded data removed]",
      "text/plain": [
       "<matplotlib.figure.Figure at 0x205ac787208>"
      ]
     },
     "metadata": {},
     "output_type": "display_data"
    }
   ],
   "source": [
    "threshold_t = 0.8\n",
    "\n",
    "groups = error_df_t.groupby('true_class')\n",
    "fig, ax = plt.subplots()\n",
    "\n",
    "for name, group in groups:\n",
    "    ax.plot(group.index, group.reconstruction_error, marker='o', ms=3.5, linestyle='',\n",
    "            label= \"Fraud\" if name == 1 else \"Normal\")\n",
    "ax.hlines(threshold_t, ax.get_xlim()[0], ax.get_xlim()[1], colors=\"r\", zorder=100, label='Threshold')\n",
    "ax.legend()\n",
    "plt.title(\"Reconstruction error for different classes\")\n",
    "plt.ylabel(\"Reconstruction error\")\n",
    "plt.xlabel(\"Data point index\")\n",
    "plt.show();"
   ]
  },
  {
   "cell_type": "code",
   "execution_count": 55,
   "metadata": {},
   "outputs": [
    {
     "data": {
      "text/plain": [
       "<matplotlib.figure.Figure at 0x205ac9287b8>"
      ]
     },
     "execution_count": 55,
     "metadata": {},
     "output_type": "execute_result"
    },
    {
     "data": {
      "text/plain": [
       "<matplotlib.axes._subplots.AxesSubplot at 0x205ac7d3b38>"
      ]
     },
     "execution_count": 55,
     "metadata": {},
     "output_type": "execute_result"
    },
    {
     "data": {
      "text/plain": [
       "Text(0.5,1,'Confusion matrix')"
      ]
     },
     "execution_count": 55,
     "metadata": {},
     "output_type": "execute_result"
    },
    {
     "data": {
      "text/plain": [
       "Text(87,0.5,'True class')"
      ]
     },
     "execution_count": 55,
     "metadata": {},
     "output_type": "execute_result"
    },
    {
     "data": {
      "text/plain": [
       "Text(0.5,87,'Predicted class')"
      ]
     },
     "execution_count": 55,
     "metadata": {},
     "output_type": "execute_result"
    },
    {
     "data": {
      "image/png": "[encoded data removed]",
      "text/plain": [
       "<matplotlib.figure.Figure at 0x205ac9287b8>"
      ]
     },
     "metadata": {},
     "output_type": "display_data"
    },
    {
     "data": {
      "text/plain": [
       "0.041220115416323165"
      ]
     },
     "execution_count": 55,
     "metadata": {},
     "output_type": "execute_result"
    }
   ],
   "source": [
    "y_pred_t = [1 if e > threshold_t else 0 for e in error_df_t.reconstruction_error.values]\n",
    "conf_matrix_t = confusion_matrix(error_df_t.true_class, y_pred_t)\n",
    "plt.figure(figsize=(12, 12))\n",
    "sns.heatmap(conf_matrix_t, annot=True, fmt=\"d\");\n",
    "plt.title(\"Confusion matrix\")\n",
    "plt.ylabel('True class')\n",
    "plt.xlabel('Predicted class')\n",
    "plt.show()\n",
    "\n",
    "f1_score(error_df_t.true_class, y_pred_t)"
   ]
  },
  {
   "cell_type": "markdown",
   "metadata": {},
   "source": [
    "## Model 2: 2 compression layers"
   ]
  },
  {
   "cell_type": "code",
   "execution_count": 234,
   "metadata": {},
   "outputs": [],
   "source": [
    "#input_dim = X_train_s.shape[1]\n",
    "#encoding_dim = int(len(X_train.columns) / 2)\n",
    "\n",
    "#input_layer_m2 = Input(shape=(input_dim, ))\n",
    "\n",
    "#encoder_m2 = Dense(encoding_dim, activation=\"relu\", \n",
    "#                activity_regularizer=regularizers.l1(10e-5))(input_layer_m2)\n",
    "\n",
    "#encoder_m2 = Dense(int(encoding_dim / 2), activation=\"relu\")(encoder_m2)\n",
    "\n",
    "#decoder_m2 = Dense(int(encoding_dim / 2), activation='relu')(encoder_m2)\n",
    "\n",
    "#decoder_m2 = Dense(input_dim, activation='relu')(decoder_m2)\n",
    "\n",
    "#autoencoder_m2 = Model(inputs=input_layer_m2, outputs=decoder_m2)"
   ]
  },
  {
   "cell_type": "code",
   "execution_count": 56,
   "metadata": {},
   "outputs": [],
   "source": [
    "input_dim = X_autoencoder.shape[1]\n",
    "#encoding_dim = int(len(X_train.columns) / 2)\n",
    "\n",
    "input_layer_m2 = Input(shape=(input_dim, ))\n",
    "\n",
    "encoder_m2 = Dense(20, activation=\"relu\", \n",
    "                activity_regularizer=regularizers.l1(10e-4))(input_layer_m2)\n",
    "\n",
    "encoder_m2 = Dense(10, activation=\"relu\")(encoder_m2)\n",
    "\n",
    "encoder_m2 = Dense(5, activation=\"relu\")(encoder_m2)\n",
    "\n",
    "#decoder_m2 = Dense(5, activation='relu')(encoder_m2)\n",
    "\n",
    "decoder_m2 = Dense(10, activation='relu')(encoder_m2)\n",
    "\n",
    "decoder_m2 = Dense(20, activation='relu')(decoder_m2)\n",
    "\n",
    "decoder_m2 = Dense(input_dim, activation='relu')(decoder_m2)\n",
    "\n",
    "autoencoder_m2 = Model(inputs=input_layer_m2, outputs=decoder_m2)"
   ]
  },
  {
   "cell_type": "code",
   "execution_count": 58,
   "metadata": {
    "scrolled": false
   },
   "outputs": [
    {
     "name": "stdout",
     "output_type": "stream",
     "text": [
      "Epoch 1/70\n",
      "199659/199659 [==============================] - 25s 126us/step - loss: 0.7950 - acc: 0.4990\n",
      "Epoch 2/70\n",
      "199659/199659 [==============================] - 27s 137us/step - loss: 0.7516 - acc: 0.5517\n",
      "Epoch 3/70\n",
      "199659/199659 [==============================] - 24s 118us/step - loss: 0.7493 - acc: 0.5525\n",
      "Epoch 4/70\n",
      "199659/199659 [==============================] - 18s 92us/step - loss: 0.7482 - acc: 0.5522\n",
      "Epoch 5/70\n",
      "199659/199659 [==============================] - 21s 103us/step - loss: 0.7471 - acc: 0.5527\n",
      "Epoch 6/70\n",
      "199659/199659 [==============================] - 21s 105us/step - loss: 0.7459 - acc: 0.5539\n",
      "Epoch 7/70\n",
      "199659/199659 [==============================] - 24s 120us/step - loss: 0.7457 - acc: 0.5540\n",
      "Epoch 8/70\n",
      "199659/199659 [==============================] - 20s 99us/step - loss: 0.7445 - acc: 0.5545\n",
      "Epoch 9/70\n",
      "199659/199659 [==============================] - 19s 95us/step - loss: 0.7444 - acc: 0.5531\n",
      "Epoch 10/70\n",
      "199659/199659 [==============================] - ETA: 0s - loss: 0.7436 - acc: 0.553 - 19s 96us/step - loss: 0.7437 - acc: 0.5534\n",
      "Epoch 11/70\n",
      "199659/199659 [==============================] - 19s 94us/step - loss: 0.7442 - acc: 0.5535 0s - loss: 0.\n",
      "Epoch 12/70\n",
      "199659/199659 [==============================] - 19s 97us/step - loss: 0.7438 - acc: 0.5544\n",
      "Epoch 13/70\n",
      "199659/199659 [==============================] - 21s 106us/step - loss: 0.7443 - acc: 0.5517\n",
      "Epoch 14/70\n",
      "199659/199659 [==============================] - 20s 101us/step - loss: 0.7444 - acc: 0.5537\n",
      "Epoch 15/70\n",
      "199659/199659 [==============================] - 20s 101us/step - loss: 0.7429 - acc: 0.5518\n",
      "Epoch 16/70\n",
      "199659/199659 [==============================] - 20s 101us/step - loss: 0.7427 - acc: 0.5485\n",
      "Epoch 17/70\n",
      "199659/199659 [==============================] - 21s 104us/step - loss: 0.7420 - acc: 0.5475\n",
      "Epoch 18/70\n",
      "199659/199659 [==============================] - 20s 98us/step - loss: 0.7417 - acc: 0.5494\n",
      "Epoch 19/70\n",
      "199659/199659 [==============================] - 20s 98us/step - loss: 0.7419 - acc: 0.5498\n",
      "Epoch 20/70\n",
      "199659/199659 [==============================] - 20s 101us/step - loss: 0.7417 - acc: 0.5501\n",
      "Epoch 21/70\n",
      "199659/199659 [==============================] - 19s 97us/step - loss: 0.7435 - acc: 0.5333\n",
      "Epoch 22/70\n",
      "199659/199659 [==============================] - 19s 97us/step - loss: 0.7405 - acc: 0.5480\n",
      "Epoch 23/70\n",
      "199659/199659 [==============================] - 20s 99us/step - loss: 0.7393 - acc: 0.5514\n",
      "Epoch 24/70\n",
      "199659/199659 [==============================] - 20s 100us/step - loss: 0.7388 - acc: 0.5510\n",
      "Epoch 25/70\n",
      "199659/199659 [==============================] - 20s 100us/step - loss: 0.7393 - acc: 0.5503\n",
      "Epoch 26/70\n",
      "199659/199659 [==============================] - 19s 97us/step - loss: 0.7391 - acc: 0.5485\n",
      "Epoch 27/70\n",
      "199659/199659 [==============================] - 20s 99us/step - loss: 0.7384 - acc: 0.5504\n",
      "Epoch 28/70\n",
      "199659/199659 [==============================] - 21s 103us/step - loss: 0.7391 - acc: 0.5511\n",
      "Epoch 29/70\n",
      "199659/199659 [==============================] - 20s 100us/step - loss: 0.7383 - acc: 0.5508\n",
      "Epoch 30/70\n",
      "199659/199659 [==============================] - 20s 99us/step - loss: 0.7383 - acc: 0.5495\n",
      "Epoch 31/70\n",
      "199659/199659 [==============================] - 20s 99us/step - loss: 0.7384 - acc: 0.5509\n",
      "Epoch 32/70\n",
      "199659/199659 [==============================] - 21s 107us/step - loss: 0.7389 - acc: 0.5505\n",
      "Epoch 33/70\n",
      "199659/199659 [==============================] - 20s 102us/step - loss: 0.7396 - acc: 0.5492\n",
      "Epoch 34/70\n",
      "199659/199659 [==============================] - 20s 99us/step - loss: 0.7385 - acc: 0.5499\n",
      "Epoch 35/70\n",
      "199659/199659 [==============================] - 20s 100us/step - loss: 0.7383 - acc: 0.5505\n",
      "Epoch 36/70\n",
      "199659/199659 [==============================] - 20s 99us/step - loss: 0.7372 - acc: 0.5507\n",
      "Epoch 37/70\n",
      "199659/199659 [==============================] - 19s 93us/step - loss: 0.7525 - acc: 0.5390\n",
      "Epoch 38/70\n",
      "199659/199659 [==============================] - 12s 62us/step - loss: 0.7365 - acc: 0.5508\n",
      "Epoch 39/70\n",
      "199659/199659 [==============================] - 11s 57us/step - loss: 0.7374 - acc: 0.5497\n",
      "Epoch 40/70\n",
      "199659/199659 [==============================] - 12s 58us/step - loss: 0.7359 - acc: 0.5511\n",
      "Epoch 41/70\n",
      "199659/199659 [==============================] - 12s 59us/step - loss: 0.7369 - acc: 0.5502\n",
      "Epoch 42/70\n",
      "199659/199659 [==============================] - 11s 55us/step - loss: 0.7368 - acc: 0.5503\n",
      "Epoch 43/70\n",
      "199659/199659 [==============================] - 11s 56us/step - loss: 0.7378 - acc: 0.5480\n",
      "Epoch 44/70\n",
      "199659/199659 [==============================] - 11s 57us/step - loss: 0.7371 - acc: 0.5488\n",
      "Epoch 45/70\n",
      "199659/199659 [==============================] - 11s 55us/step - loss: 0.7383 - acc: 0.5451\n",
      "Epoch 46/70\n",
      "199659/199659 [==============================] - 11s 57us/step - loss: 0.7375 - acc: 0.5474\n",
      "Epoch 47/70\n",
      "199659/199659 [==============================] - 23s 115us/step - loss: 0.7369 - acc: 0.5502\n",
      "Epoch 48/70\n",
      "199659/199659 [==============================] - 22s 109us/step - loss: 0.7380 - acc: 0.5470\n",
      "Epoch 49/70\n",
      "199659/199659 [==============================] - 23s 115us/step - loss: 0.7377 - acc: 0.5465\n",
      "Epoch 50/70\n",
      "199659/199659 [==============================] - 23s 114us/step - loss: 0.7368 - acc: 0.5510\n",
      "Epoch 51/70\n",
      "199659/199659 [==============================] - 22s 108us/step - loss: 0.7369 - acc: 0.5483\n",
      "Epoch 52/70\n",
      "199659/199659 [==============================] - 24s 120us/step - loss: 0.7371 - acc: 0.5463\n",
      "Epoch 53/70\n",
      "199659/199659 [==============================] - 24s 120us/step - loss: 0.7384 - acc: 0.5465\n",
      "Epoch 54/70\n",
      "199659/199659 [==============================] - 26s 128us/step - loss: 0.7381 - acc: 0.5470\n",
      "Epoch 55/70\n",
      "199659/199659 [==============================] - 26s 129us/step - loss: 0.7380 - acc: 0.5455\n",
      "Epoch 56/70\n",
      "199659/199659 [==============================] - 25s 127us/step - loss: 0.7382 - acc: 0.5467\n",
      "Epoch 57/70\n",
      "199659/199659 [==============================] - 26s 130us/step - loss: 0.7381 - acc: 0.5467\n",
      "Epoch 58/70\n",
      "199659/199659 [==============================] - 27s 133us/step - loss: 0.7386 - acc: 0.5451\n",
      "Epoch 59/70\n",
      "199659/199659 [==============================] - 27s 136us/step - loss: 0.7396 - acc: 0.5416\n",
      "Epoch 60/70\n",
      "199659/199659 [==============================] - 30s 148us/step - loss: 0.7404 - acc: 0.5448\n",
      "Epoch 61/70\n",
      "199659/199659 [==============================] - 32s 161us/step - loss: 0.7395 - acc: 0.54410s - loss: 0.7394 - acc: 0.544\n",
      "Epoch 62/70\n",
      "199659/199659 [==============================] - 30s 149us/step - loss: 0.7385 - acc: 0.5468\n",
      "Epoch 63/70\n",
      "199659/199659 [==============================] - 30s 148us/step - loss: 0.7383 - acc: 0.5455\n",
      "Epoch 64/70\n",
      "199659/199659 [==============================] - 29s 147us/step - loss: 0.7377 - acc: 0.5496\n",
      "Epoch 65/70\n",
      "199659/199659 [==============================] - 29s 144us/step - loss: 0.7366 - acc: 0.5516\n",
      "Epoch 66/70\n",
      "199659/199659 [==============================] - 29s 144us/step - loss: 0.7384 - acc: 0.5495\n",
      "Epoch 67/70\n",
      "199659/199659 [==============================] - 29s 147us/step - loss: 0.7383 - acc: 0.5489\n",
      "Epoch 68/70\n",
      "199659/199659 [==============================] - 29s 145us/step - loss: 0.7373 - acc: 0.5520\n",
      "Epoch 69/70\n",
      "199659/199659 [==============================] - 28s 141us/step - loss: 0.7391 - acc: 0.5510\n",
      "Epoch 70/70\n",
      "199659/199659 [==============================] - 30s 153us/step - loss: 0.7373 - acc: 0.5517\n"
     ]
    }
   ],
   "source": [
    "nb_epoch = 70\n",
    "batch_size = 32\n",
    "autoencoder_m2.compile(optimizer='adam', \n",
    "                    loss='mean_squared_error', \n",
    "                    metrics=['accuracy'])\n",
    "\n",
    "checkpointer_m2 = ModelCheckpoint(filepath=\"model_11.h5\",\n",
    "                               verbose=0,\n",
    "                               save_best_only=True)\n",
    "\n",
    "tensorboard_m2 = TensorBoard(log_dir='./logs',\n",
    "                          histogram_freq=0,\n",
    "                          write_graph=True,\n",
    "                          write_images=True)\n",
    "\n",
    "history_m2 = autoencoder_m2.fit(X_autoencoder, X_autoencoder,\n",
    "                    epochs=nb_epoch,\n",
    "                    batch_size=batch_size,\n",
    "                    shuffle=True,\n",
    "                    #validation_data=(X_test_s, X_test_s),\n",
    "                    verbose=1,\n",
    "                    callbacks=[checkpointer_m2, tensorboard_m2]).history"
   ]
  },
  {
   "cell_type": "markdown",
   "metadata": {},
   "source": [
    "## Check errors in val set"
   ]
  },
  {
   "cell_type": "code",
   "execution_count": 59,
   "metadata": {},
   "outputs": [
    {
     "data": {
      "text/html": [
       "<div>\n",
       "<style scoped>\n",
       "    .dataframe tbody tr th:only-of-type {\n",
       "        vertical-align: middle;\n",
       "    }\n",
       "\n",
       "    .dataframe tbody tr th {\n",
       "        vertical-align: top;\n",
       "    }\n",
       "\n",
       "    .dataframe thead th {\n",
       "        text-align: right;\n",
       "    }\n",
       "</style>\n",
       "<table border=\"1\" class=\"dataframe\">\n",
       "  <thead>\n",
       "    <tr style=\"text-align: right;\">\n",
       "      <th></th>\n",
       "      <th>reconstruction_error</th>\n",
       "      <th>true_class</th>\n",
       "    </tr>\n",
       "  </thead>\n",
       "  <tbody>\n",
       "    <tr>\n",
       "      <th>count</th>\n",
       "      <td>50000.000000</td>\n",
       "      <td>50000.000000</td>\n",
       "    </tr>\n",
       "    <tr>\n",
       "      <th>mean</th>\n",
       "      <td>0.741266</td>\n",
       "      <td>0.001820</td>\n",
       "    </tr>\n",
       "    <tr>\n",
       "      <th>std</th>\n",
       "      <td>2.154806</td>\n",
       "      <td>0.042623</td>\n",
       "    </tr>\n",
       "    <tr>\n",
       "      <th>min</th>\n",
       "      <td>0.104738</td>\n",
       "      <td>0.000000</td>\n",
       "    </tr>\n",
       "    <tr>\n",
       "      <th>25%</th>\n",
       "      <td>0.321952</td>\n",
       "      <td>0.000000</td>\n",
       "    </tr>\n",
       "    <tr>\n",
       "      <th>50%</th>\n",
       "      <td>0.503311</td>\n",
       "      <td>0.000000</td>\n",
       "    </tr>\n",
       "    <tr>\n",
       "      <th>75%</th>\n",
       "      <td>0.700828</td>\n",
       "      <td>0.000000</td>\n",
       "    </tr>\n",
       "    <tr>\n",
       "      <th>max</th>\n",
       "      <td>154.310816</td>\n",
       "      <td>1.000000</td>\n",
       "    </tr>\n",
       "  </tbody>\n",
       "</table>\n",
       "</div>"
      ],
      "text/plain": [
       "       reconstruction_error    true_class\n",
       "count          50000.000000  50000.000000\n",
       "mean               0.741266      0.001820\n",
       "std                2.154806      0.042623\n",
       "min                0.104738      0.000000\n",
       "25%                0.321952      0.000000\n",
       "50%                0.503311      0.000000\n",
       "75%                0.700828      0.000000\n",
       "max              154.310816      1.000000"
      ]
     },
     "execution_count": 59,
     "metadata": {},
     "output_type": "execute_result"
    }
   ],
   "source": [
    "predictions_m2 = autoencoder_m2.predict(X_val)\n",
    "\n",
    "mse_m2 = np.mean(np.power(X_val - predictions_m2, 2), axis=1)\n",
    "\n",
    "error_df_m2 = pd.DataFrame({'reconstruction_error': mse_m2,\n",
    "                        'true_class': y_val})\n",
    "error_df_m2.describe()"
   ]
  },
  {
   "cell_type": "code",
   "execution_count": 60,
   "metadata": {},
   "outputs": [
    {
     "data": {
      "image/png": "[encoded data removed]",
      "text/plain": [
       "<matplotlib.figure.Figure at 0x205ac928b00>"
      ]
     },
     "metadata": {},
     "output_type": "display_data"
    }
   ],
   "source": [
    "threshold_m2 = 1.3\n",
    "\n",
    "groups = error_df_m2.groupby('true_class')\n",
    "fig, ax = plt.subplots()\n",
    "\n",
    "for name, group in groups:\n",
    "    ax.plot(group.index, group.reconstruction_error, marker='o', ms=3.5, linestyle='',\n",
    "            label= \"Fraud\" if name == 1 else \"Normal\")\n",
    "ax.hlines(threshold_m2, ax.get_xlim()[0], ax.get_xlim()[1], colors=\"r\", zorder=100, label='Threshold')\n",
    "ax.legend()\n",
    "plt.title(\"Reconstruction error for different classes\")\n",
    "plt.ylabel(\"Reconstruction error\")\n",
    "plt.xlabel(\"Data point index\")\n",
    "plt.show();"
   ]
  },
  {
   "cell_type": "code",
   "execution_count": 61,
   "metadata": {},
   "outputs": [
    {
     "data": {
      "text/plain": [
       "<matplotlib.figure.Figure at 0x205c0fa2c50>"
      ]
     },
     "execution_count": 61,
     "metadata": {},
     "output_type": "execute_result"
    },
    {
     "data": {
      "text/plain": [
       "<matplotlib.axes._subplots.AxesSubplot at 0x205c0fbabe0>"
      ]
     },
     "execution_count": 61,
     "metadata": {},
     "output_type": "execute_result"
    },
    {
     "data": {
      "text/plain": [
       "Text(0.5,1,'Confusion matrix')"
      ]
     },
     "execution_count": 61,
     "metadata": {},
     "output_type": "execute_result"
    },
    {
     "data": {
      "text/plain": [
       "Text(87,0.5,'True class')"
      ]
     },
     "execution_count": 61,
     "metadata": {},
     "output_type": "execute_result"
    },
    {
     "data": {
      "text/plain": [
       "Text(0.5,87,'Predicted class')"
      ]
     },
     "execution_count": 61,
     "metadata": {},
     "output_type": "execute_result"
    },
    {
     "data": {
      "image/png": "[encoded data removed]",
      "text/plain": [
       "<matplotlib.figure.Figure at 0x205c0fa2c50>"
      ]
     },
     "metadata": {},
     "output_type": "display_data"
    },
    {
     "data": {
      "text/plain": [
       "0.03835360149672591"
      ]
     },
     "execution_count": 61,
     "metadata": {},
     "output_type": "execute_result"
    }
   ],
   "source": [
    "y_pred_m2 = [1 if e > threshold_m2 else 0 for e in error_df_m2.reconstruction_error.values]\n",
    "conf_matrix_m2 = confusion_matrix(error_df_m2.true_class, y_pred_m2)\n",
    "plt.figure(figsize=(12, 12))\n",
    "sns.heatmap(conf_matrix_m2, annot=True, fmt=\"d\");\n",
    "plt.title(\"Confusion matrix\")\n",
    "plt.ylabel('True class')\n",
    "plt.xlabel('Predicted class')\n",
    "plt.show()\n",
    "\n",
    "f1_score(error_df_m2.true_class, y_pred_m2)"
   ]
  },
  {
   "cell_type": "markdown",
   "metadata": {},
   "source": [
    "## Check in test set"
   ]
  },
  {
   "cell_type": "code",
   "execution_count": 62,
   "metadata": {},
   "outputs": [
    {
     "data": {
      "text/html": [
       "<div>\n",
       "<style scoped>\n",
       "    .dataframe tbody tr th:only-of-type {\n",
       "        vertical-align: middle;\n",
       "    }\n",
       "\n",
       "    .dataframe tbody tr th {\n",
       "        vertical-align: top;\n",
       "    }\n",
       "\n",
       "    .dataframe thead th {\n",
       "        text-align: right;\n",
       "    }\n",
       "</style>\n",
       "<table border=\"1\" class=\"dataframe\">\n",
       "  <thead>\n",
       "    <tr style=\"text-align: right;\">\n",
       "      <th></th>\n",
       "      <th>reconstruction_error</th>\n",
       "      <th>true_class</th>\n",
       "    </tr>\n",
       "  </thead>\n",
       "  <tbody>\n",
       "    <tr>\n",
       "      <th>count</th>\n",
       "      <td>34807.000000</td>\n",
       "      <td>34807.000000</td>\n",
       "    </tr>\n",
       "    <tr>\n",
       "      <th>mean</th>\n",
       "      <td>0.400762</td>\n",
       "      <td>0.001724</td>\n",
       "    </tr>\n",
       "    <tr>\n",
       "      <th>std</th>\n",
       "      <td>1.276564</td>\n",
       "      <td>0.041483</td>\n",
       "    </tr>\n",
       "    <tr>\n",
       "      <th>min</th>\n",
       "      <td>0.034577</td>\n",
       "      <td>0.000000</td>\n",
       "    </tr>\n",
       "    <tr>\n",
       "      <th>25%</th>\n",
       "      <td>0.131851</td>\n",
       "      <td>0.000000</td>\n",
       "    </tr>\n",
       "    <tr>\n",
       "      <th>50%</th>\n",
       "      <td>0.214775</td>\n",
       "      <td>0.000000</td>\n",
       "    </tr>\n",
       "    <tr>\n",
       "      <th>75%</th>\n",
       "      <td>0.391179</td>\n",
       "      <td>0.000000</td>\n",
       "    </tr>\n",
       "    <tr>\n",
       "      <th>max</th>\n",
       "      <td>71.823302</td>\n",
       "      <td>1.000000</td>\n",
       "    </tr>\n",
       "  </tbody>\n",
       "</table>\n",
       "</div>"
      ],
      "text/plain": [
       "       reconstruction_error    true_class\n",
       "count          34807.000000  34807.000000\n",
       "mean               0.400762      0.001724\n",
       "std                1.276564      0.041483\n",
       "min                0.034577      0.000000\n",
       "25%                0.131851      0.000000\n",
       "50%                0.214775      0.000000\n",
       "75%                0.391179      0.000000\n",
       "max               71.823302      1.000000"
      ]
     },
     "execution_count": 62,
     "metadata": {},
     "output_type": "execute_result"
    }
   ],
   "source": [
    "predictions_m2_t = autoencoder.predict(X_test)\n",
    "\n",
    "mse = np.mean(np.power(X_test - predictions_m2_t, 2), axis=1)\n",
    "\n",
    "error_df_m2_t = pd.DataFrame({'reconstruction_error': mse,\n",
    "                        'true_class': y_test})\n",
    "error_df_m2_t.describe()"
   ]
  },
  {
   "cell_type": "code",
   "execution_count": 63,
   "metadata": {},
   "outputs": [
    {
     "data": {
      "image/png": "[encoded data removed]",
      "text/plain": [
       "<matplotlib.figure.Figure at 0x205acb6c5f8>"
      ]
     },
     "metadata": {},
     "output_type": "display_data"
    }
   ],
   "source": [
    "threshold_m2_t = 1.3\n",
    "\n",
    "groups = error_df_m2_t.groupby('true_class')\n",
    "fig, ax = plt.subplots()\n",
    "\n",
    "for name, group in groups:\n",
    "    ax.plot(group.index, group.reconstruction_error, marker='o', ms=3.5, linestyle='',\n",
    "            label= \"Fraud\" if name == 1 else \"Normal\")\n",
    "ax.hlines(threshold_m2_t, ax.get_xlim()[0], ax.get_xlim()[1], colors=\"r\", zorder=100, label='Threshold')\n",
    "ax.legend()\n",
    "plt.title(\"Reconstruction error for different classes\")\n",
    "plt.ylabel(\"Reconstruction error\")\n",
    "plt.xlabel(\"Data point index\")\n",
    "plt.show();"
   ]
  },
  {
   "cell_type": "code",
   "execution_count": 64,
   "metadata": {},
   "outputs": [
    {
     "data": {
      "text/plain": [
       "<matplotlib.figure.Figure at 0x205c0fa2c88>"
      ]
     },
     "execution_count": 64,
     "metadata": {},
     "output_type": "execute_result"
    },
    {
     "data": {
      "text/plain": [
       "<matplotlib.axes._subplots.AxesSubplot at 0x205ada3e278>"
      ]
     },
     "execution_count": 64,
     "metadata": {},
     "output_type": "execute_result"
    },
    {
     "data": {
      "text/plain": [
       "Text(0.5,1,'Confusion matrix')"
      ]
     },
     "execution_count": 64,
     "metadata": {},
     "output_type": "execute_result"
    },
    {
     "data": {
      "text/plain": [
       "Text(87,0.5,'True class')"
      ]
     },
     "execution_count": 64,
     "metadata": {},
     "output_type": "execute_result"
    },
    {
     "data": {
      "text/plain": [
       "Text(0.5,87,'Predicted class')"
      ]
     },
     "execution_count": 64,
     "metadata": {},
     "output_type": "execute_result"
    },
    {
     "data": {
      "image/png": "[encoded data removed]",
      "text/plain": [
       "<matplotlib.figure.Figure at 0x205c0fa2c88>"
      ]
     },
     "metadata": {},
     "output_type": "display_data"
    },
    {
     "data": {
      "text/plain": [
       "0.05700988947062246"
      ]
     },
     "execution_count": 64,
     "metadata": {},
     "output_type": "execute_result"
    }
   ],
   "source": [
    "y_pred_m2_t = [1 if e > threshold_m2_t else 0 for e in error_df_m2_t.reconstruction_error.values]\n",
    "conf_matrix_m2_t = confusion_matrix(error_df_m2_t.true_class, y_pred_m2_t)\n",
    "plt.figure(figsize=(12, 12))\n",
    "sns.heatmap(conf_matrix_m2_t, annot=True, fmt=\"d\");\n",
    "plt.title(\"Confusion matrix\")\n",
    "plt.ylabel('True class')\n",
    "plt.xlabel('Predicted class')\n",
    "plt.show()\n",
    "\n",
    "f1_score(error_df_m2_t.true_class, y_pred_m2_t)"
   ]
  },
  {
   "cell_type": "markdown",
   "metadata": {},
   "source": [
    "# Model 3: H2O Autoencoder"
   ]
  },
  {
   "cell_type": "code",
   "execution_count": 101,
   "metadata": {},
   "outputs": [],
   "source": [
    "from h2o.estimators.deeplearning import H2OAutoEncoderEstimator, H2ODeepLearningEstimator\n",
    "import h2o"
   ]
  },
  {
   "cell_type": "code",
   "execution_count": 102,
   "metadata": {},
   "outputs": [
    {
     "name": "stdout",
     "output_type": "stream",
     "text": [
      "Checking whether there is an H2O instance running at http://localhost:54321. connected.\n"
     ]
    },
    {
     "data": {
      "text/html": [
       "<div style=\"overflow:auto\"><table style=\"width:50%\"><tr><td>H2O cluster uptime:</td>\n",
       "<td>4 days 18 hours 28 mins</td></tr>\n",
       "<tr><td>H2O cluster timezone:</td>\n",
       "<td>America/Los_Angeles</td></tr>\n",
       "<tr><td>H2O data parsing timezone:</td>\n",
       "<td>UTC</td></tr>\n",
       "<tr><td>H2O cluster version:</td>\n",
       "<td>3.18.0.11</td></tr>\n",
       "<tr><td>H2O cluster version age:</td>\n",
       "<td>5 days </td></tr>\n",
       "<tr><td>H2O cluster name:</td>\n",
       "<td>prodi</td></tr>\n",
       "<tr><td>H2O cluster total nodes:</td>\n",
       "<td>1</td></tr>\n",
       "<tr><td>H2O cluster free memory:</td>\n",
       "<td>3.505 Gb</td></tr>\n",
       "<tr><td>H2O cluster total cores:</td>\n",
       "<td>4</td></tr>\n",
       "<tr><td>H2O cluster allowed cores:</td>\n",
       "<td>4</td></tr>\n",
       "<tr><td>H2O cluster status:</td>\n",
       "<td>locked, healthy</td></tr>\n",
       "<tr><td>H2O connection url:</td>\n",
       "<td>http://localhost:54321</td></tr>\n",
       "<tr><td>H2O connection proxy:</td>\n",
       "<td>None</td></tr>\n",
       "<tr><td>H2O internal security:</td>\n",
       "<td>False</td></tr>\n",
       "<tr><td>H2O API Extensions:</td>\n",
       "<td>Algos, AutoML, Core V3, Core V4</td></tr>\n",
       "<tr><td>Python version:</td>\n",
       "<td>3.5.4 final</td></tr></table></div>"
      ],
      "text/plain": [
       "--------------------------  -------------------------------\n",
       "H2O cluster uptime:         4 days 18 hours 28 mins\n",
       "H2O cluster timezone:       America/Los_Angeles\n",
       "H2O data parsing timezone:  UTC\n",
       "H2O cluster version:        3.18.0.11\n",
       "H2O cluster version age:    5 days\n",
       "H2O cluster name:           prodi\n",
       "H2O cluster total nodes:    1\n",
       "H2O cluster free memory:    3.505 Gb\n",
       "H2O cluster total cores:    4\n",
       "H2O cluster allowed cores:  4\n",
       "H2O cluster status:         locked, healthy\n",
       "H2O connection url:         http://localhost:54321\n",
       "H2O connection proxy:\n",
       "H2O internal security:      False\n",
       "H2O API Extensions:         Algos, AutoML, Core V3, Core V4\n",
       "Python version:             3.5.4 final\n",
       "--------------------------  -------------------------------"
      ]
     },
     "metadata": {},
     "output_type": "display_data"
    }
   ],
   "source": [
    "h2o.init()"
   ]
  },
  {
   "cell_type": "code",
   "execution_count": 103,
   "metadata": {},
   "outputs": [
    {
     "name": "stdout",
     "output_type": "stream",
     "text": [
      "Parse progress: |█████████████████████████████████████████████████████████| 100%\n",
      "Parse progress: |█████████████████████████████████████████████████████████| 100%\n",
      "Parse progress: |█████████████████████████████████████████████████████████| 100%\n"
     ]
    }
   ],
   "source": [
    "X_autoencoder_h2o = h2o.H2OFrame(X_autoencoder)\n",
    "X_val_h2o = h2o.H2OFrame(X_val)\n",
    "X_test_h2o = h2o.H2OFrame(X_test)"
   ]
  },
  {
   "cell_type": "code",
   "execution_count": 104,
   "metadata": {},
   "outputs": [
    {
     "name": "stdout",
     "output_type": "stream",
     "text": [
      "deeplearning Model Build progress: |██████████████████████████████████████| 100%\n"
     ]
    }
   ],
   "source": [
    "denoised_model = H2OAutoEncoderEstimator(activation=\"Tanh\", \n",
    "    hidden=[20,10,5,10,20], l1=1e-4, ignore_const_cols=False, epochs=100)\n",
    " \n",
    "denoised_model.train(training_frame=X_autoencoder_h2o)"
   ]
  },
  {
   "cell_type": "markdown",
   "metadata": {},
   "source": [
    "## Check error in val set"
   ]
  },
  {
   "cell_type": "code",
   "execution_count": 105,
   "metadata": {},
   "outputs": [
    {
     "data": {
      "text/html": [
       "<div>\n",
       "<style scoped>\n",
       "    .dataframe tbody tr th:only-of-type {\n",
       "        vertical-align: middle;\n",
       "    }\n",
       "\n",
       "    .dataframe tbody tr th {\n",
       "        vertical-align: top;\n",
       "    }\n",
       "\n",
       "    .dataframe thead th {\n",
       "        text-align: right;\n",
       "    }\n",
       "</style>\n",
       "<table border=\"1\" class=\"dataframe\">\n",
       "  <thead>\n",
       "    <tr style=\"text-align: right;\">\n",
       "      <th></th>\n",
       "      <th>Reconstruction.MSE</th>\n",
       "    </tr>\n",
       "  </thead>\n",
       "  <tbody>\n",
       "    <tr>\n",
       "      <th>count</th>\n",
       "      <td>50000.000000</td>\n",
       "    </tr>\n",
       "    <tr>\n",
       "      <th>mean</th>\n",
       "      <td>0.183368</td>\n",
       "    </tr>\n",
       "    <tr>\n",
       "      <th>std</th>\n",
       "      <td>0.335505</td>\n",
       "    </tr>\n",
       "    <tr>\n",
       "      <th>min</th>\n",
       "      <td>0.008432</td>\n",
       "    </tr>\n",
       "    <tr>\n",
       "      <th>25%</th>\n",
       "      <td>0.067489</td>\n",
       "    </tr>\n",
       "    <tr>\n",
       "      <th>50%</th>\n",
       "      <td>0.101034</td>\n",
       "    </tr>\n",
       "    <tr>\n",
       "      <th>75%</th>\n",
       "      <td>0.154229</td>\n",
       "    </tr>\n",
       "    <tr>\n",
       "      <th>max</th>\n",
       "      <td>7.759499</td>\n",
       "    </tr>\n",
       "  </tbody>\n",
       "</table>\n",
       "</div>"
      ],
      "text/plain": [
       "       Reconstruction.MSE\n",
       "count        50000.000000\n",
       "mean             0.183368\n",
       "std              0.335505\n",
       "min              0.008432\n",
       "25%              0.067489\n",
       "50%              0.101034\n",
       "75%              0.154229\n",
       "max              7.759499"
      ]
     },
     "execution_count": 105,
     "metadata": {},
     "output_type": "execute_result"
    }
   ],
   "source": [
    "denoised_test_rec_error = denoised_model.anomaly(X_val_h2o) * 100\n",
    "denoised_test_rec_error_df = denoised_test_rec_error.as_data_frame()\n",
    "denoised_test_rec_error_df.describe()"
   ]
  },
  {
   "cell_type": "code",
   "execution_count": 106,
   "metadata": {},
   "outputs": [],
   "source": [
    "true_class=pd.DataFrame({'true_class': y_val.values})"
   ]
  },
  {
   "cell_type": "code",
   "execution_count": 107,
   "metadata": {},
   "outputs": [
    {
     "data": {
      "text/html": [
       "<div>\n",
       "<style scoped>\n",
       "    .dataframe tbody tr th:only-of-type {\n",
       "        vertical-align: middle;\n",
       "    }\n",
       "\n",
       "    .dataframe tbody tr th {\n",
       "        vertical-align: top;\n",
       "    }\n",
       "\n",
       "    .dataframe thead th {\n",
       "        text-align: right;\n",
       "    }\n",
       "</style>\n",
       "<table border=\"1\" class=\"dataframe\">\n",
       "  <thead>\n",
       "    <tr style=\"text-align: right;\">\n",
       "      <th></th>\n",
       "      <th>reconstruction_error</th>\n",
       "      <th>true_class</th>\n",
       "    </tr>\n",
       "  </thead>\n",
       "  <tbody>\n",
       "    <tr>\n",
       "      <th>count</th>\n",
       "      <td>50000.000000</td>\n",
       "      <td>50000.000000</td>\n",
       "    </tr>\n",
       "    <tr>\n",
       "      <th>mean</th>\n",
       "      <td>0.183368</td>\n",
       "      <td>0.001820</td>\n",
       "    </tr>\n",
       "    <tr>\n",
       "      <th>std</th>\n",
       "      <td>0.335505</td>\n",
       "      <td>0.042623</td>\n",
       "    </tr>\n",
       "    <tr>\n",
       "      <th>min</th>\n",
       "      <td>0.008432</td>\n",
       "      <td>0.000000</td>\n",
       "    </tr>\n",
       "    <tr>\n",
       "      <th>25%</th>\n",
       "      <td>0.067489</td>\n",
       "      <td>0.000000</td>\n",
       "    </tr>\n",
       "    <tr>\n",
       "      <th>50%</th>\n",
       "      <td>0.101034</td>\n",
       "      <td>0.000000</td>\n",
       "    </tr>\n",
       "    <tr>\n",
       "      <th>75%</th>\n",
       "      <td>0.154229</td>\n",
       "      <td>0.000000</td>\n",
       "    </tr>\n",
       "    <tr>\n",
       "      <th>max</th>\n",
       "      <td>7.759499</td>\n",
       "      <td>1.000000</td>\n",
       "    </tr>\n",
       "  </tbody>\n",
       "</table>\n",
       "</div>"
      ],
      "text/plain": [
       "       reconstruction_error    true_class\n",
       "count          50000.000000  50000.000000\n",
       "mean               0.183368      0.001820\n",
       "std                0.335505      0.042623\n",
       "min                0.008432      0.000000\n",
       "25%                0.067489      0.000000\n",
       "50%                0.101034      0.000000\n",
       "75%                0.154229      0.000000\n",
       "max                7.759499      1.000000"
      ]
     },
     "execution_count": 107,
     "metadata": {},
     "output_type": "execute_result"
    },
    {
     "data": {
      "text/html": [
       "<div>\n",
       "<style scoped>\n",
       "    .dataframe tbody tr th:only-of-type {\n",
       "        vertical-align: middle;\n",
       "    }\n",
       "\n",
       "    .dataframe tbody tr th {\n",
       "        vertical-align: top;\n",
       "    }\n",
       "\n",
       "    .dataframe thead th {\n",
       "        text-align: right;\n",
       "    }\n",
       "</style>\n",
       "<table border=\"1\" class=\"dataframe\">\n",
       "  <thead>\n",
       "    <tr style=\"text-align: right;\">\n",
       "      <th></th>\n",
       "      <th>reconstruction_error</th>\n",
       "      <th>true_class</th>\n",
       "    </tr>\n",
       "  </thead>\n",
       "  <tbody>\n",
       "    <tr>\n",
       "      <th>0</th>\n",
       "      <td>0.037451</td>\n",
       "      <td>0</td>\n",
       "    </tr>\n",
       "    <tr>\n",
       "      <th>1</th>\n",
       "      <td>0.063957</td>\n",
       "      <td>0</td>\n",
       "    </tr>\n",
       "    <tr>\n",
       "      <th>2</th>\n",
       "      <td>0.241725</td>\n",
       "      <td>0</td>\n",
       "    </tr>\n",
       "    <tr>\n",
       "      <th>3</th>\n",
       "      <td>0.105934</td>\n",
       "      <td>0</td>\n",
       "    </tr>\n",
       "    <tr>\n",
       "      <th>4</th>\n",
       "      <td>0.103929</td>\n",
       "      <td>0</td>\n",
       "    </tr>\n",
       "  </tbody>\n",
       "</table>\n",
       "</div>"
      ],
      "text/plain": [
       "   reconstruction_error  true_class\n",
       "0              0.037451           0\n",
       "1              0.063957           0\n",
       "2              0.241725           0\n",
       "3              0.105934           0\n",
       "4              0.103929           0"
      ]
     },
     "execution_count": 107,
     "metadata": {},
     "output_type": "execute_result"
    }
   ],
   "source": [
    "error_df_h2o = pd.concat([denoised_test_rec_error_df,true_class],axis=1)\n",
    "error_df_h2o.rename(columns={'Reconstruction.MSE': 'reconstruction_error'}, inplace=True)\n",
    "error_df_h2o.describe()\n",
    "\n",
    "error_df_h2o.head()"
   ]
  },
  {
   "cell_type": "code",
   "execution_count": 108,
   "metadata": {},
   "outputs": [
    {
     "data": {
      "image/png": "[encoded data removed]",
      "text/plain": [
       "<matplotlib.figure.Figure at 0x205c0f74b00>"
      ]
     },
     "metadata": {},
     "output_type": "display_data"
    }
   ],
   "source": [
    "threshold_h2o = 2\n",
    "\n",
    "groups = error_df_h2o.groupby('true_class')\n",
    "fig, ax = plt.subplots()\n",
    "\n",
    "for name, group in groups:\n",
    "    ax.plot(group.index, group.reconstruction_error, marker='o', ms=3.5, linestyle='',\n",
    "            label= \"Fraud\" if name == 1 else \"Normal\")\n",
    "ax.hlines(threshold_h2o, ax.get_xlim()[0], ax.get_xlim()[1], colors=\"r\", zorder=100, label='Threshold')\n",
    "ax.legend()\n",
    "plt.title(\"Reconstruction error for different classes\")\n",
    "plt.ylabel(\"Reconstruction error\")\n",
    "plt.xlabel(\"Data point index\")\n",
    "plt.show();"
   ]
  },
  {
   "cell_type": "code",
   "execution_count": 109,
   "metadata": {},
   "outputs": [
    {
     "data": {
      "text/plain": [
       "<matplotlib.figure.Figure at 0x205c0f66780>"
      ]
     },
     "execution_count": 109,
     "metadata": {},
     "output_type": "execute_result"
    },
    {
     "data": {
      "text/plain": [
       "<matplotlib.axes._subplots.AxesSubplot at 0x205c10cce48>"
      ]
     },
     "execution_count": 109,
     "metadata": {},
     "output_type": "execute_result"
    },
    {
     "data": {
      "text/plain": [
       "Text(0.5,1,'Confusion matrix')"
      ]
     },
     "execution_count": 109,
     "metadata": {},
     "output_type": "execute_result"
    },
    {
     "data": {
      "text/plain": [
       "Text(87,0.5,'True class')"
      ]
     },
     "execution_count": 109,
     "metadata": {},
     "output_type": "execute_result"
    },
    {
     "data": {
      "text/plain": [
       "Text(0.5,87,'Predicted class')"
      ]
     },
     "execution_count": 109,
     "metadata": {},
     "output_type": "execute_result"
    },
    {
     "data": {
      "image/png": "[encoded data removed]",
      "text/plain": [
       "<matplotlib.figure.Figure at 0x205c0f66780>"
      ]
     },
     "metadata": {},
     "output_type": "display_data"
    },
    {
     "data": {
      "text/plain": [
       "0.2491349480968858"
      ]
     },
     "execution_count": 109,
     "metadata": {},
     "output_type": "execute_result"
    }
   ],
   "source": [
    "y_pred_h2o = [1 if e > threshold_h2o else 0 for e in error_df_h2o.reconstruction_error.values]\n",
    "conf_matrix_h2o = confusion_matrix(error_df_h2o.true_class, y_pred_h2o)\n",
    "plt.figure(figsize=(12, 12))\n",
    "sns.heatmap(conf_matrix_h2o, annot=True, fmt=\"d\");\n",
    "plt.title(\"Confusion matrix\")\n",
    "plt.ylabel('True class')\n",
    "plt.xlabel('Predicted class')\n",
    "plt.show()\n",
    "\n",
    "f1_score(error_df_h2o.true_class, y_pred_h2o)"
   ]
  },
  {
   "cell_type": "markdown",
   "metadata": {},
   "source": [
    "## Check on test set"
   ]
  },
  {
   "cell_type": "code",
   "execution_count": 110,
   "metadata": {},
   "outputs": [
    {
     "data": {
      "text/html": [
       "<div>\n",
       "<style scoped>\n",
       "    .dataframe tbody tr th:only-of-type {\n",
       "        vertical-align: middle;\n",
       "    }\n",
       "\n",
       "    .dataframe tbody tr th {\n",
       "        vertical-align: top;\n",
       "    }\n",
       "\n",
       "    .dataframe thead th {\n",
       "        text-align: right;\n",
       "    }\n",
       "</style>\n",
       "<table border=\"1\" class=\"dataframe\">\n",
       "  <thead>\n",
       "    <tr style=\"text-align: right;\">\n",
       "      <th></th>\n",
       "      <th>Reconstruction.MSE</th>\n",
       "    </tr>\n",
       "  </thead>\n",
       "  <tbody>\n",
       "    <tr>\n",
       "      <th>count</th>\n",
       "      <td>34807.000000</td>\n",
       "    </tr>\n",
       "    <tr>\n",
       "      <th>mean</th>\n",
       "      <td>0.184661</td>\n",
       "    </tr>\n",
       "    <tr>\n",
       "      <th>std</th>\n",
       "      <td>0.337924</td>\n",
       "    </tr>\n",
       "    <tr>\n",
       "      <th>min</th>\n",
       "      <td>0.008429</td>\n",
       "    </tr>\n",
       "    <tr>\n",
       "      <th>25%</th>\n",
       "      <td>0.067545</td>\n",
       "    </tr>\n",
       "    <tr>\n",
       "      <th>50%</th>\n",
       "      <td>0.100896</td>\n",
       "    </tr>\n",
       "    <tr>\n",
       "      <th>75%</th>\n",
       "      <td>0.155683</td>\n",
       "    </tr>\n",
       "    <tr>\n",
       "      <th>max</th>\n",
       "      <td>7.511202</td>\n",
       "    </tr>\n",
       "  </tbody>\n",
       "</table>\n",
       "</div>"
      ],
      "text/plain": [
       "       Reconstruction.MSE\n",
       "count        34807.000000\n",
       "mean             0.184661\n",
       "std              0.337924\n",
       "min              0.008429\n",
       "25%              0.067545\n",
       "50%              0.100896\n",
       "75%              0.155683\n",
       "max              7.511202"
      ]
     },
     "execution_count": 110,
     "metadata": {},
     "output_type": "execute_result"
    }
   ],
   "source": [
    "denoised_test_rec_error_t = denoised_model.anomaly(X_test_h2o) * 100\n",
    "denoised_test_rec_error_df_t = denoised_test_rec_error_t.as_data_frame()\n",
    "denoised_test_rec_error_df_t.describe()"
   ]
  },
  {
   "cell_type": "code",
   "execution_count": 111,
   "metadata": {},
   "outputs": [],
   "source": [
    "true_class_t=pd.DataFrame({'true_class': y_test.values})"
   ]
  },
  {
   "cell_type": "code",
   "execution_count": 112,
   "metadata": {},
   "outputs": [
    {
     "data": {
      "text/html": [
       "<div>\n",
       "<style scoped>\n",
       "    .dataframe tbody tr th:only-of-type {\n",
       "        vertical-align: middle;\n",
       "    }\n",
       "\n",
       "    .dataframe tbody tr th {\n",
       "        vertical-align: top;\n",
       "    }\n",
       "\n",
       "    .dataframe thead th {\n",
       "        text-align: right;\n",
       "    }\n",
       "</style>\n",
       "<table border=\"1\" class=\"dataframe\">\n",
       "  <thead>\n",
       "    <tr style=\"text-align: right;\">\n",
       "      <th></th>\n",
       "      <th>reconstruction_error</th>\n",
       "      <th>true_class</th>\n",
       "    </tr>\n",
       "  </thead>\n",
       "  <tbody>\n",
       "    <tr>\n",
       "      <th>count</th>\n",
       "      <td>34807.000000</td>\n",
       "      <td>34807.000000</td>\n",
       "    </tr>\n",
       "    <tr>\n",
       "      <th>mean</th>\n",
       "      <td>0.184661</td>\n",
       "      <td>0.001724</td>\n",
       "    </tr>\n",
       "    <tr>\n",
       "      <th>std</th>\n",
       "      <td>0.337924</td>\n",
       "      <td>0.041483</td>\n",
       "    </tr>\n",
       "    <tr>\n",
       "      <th>min</th>\n",
       "      <td>0.008429</td>\n",
       "      <td>0.000000</td>\n",
       "    </tr>\n",
       "    <tr>\n",
       "      <th>25%</th>\n",
       "      <td>0.067545</td>\n",
       "      <td>0.000000</td>\n",
       "    </tr>\n",
       "    <tr>\n",
       "      <th>50%</th>\n",
       "      <td>0.100896</td>\n",
       "      <td>0.000000</td>\n",
       "    </tr>\n",
       "    <tr>\n",
       "      <th>75%</th>\n",
       "      <td>0.155683</td>\n",
       "      <td>0.000000</td>\n",
       "    </tr>\n",
       "    <tr>\n",
       "      <th>max</th>\n",
       "      <td>7.511202</td>\n",
       "      <td>1.000000</td>\n",
       "    </tr>\n",
       "  </tbody>\n",
       "</table>\n",
       "</div>"
      ],
      "text/plain": [
       "       reconstruction_error    true_class\n",
       "count          34807.000000  34807.000000\n",
       "mean               0.184661      0.001724\n",
       "std                0.337924      0.041483\n",
       "min                0.008429      0.000000\n",
       "25%                0.067545      0.000000\n",
       "50%                0.100896      0.000000\n",
       "75%                0.155683      0.000000\n",
       "max                7.511202      1.000000"
      ]
     },
     "execution_count": 112,
     "metadata": {},
     "output_type": "execute_result"
    },
    {
     "data": {
      "text/html": [
       "<div>\n",
       "<style scoped>\n",
       "    .dataframe tbody tr th:only-of-type {\n",
       "        vertical-align: middle;\n",
       "    }\n",
       "\n",
       "    .dataframe tbody tr th {\n",
       "        vertical-align: top;\n",
       "    }\n",
       "\n",
       "    .dataframe thead th {\n",
       "        text-align: right;\n",
       "    }\n",
       "</style>\n",
       "<table border=\"1\" class=\"dataframe\">\n",
       "  <thead>\n",
       "    <tr style=\"text-align: right;\">\n",
       "      <th></th>\n",
       "      <th>reconstruction_error</th>\n",
       "      <th>true_class</th>\n",
       "    </tr>\n",
       "  </thead>\n",
       "  <tbody>\n",
       "    <tr>\n",
       "      <th>0</th>\n",
       "      <td>0.052264</td>\n",
       "      <td>0</td>\n",
       "    </tr>\n",
       "    <tr>\n",
       "      <th>1</th>\n",
       "      <td>0.105452</td>\n",
       "      <td>0</td>\n",
       "    </tr>\n",
       "    <tr>\n",
       "      <th>2</th>\n",
       "      <td>0.153973</td>\n",
       "      <td>0</td>\n",
       "    </tr>\n",
       "    <tr>\n",
       "      <th>3</th>\n",
       "      <td>0.127106</td>\n",
       "      <td>0</td>\n",
       "    </tr>\n",
       "    <tr>\n",
       "      <th>4</th>\n",
       "      <td>0.094332</td>\n",
       "      <td>0</td>\n",
       "    </tr>\n",
       "  </tbody>\n",
       "</table>\n",
       "</div>"
      ],
      "text/plain": [
       "   reconstruction_error  true_class\n",
       "0              0.052264           0\n",
       "1              0.105452           0\n",
       "2              0.153973           0\n",
       "3              0.127106           0\n",
       "4              0.094332           0"
      ]
     },
     "execution_count": 112,
     "metadata": {},
     "output_type": "execute_result"
    }
   ],
   "source": [
    "error_df_t_h2o = pd.concat([denoised_test_rec_error_df_t,true_class_t],axis=1)\n",
    "error_df_t_h2o.rename(columns={'Reconstruction.MSE': 'reconstruction_error'}, inplace=True)\n",
    "error_df_t_h2o.describe()\n",
    "\n",
    "error_df_t_h2o.head()"
   ]
  },
  {
   "cell_type": "code",
   "execution_count": 125,
   "metadata": {},
   "outputs": [
    {
     "data": {
      "image/png": "[encoded data removed]",
      "text/plain": [
       "<matplotlib.figure.Figure at 0x205c10350b8>"
      ]
     },
     "metadata": {},
     "output_type": "display_data"
    }
   ],
   "source": [
    "threshold_t_h2o = 2\n",
    "\n",
    "groups = error_df_t_h2o.groupby('true_class')\n",
    "fig, ax = plt.subplots()\n",
    "\n",
    "for name, group in groups:\n",
    "    ax.plot(group.index, group.reconstruction_error, marker='o', ms=3.5, linestyle='',\n",
    "            label= \"Fraud\" if name == 1 else \"Normal\")\n",
    "ax.hlines(threshold_t_h2o, ax.get_xlim()[0], ax.get_xlim()[1], colors=\"r\", zorder=100, label='Threshold')\n",
    "ax.legend()\n",
    "plt.title(\"Reconstruction error for different classes\")\n",
    "plt.ylabel(\"Reconstruction error\")\n",
    "plt.xlabel(\"Data point index\")\n",
    "plt.show();"
   ]
  },
  {
   "cell_type": "code",
   "execution_count": 126,
   "metadata": {},
   "outputs": [
    {
     "data": {
      "text/plain": [
       "<matplotlib.figure.Figure at 0x205ac80bf28>"
      ]
     },
     "execution_count": 126,
     "metadata": {},
     "output_type": "execute_result"
    },
    {
     "data": {
      "text/plain": [
       "<matplotlib.axes._subplots.AxesSubplot at 0x205c0fba780>"
      ]
     },
     "execution_count": 126,
     "metadata": {},
     "output_type": "execute_result"
    },
    {
     "data": {
      "text/plain": [
       "Text(0.5,1,'Confusion matrix')"
      ]
     },
     "execution_count": 126,
     "metadata": {},
     "output_type": "execute_result"
    },
    {
     "data": {
      "text/plain": [
       "Text(87,0.5,'True class')"
      ]
     },
     "execution_count": 126,
     "metadata": {},
     "output_type": "execute_result"
    },
    {
     "data": {
      "text/plain": [
       "Text(0.5,87,'Predicted class')"
      ]
     },
     "execution_count": 126,
     "metadata": {},
     "output_type": "execute_result"
    },
    {
     "data": {
      "image/png": "[encoded data removed]",
      "text/plain": [
       "<matplotlib.figure.Figure at 0x205ac80bf28>"
      ]
     },
     "metadata": {},
     "output_type": "display_data"
    },
    {
     "data": {
      "text/plain": [
       "0.21989528795811517"
      ]
     },
     "execution_count": 126,
     "metadata": {},
     "output_type": "execute_result"
    }
   ],
   "source": [
    "y_pred_t_h2o = [1 if e > threshold_t_h2o else 0 for e in error_df_t_h2o.reconstruction_error.values]\n",
    "conf_matrix_t_h2o = confusion_matrix(error_df_t_h2o.true_class, y_pred_t_h2o)\n",
    "plt.figure(figsize=(12, 12))\n",
    "sns.heatmap(conf_matrix_t_h2o, annot=True, fmt=\"d\");\n",
    "plt.title(\"Confusion matrix\")\n",
    "plt.ylabel('True class')\n",
    "plt.xlabel('Predicted class')\n",
    "plt.show()\n",
    "\n",
    "f1_score(error_df_t_h2o.true_class, y_pred_t_h2o)"
   ]
  },
  {
   "cell_type": "markdown",
   "metadata": {},
   "source": [
    "## Model 4: Tied Weights Autoencoder"
   ]
  },
  {
   "cell_type": "code",
   "execution_count": 143,
   "metadata": {},
   "outputs": [
    {
     "data": {
      "text/plain": [
       "199659"
      ]
     },
     "execution_count": 143,
     "metadata": {},
     "output_type": "execute_result"
    }
   ],
   "source": [
    "X_autoencoder.shape[0]"
   ]
  },
  {
   "cell_type": "code",
   "execution_count": 127,
   "metadata": {},
   "outputs": [],
   "source": [
    "import tensorflow as tf "
   ]
  },
  {
   "cell_type": "code",
   "execution_count": 222,
   "metadata": {},
   "outputs": [],
   "source": [
    "n_inputs = X_autoencoder.shape[1] \n",
    "n_hidden1 = 20 \n",
    "n_hidden2 = 10\n",
    "n_hidden3 = 5\n",
    "n_hidden4 = n_hidden2\n",
    "n_hidden5 = n_hidden1\n",
    "n_outputs = n_inputs \n",
    "\n",
    "learning_rate = 0.01 \n",
    "l2_reg = 0.0001"
   ]
  },
  {
   "cell_type": "code",
   "execution_count": 223,
   "metadata": {},
   "outputs": [],
   "source": [
    "activation = tf.nn.elu \n",
    "regularizer = tf.contrib.layers.l2_regularizer(l2_reg) \n",
    "initializer = tf.contrib.layers.variance_scaling_initializer()"
   ]
  },
  {
   "cell_type": "code",
   "execution_count": 224,
   "metadata": {},
   "outputs": [],
   "source": [
    "X = tf.placeholder(tf.float32, shape =[ None, n_inputs]) \n",
    "\n",
    "weights1_init = initializer([ n_inputs, n_hidden1]) \n",
    "weights2_init = initializer([ n_hidden1, n_hidden2])\n",
    "weights3_init = initializer([ n_hidden2, n_hidden3]) \n",
    "\n",
    "weights1 = tf.Variable( weights1_init, dtype = tf.float32, name =\"weights1\")\n",
    "weights2 = tf.Variable( weights2_init, dtype = tf.float32, name =\"weights2\")\n",
    "weights3 = tf.Variable( weights3_init, dtype = tf.float32, name =\"weights3\")\n",
    "weights4 = tf.transpose( weights3, name =\"weights4\") # tied weights \n",
    "weights5 = tf.transpose( weights2, name =\"weights5\") # tied weights\n",
    "weights6 = tf.transpose( weights1, name =\"weights6\") # tied weights\n",
    "\n",
    "\n",
    "biases1 = tf.Variable( tf.zeros( n_hidden1), name =\"biases1\") \n",
    "biases2 = tf.Variable( tf.zeros( n_hidden2), name =\"biases2\") \n",
    "biases3 = tf.Variable( tf.zeros( n_hidden3), name =\"biases3\")\n",
    "biases4 = tf.Variable( tf.zeros( n_hidden4), name =\"biases4\")\n",
    "biases5 = tf.Variable( tf.zeros( n_hidden5), name =\"biases4\")\n",
    "biases6 = tf.Variable( tf.zeros( n_outputs), name =\"biases6\") \n",
    "\n",
    "hidden1 = activation( tf.matmul( X, weights1) + biases1) \n",
    "hidden2 = activation( tf.matmul( hidden1, weights2) + biases2) \n",
    "hidden3 = activation( tf.matmul( hidden2, weights3) + biases3)\n",
    "hidden4 = activation( tf.matmul( hidden3, weights4) + biases4)\n",
    "hidden5 = activation( tf.matmul( hidden4, weights5) + biases5)\n",
    "outputs = tf.matmul( hidden5, weights6) + biases6 \n",
    "\n",
    "reconstruction_loss = tf.reduce_mean(tf.square(outputs - X)) \n",
    "reg_loss = regularizer(weights1) + regularizer(weights2) + regularizer(weights3)\n",
    "loss = reconstruction_loss + reg_loss\n",
    "\n",
    "optimizer = tf.train.AdamOptimizer( learning_rate) \n",
    "\n",
    "training_op = optimizer.minimize( loss) \n",
    "\n",
    "init = tf.global_variables_initializer()"
   ]
  },
  {
   "cell_type": "code",
   "execution_count": 225,
   "metadata": {},
   "outputs": [
    {
     "name": "stdout",
     "output_type": "stream",
     "text": [
      "Cost after epoch 0: 0.596069\n",
      "Cost after epoch 1: 0.574319\n",
      "Cost after epoch 2: 0.572573\n",
      "Cost after epoch 3: 0.572648\n",
      "Cost after epoch 4: 0.571625\n",
      "Cost after epoch 5: 0.571226\n",
      "Cost after epoch 6: 0.571155\n",
      "Cost after epoch 7: 0.570305\n",
      "Cost after epoch 8: 0.571647\n",
      "Cost after epoch 9: 0.570269\n",
      "Cost after epoch 10: 0.570157\n",
      "Cost after epoch 11: 0.569620\n",
      "Cost after epoch 12: 0.569793\n",
      "Cost after epoch 13: 0.569027\n",
      "Cost after epoch 14: 0.570599\n",
      "Cost after epoch 15: 0.569275\n",
      "Cost after epoch 16: 0.573604\n",
      "Cost after epoch 17: 0.569359\n",
      "Cost after epoch 18: 0.570074\n",
      "Cost after epoch 19: 0.569874\n",
      "Cost after epoch 20: 0.570475\n",
      "Cost after epoch 21: 0.570745\n",
      "Cost after epoch 22: 0.572775\n",
      "Cost after epoch 23: 0.570234\n",
      "Cost after epoch 24: 0.569562\n",
      "Cost after epoch 25: 0.570988\n",
      "Cost after epoch 26: 0.574197\n",
      "Cost after epoch 27: 0.579587\n",
      "Cost after epoch 28: 0.567435\n",
      "Cost after epoch 29: 0.567370\n",
      "Cost after epoch 30: 0.567467\n",
      "Cost after epoch 31: 0.567622\n",
      "Cost after epoch 32: 0.567624\n",
      "Cost after epoch 33: 0.567791\n",
      "Cost after epoch 34: 0.567943\n",
      "Cost after epoch 35: 0.568590\n",
      "Cost after epoch 36: 0.567768\n",
      "Cost after epoch 37: 0.568030\n",
      "Cost after epoch 38: 0.567828\n",
      "Cost after epoch 39: 0.567904\n",
      "Cost after epoch 40: 0.568167\n",
      "Cost after epoch 41: 0.567916\n",
      "Cost after epoch 42: 0.567794\n",
      "Cost after epoch 43: 0.567746\n",
      "Cost after epoch 44: 0.567828\n",
      "Cost after epoch 45: 0.567856\n",
      "Cost after epoch 46: 0.567688\n",
      "Cost after epoch 47: 0.567903\n",
      "Cost after epoch 48: 0.567790\n",
      "Cost after epoch 49: 0.567757\n"
     ]
    }
   ],
   "source": [
    "n_epochs = 50 \n",
    "batch_size = 32 \n",
    "\n",
    "num_minibatches = X_autoencoder.shape[0] // batch_size \n",
    "\n",
    "with tf.Session() as sess: \n",
    "    init.run() \n",
    "    for epoch in range(n_epochs): \n",
    "        epoch_cost = 0\n",
    "        n_batches = num_minibatches \n",
    "        for iteration in range(n_batches): \n",
    "            X_batch = X_autoencoder[batch_size*iteration:batch_size*(iteration+1)]\n",
    "            _, minibatch_cost = sess.run( [training_op , loss], feed_dict ={ X: X_batch})\n",
    "            \n",
    "            epoch_cost += minibatch_cost / num_minibatches\n",
    "            \n",
    "        \n",
    "        print (\"Cost after epoch %i: %f\" % (epoch, epoch_cost))"
   ]
  },
  {
   "cell_type": "code",
   "execution_count": 201,
   "metadata": {},
   "outputs": [
    {
     "data": {
      "text/plain": [
       "array([[-1.1908256 ,  0.00810973, -2.067785  , ..., -0.25748304,\n",
       "        -0.23935767, -0.19984695],\n",
       "       [ 0.6420769 ,  0.23907323,  0.20961311, ..., -0.25748304,\n",
       "        -0.23935767, -0.19984695],\n",
       "       [-0.60277337,  0.9692145 ,  0.32471192, ..., -0.25748304,\n",
       "        -0.23935767, -0.19984695],\n",
       "       ...,\n",
       "       [ 0.00646304,  0.6363231 ,  0.1536399 , ..., -0.25748304,\n",
       "        -0.23935767, -0.19984695],\n",
       "       [ 0.4583078 , -0.29182565,  0.7840939 , ..., -0.25748304,\n",
       "        -0.23935767, -0.19984695],\n",
       "       [ 0.9057845 , -0.20322478, -1.4267999 , ..., -0.25748304,\n",
       "        -0.23935767,  5.003829  ]], dtype=float32)"
      ]
     },
     "execution_count": 201,
     "metadata": {},
     "output_type": "execute_result"
    }
   ],
   "source": [
    "X = tf.placeholder(tf.float32, shape =[ None, n_inputs]) \n",
    "\n",
    "\n",
    "with tf.Session() as sess:\n",
    "\n",
    "    X.eval(feed_dict ={X: X_autoencoder})"
   ]
  },
  {
   "cell_type": "markdown",
   "metadata": {},
   "source": [
    "## Check on val set"
   ]
  },
  {
   "cell_type": "code",
   "execution_count": 226,
   "metadata": {},
   "outputs": [],
   "source": [
    "with tf.Session() as sess:\n",
    "    sess.run(tf.global_variables_initializer())\n",
    "    output_val = sess.run(outputs,feed_dict ={X: X_val}) "
   ]
  },
  {
   "cell_type": "code",
   "execution_count": 227,
   "metadata": {},
   "outputs": [
    {
     "data": {
      "text/plain": [
       "array([[-0.24456511,  0.03265174,  0.23678634, ..., -0.04014399,\n",
       "         0.10325897, -0.24072276],\n",
       "       [ 0.83218944,  0.41049945, -0.4555699 , ..., -0.09238309,\n",
       "         0.05207708,  0.52956295],\n",
       "       [-0.25423458,  0.18835056, -0.20972481, ..., -0.45102215,\n",
       "         0.10798772, -0.048704  ],\n",
       "       ...,\n",
       "       [ 0.01216607, -0.59953904, -0.08201822, ...,  0.41266948,\n",
       "        -0.16377524,  0.6089233 ],\n",
       "       [ 0.6938748 ,  2.5501995 ,  1.1981716 , ..., -1.7201558 ,\n",
       "        -0.32203612, -1.1367801 ],\n",
       "       [ 0.4754845 ,  1.2033594 ,  0.40026093, ..., -1.1390798 ,\n",
       "         0.05498988, -0.5343852 ]], dtype=float32)"
      ]
     },
     "execution_count": 227,
     "metadata": {},
     "output_type": "execute_result"
    }
   ],
   "source": [
    "output_val"
   ]
  },
  {
   "cell_type": "code",
   "execution_count": 228,
   "metadata": {},
   "outputs": [
    {
     "data": {
      "text/html": [
       "<div>\n",
       "<style scoped>\n",
       "    .dataframe tbody tr th:only-of-type {\n",
       "        vertical-align: middle;\n",
       "    }\n",
       "\n",
       "    .dataframe tbody tr th {\n",
       "        vertical-align: top;\n",
       "    }\n",
       "\n",
       "    .dataframe thead th {\n",
       "        text-align: right;\n",
       "    }\n",
       "</style>\n",
       "<table border=\"1\" class=\"dataframe\">\n",
       "  <thead>\n",
       "    <tr style=\"text-align: right;\">\n",
       "      <th></th>\n",
       "      <th>reconstruction_error</th>\n",
       "      <th>true_class</th>\n",
       "    </tr>\n",
       "  </thead>\n",
       "  <tbody>\n",
       "    <tr>\n",
       "      <th>count</th>\n",
       "      <td>50000.000000</td>\n",
       "      <td>50000.000000</td>\n",
       "    </tr>\n",
       "    <tr>\n",
       "      <th>mean</th>\n",
       "      <td>1.372864</td>\n",
       "      <td>0.001820</td>\n",
       "    </tr>\n",
       "    <tr>\n",
       "      <th>std</th>\n",
       "      <td>2.677580</td>\n",
       "      <td>0.042623</td>\n",
       "    </tr>\n",
       "    <tr>\n",
       "      <th>min</th>\n",
       "      <td>0.414996</td>\n",
       "      <td>0.000000</td>\n",
       "    </tr>\n",
       "    <tr>\n",
       "      <th>25%</th>\n",
       "      <td>0.742932</td>\n",
       "      <td>0.000000</td>\n",
       "    </tr>\n",
       "    <tr>\n",
       "      <th>50%</th>\n",
       "      <td>0.953784</td>\n",
       "      <td>0.000000</td>\n",
       "    </tr>\n",
       "    <tr>\n",
       "      <th>75%</th>\n",
       "      <td>1.380988</td>\n",
       "      <td>0.000000</td>\n",
       "    </tr>\n",
       "    <tr>\n",
       "      <th>max</th>\n",
       "      <td>173.638185</td>\n",
       "      <td>1.000000</td>\n",
       "    </tr>\n",
       "  </tbody>\n",
       "</table>\n",
       "</div>"
      ],
      "text/plain": [
       "       reconstruction_error    true_class\n",
       "count          50000.000000  50000.000000\n",
       "mean               1.372864      0.001820\n",
       "std                2.677580      0.042623\n",
       "min                0.414996      0.000000\n",
       "25%                0.742932      0.000000\n",
       "50%                0.953784      0.000000\n",
       "75%                1.380988      0.000000\n",
       "max              173.638185      1.000000"
      ]
     },
     "execution_count": 228,
     "metadata": {},
     "output_type": "execute_result"
    }
   ],
   "source": [
    "mse_m4 = np.mean(np.power(X_val - output_val, 2), axis=1)\n",
    "\n",
    "error_df_m4 = pd.DataFrame({'reconstruction_error': mse_m4,\n",
    "                        'true_class': y_val})\n",
    "error_df_m4.describe()"
   ]
  },
  {
   "cell_type": "code",
   "execution_count": 302,
   "metadata": {},
   "outputs": [
    {
     "data": {
      "image/png": "[encoded data removed]",
      "text/plain": [
       "<matplotlib.figure.Figure at 0x20605ed19e8>"
      ]
     },
     "metadata": {},
     "output_type": "display_data"
    }
   ],
   "source": [
    "threshold_m4 = 2.5\n",
    "\n",
    "groups = error_df_m4.groupby('true_class')\n",
    "fig, ax = plt.subplots()\n",
    "\n",
    "for name, group in groups:\n",
    "    ax.plot(group.index, group.reconstruction_error, marker='o', ms=3.5, linestyle='',\n",
    "            label= \"Fraud\" if name == 1 else \"Normal\")\n",
    "ax.hlines(threshold_m4, ax.get_xlim()[0], ax.get_xlim()[1], colors=\"r\", zorder=100, label='Threshold')\n",
    "ax.legend()\n",
    "plt.title(\"Reconstruction error for different classes\")\n",
    "plt.ylabel(\"Reconstruction error\")\n",
    "plt.xlabel(\"Data point index\")\n",
    "plt.show();"
   ]
  },
  {
   "cell_type": "code",
   "execution_count": 303,
   "metadata": {},
   "outputs": [
    {
     "data": {
      "text/plain": [
       "<matplotlib.figure.Figure at 0x205b541bcc0>"
      ]
     },
     "execution_count": 303,
     "metadata": {},
     "output_type": "execute_result"
    },
    {
     "data": {
      "text/plain": [
       "<matplotlib.axes._subplots.AxesSubplot at 0x20600cfb160>"
      ]
     },
     "execution_count": 303,
     "metadata": {},
     "output_type": "execute_result"
    },
    {
     "data": {
      "text/plain": [
       "Text(0.5,1,'Confusion matrix')"
      ]
     },
     "execution_count": 303,
     "metadata": {},
     "output_type": "execute_result"
    },
    {
     "data": {
      "text/plain": [
       "Text(87,0.5,'True class')"
      ]
     },
     "execution_count": 303,
     "metadata": {},
     "output_type": "execute_result"
    },
    {
     "data": {
      "text/plain": [
       "Text(0.5,87,'Predicted class')"
      ]
     },
     "execution_count": 303,
     "metadata": {},
     "output_type": "execute_result"
    },
    {
     "data": {
      "image/png": "[encoded data removed]",
      "text/plain": [
       "<matplotlib.figure.Figure at 0x205b541bcc0>"
      ]
     },
     "metadata": {},
     "output_type": "display_data"
    },
    {
     "data": {
      "text/plain": [
       "0.04025806451612903"
      ]
     },
     "execution_count": 303,
     "metadata": {},
     "output_type": "execute_result"
    }
   ],
   "source": [
    "y_pred_m4 = [1 if e > threshold_m4 else 0 for e in error_df_m4.reconstruction_error.values]\n",
    "conf_matrix_m4 = confusion_matrix(error_df_m4.true_class, y_pred_m4)\n",
    "plt.figure(figsize=(12, 12))\n",
    "sns.heatmap(conf_matrix_m4, annot=True, fmt=\"d\");\n",
    "plt.title(\"Confusion matrix\")\n",
    "plt.ylabel('True class')\n",
    "plt.xlabel('Predicted class')\n",
    "plt.show()\n",
    "\n",
    "f1_score(error_df_m4.true_class, y_pred_m4)"
   ]
  },
  {
   "cell_type": "markdown",
   "metadata": {},
   "source": [
    "## Check on test set"
   ]
  },
  {
   "cell_type": "code",
   "execution_count": 231,
   "metadata": {},
   "outputs": [],
   "source": [
    "with tf.Session() as sess:\n",
    "    sess.run(tf.global_variables_initializer())\n",
    "    output_test = sess.run(outputs,feed_dict ={X: X_test}) "
   ]
  },
  {
   "cell_type": "code",
   "execution_count": 232,
   "metadata": {},
   "outputs": [
    {
     "data": {
      "text/html": [
       "<div>\n",
       "<style scoped>\n",
       "    .dataframe tbody tr th:only-of-type {\n",
       "        vertical-align: middle;\n",
       "    }\n",
       "\n",
       "    .dataframe tbody tr th {\n",
       "        vertical-align: top;\n",
       "    }\n",
       "\n",
       "    .dataframe thead th {\n",
       "        text-align: right;\n",
       "    }\n",
       "</style>\n",
       "<table border=\"1\" class=\"dataframe\">\n",
       "  <thead>\n",
       "    <tr style=\"text-align: right;\">\n",
       "      <th></th>\n",
       "      <th>reconstruction_error</th>\n",
       "      <th>true_class</th>\n",
       "    </tr>\n",
       "  </thead>\n",
       "  <tbody>\n",
       "    <tr>\n",
       "      <th>count</th>\n",
       "      <td>34807.000000</td>\n",
       "      <td>34807.000000</td>\n",
       "    </tr>\n",
       "    <tr>\n",
       "      <th>mean</th>\n",
       "      <td>1.252701</td>\n",
       "      <td>0.001724</td>\n",
       "    </tr>\n",
       "    <tr>\n",
       "      <th>std</th>\n",
       "      <td>1.875329</td>\n",
       "      <td>0.041483</td>\n",
       "    </tr>\n",
       "    <tr>\n",
       "      <th>min</th>\n",
       "      <td>0.389255</td>\n",
       "      <td>0.000000</td>\n",
       "    </tr>\n",
       "    <tr>\n",
       "      <th>25%</th>\n",
       "      <td>0.692459</td>\n",
       "      <td>0.000000</td>\n",
       "    </tr>\n",
       "    <tr>\n",
       "      <th>50%</th>\n",
       "      <td>0.935785</td>\n",
       "      <td>0.000000</td>\n",
       "    </tr>\n",
       "    <tr>\n",
       "      <th>75%</th>\n",
       "      <td>1.402350</td>\n",
       "      <td>0.000000</td>\n",
       "    </tr>\n",
       "    <tr>\n",
       "      <th>max</th>\n",
       "      <td>154.408281</td>\n",
       "      <td>1.000000</td>\n",
       "    </tr>\n",
       "  </tbody>\n",
       "</table>\n",
       "</div>"
      ],
      "text/plain": [
       "       reconstruction_error    true_class\n",
       "count          34807.000000  34807.000000\n",
       "mean               1.252701      0.001724\n",
       "std                1.875329      0.041483\n",
       "min                0.389255      0.000000\n",
       "25%                0.692459      0.000000\n",
       "50%                0.935785      0.000000\n",
       "75%                1.402350      0.000000\n",
       "max              154.408281      1.000000"
      ]
     },
     "execution_count": 232,
     "metadata": {},
     "output_type": "execute_result"
    }
   ],
   "source": [
    "mse_m4_t = np.mean(np.power(X_test - output_test, 2), axis=1)\n",
    "\n",
    "error_df_m4_t = pd.DataFrame({'reconstruction_error': mse_m4_t,\n",
    "                        'true_class': y_test})\n",
    "error_df_m4_t.describe()"
   ]
  },
  {
   "cell_type": "code",
   "execution_count": 304,
   "metadata": {},
   "outputs": [
    {
     "data": {
      "image/png": "[encoded data removed]",
      "text/plain": [
       "<matplotlib.figure.Figure at 0x205b212d390>"
      ]
     },
     "metadata": {},
     "output_type": "display_data"
    }
   ],
   "source": [
    "threshold_m4_t = 2.5\n",
    "\n",
    "groups = error_df_m4_t.groupby('true_class')\n",
    "fig, ax = plt.subplots()\n",
    "\n",
    "for name, group in groups:\n",
    "    ax.plot(group.index, group.reconstruction_error, marker='o', ms=3.5, linestyle='',\n",
    "            label= \"Fraud\" if name == 1 else \"Normal\")\n",
    "ax.hlines(threshold_m4_t, ax.get_xlim()[0], ax.get_xlim()[1], colors=\"r\", zorder=100, label='Threshold')\n",
    "ax.legend()\n",
    "plt.title(\"Reconstruction error for different classes\")\n",
    "plt.ylabel(\"Reconstruction error\")\n",
    "plt.xlabel(\"Data point index\")\n",
    "plt.show();"
   ]
  },
  {
   "cell_type": "code",
   "execution_count": 305,
   "metadata": {},
   "outputs": [
    {
     "data": {
      "text/plain": [
       "<matplotlib.figure.Figure at 0x205b2126a58>"
      ]
     },
     "execution_count": 305,
     "metadata": {},
     "output_type": "execute_result"
    },
    {
     "data": {
      "text/plain": [
       "<matplotlib.axes._subplots.AxesSubplot at 0x20604e778d0>"
      ]
     },
     "execution_count": 305,
     "metadata": {},
     "output_type": "execute_result"
    },
    {
     "data": {
      "text/plain": [
       "Text(0.5,1,'Confusion matrix')"
      ]
     },
     "execution_count": 305,
     "metadata": {},
     "output_type": "execute_result"
    },
    {
     "data": {
      "text/plain": [
       "Text(87,0.5,'True class')"
      ]
     },
     "execution_count": 305,
     "metadata": {},
     "output_type": "execute_result"
    },
    {
     "data": {
      "text/plain": [
       "Text(0.5,87,'Predicted class')"
      ]
     },
     "execution_count": 305,
     "metadata": {},
     "output_type": "execute_result"
    },
    {
     "data": {
      "image/png": "[encoded data removed]",
      "text/plain": [
       "<matplotlib.figure.Figure at 0x205b2126a58>"
      ]
     },
     "metadata": {},
     "output_type": "display_data"
    },
    {
     "data": {
      "text/plain": [
       "0.05060622034791777"
      ]
     },
     "execution_count": 305,
     "metadata": {},
     "output_type": "execute_result"
    }
   ],
   "source": [
    "y_pred_m4_t = [1 if e > threshold_m4_t else 0 for e in error_df_m4_t.reconstruction_error.values]\n",
    "conf_matrix_m4_t = confusion_matrix(error_df_m4_t.true_class, y_pred_m4_t)\n",
    "plt.figure(figsize=(12, 12))\n",
    "sns.heatmap(conf_matrix_m4_t, annot=True, fmt=\"d\");\n",
    "plt.title(\"Confusion matrix\")\n",
    "plt.ylabel('True class')\n",
    "plt.xlabel('Predicted class')\n",
    "plt.show()\n",
    "\n",
    "f1_score(error_df_m4_t.true_class, y_pred_m4_t)"
   ]
  },
  {
   "cell_type": "markdown",
   "metadata": {},
   "source": [
    "# Model 5: Variational Autoencoder"
   ]
  },
  {
   "cell_type": "markdown",
   "metadata": {},
   "source": [
    "### Tensorflow"
   ]
  },
  {
   "cell_type": "code",
   "execution_count": 235,
   "metadata": {},
   "outputs": [],
   "source": [
    "from functools import partial"
   ]
  },
  {
   "cell_type": "code",
   "execution_count": 272,
   "metadata": {},
   "outputs": [],
   "source": [
    "n_inputs_v = X_autoencoder.shape[1]  \n",
    "n_hidden1_v = 20 \n",
    "n_hidden2_v = 20 \n",
    "n_hidden3_v = 5 # codings \n",
    "n_hidden4_v = n_hidden2_v \n",
    "n_hidden5_v = n_hidden1_v \n",
    "n_outputs_v = n_inputs_v\n",
    "\n",
    "learning_rate_v = 0.001"
   ]
  },
  {
   "cell_type": "code",
   "execution_count": 273,
   "metadata": {},
   "outputs": [],
   "source": [
    "initializer = tf.contrib.layers.variance_scaling_initializer() \n",
    "my_dense_layer = partial( tf.layers.dense, activation = tf.nn.elu, kernel_initializer = initializer)"
   ]
  },
  {
   "cell_type": "code",
   "execution_count": 274,
   "metadata": {},
   "outputs": [],
   "source": [
    "X = tf.placeholder( tf.float32, shape=[None, n_inputs_v]) \n",
    "\n",
    "hidden1_v = my_dense_layer( X, n_hidden1_v) \n",
    "hidden2_v = my_dense_layer( hidden1_v, n_hidden2_v) \n",
    "hidden3_mean = my_dense_layer( hidden2_v, n_hidden3_v, activation = None) \n",
    "hidden3_gamma = my_dense_layer( hidden2_v, n_hidden3_v, activation = None) \n",
    "noise = tf.random_normal( tf.shape( hidden3_gamma), dtype = tf.float32) \n",
    "hidden3_v = hidden3_mean + tf.exp( 0.5 * hidden3_gamma) * noise \n",
    "hidden4_v = my_dense_layer( hidden3_v, n_hidden4_v) \n",
    "hidden5_v = my_dense_layer( hidden4_v, n_hidden5_v) \n",
    "logits = my_dense_layer( hidden5_v, n_outputs_v, activation = None) \n",
    "outputs_v = tf.sigmoid( logits) \n",
    "\n",
    "xentropy = tf.nn.sigmoid_cross_entropy_with_logits( labels = X, logits = logits) \n",
    "reconstruction_loss_v = tf.reduce_sum( xentropy) \n",
    "latent_loss = 0.5 * tf.reduce_sum( tf.exp( hidden3_gamma) + tf.square( hidden3_mean) - 1.0 - hidden3_gamma) \n",
    "loss_v = reconstruction_loss_v + latent_loss\n",
    "\n",
    "optimizer_v = tf.train.AdamOptimizer( learning_rate = learning_rate_v) \n",
    "\n",
    "training_op_v = optimizer_v.minimize( loss_v) \n",
    "\n",
    "init = tf.global_variables_initializer() \n",
    "\n",
    "#saver = tf.train.Saver() "
   ]
  },
  {
   "cell_type": "code",
   "execution_count": 275,
   "metadata": {},
   "outputs": [
    {
     "name": "stdout",
     "output_type": "stream",
     "text": [
      "Cost after epoch 0: nan\n"
     ]
    }
   ],
   "source": [
    "n_epochs_v = 1 \n",
    "batch_size_v = 32 \n",
    "\n",
    "num_minibatches_v = X_autoencoder.shape[0] // batch_size_v \n",
    "\n",
    "with tf.Session() as sess: \n",
    "    init.run() \n",
    "    for epoch in range(n_epochs_v): \n",
    "        epoch_cost = 0\n",
    "        n_batches = num_minibatches_v \n",
    "        for iteration in range(n_batches): \n",
    "            X_batch = X_autoencoder[batch_size_v*iteration:batch_size_v*(iteration+1)]\n",
    "            _, minibatch_cost = sess.run( [training_op_v , loss_v], feed_dict ={ X: X_batch})\n",
    "            \n",
    "            epoch_cost += minibatch_cost / num_minibatches_v\n",
    "            \n",
    "        \n",
    "        print (\"Cost after epoch %i: %f\" % (epoch, epoch_cost))"
   ]
  },
  {
   "cell_type": "markdown",
   "metadata": {},
   "source": [
    "### Keras"
   ]
  },
  {
   "cell_type": "code",
   "execution_count": 290,
   "metadata": {},
   "outputs": [],
   "source": [
    "from keras.layers import Input, Dense, Lambda\n",
    "from keras.models import Model\n",
    "from keras.objectives import binary_crossentropy\n",
    "from keras.callbacks import LearningRateScheduler\n",
    "\n",
    "import numpy as np\n",
    "import matplotlib.pyplot as plt\n",
    "import keras.backend as K\n",
    "import tensorflow as tf\n",
    "\n",
    "n_z = 5\n",
    "m = 32\n",
    "\n",
    "# Q(z|X) -- encoder\n",
    "inputs = Input(shape=(X_autoencoder.shape[1],))\n",
    "h_q1 = Dense(20, activation='relu')(inputs)\n",
    "h_q2 = Dense(10, activation='relu')(h_q1)\n",
    "mu = Dense(n_z, activation='linear')(h_q2)\n",
    "log_sigma = Dense(n_z, activation='linear')(h_q2)\n",
    "\n",
    "def sample_z(args):\n",
    "    mu, log_sigma = args\n",
    "    eps = K.random_normal(shape=K.shape(mu), mean=0., stddev=1.)\n",
    "    return mu + K.exp(log_sigma / 2) * eps\n",
    "\n",
    "\n",
    "# Sample z ~ Q(z|X)\n",
    "z = Lambda(sample_z)([mu, log_sigma])\n",
    "\n",
    "# P(X|z) -- decoder\n",
    "decoder_hidden_1 = Dense(10, activation='relu')\n",
    "decoder_hidden_2 = Dense(20, activation='relu')\n",
    "decoder_out = Dense(X_autoencoder.shape[1], activation='sigmoid')\n",
    "\n",
    "h_p1 = decoder_hidden_1(z)\n",
    "h_p2 = decoder_hidden_2(h_p1)\n",
    "outputs = decoder_out(h_p2)\n",
    "\n",
    "# Overall VAE model, for reconstruction and training\n",
    "vae = Model(inputs, outputs)\n",
    "\n",
    "# Encoder model, to encode input into latent variable\n",
    "# We use the mean as the output as it is the center point, the representative of the gaussian\n",
    "encoder_vae = Model(inputs, mu)\n",
    "\n",
    "# Generator model, generate new data given latent variable z\n",
    "d_in = Input(shape=(n_z,))\n",
    "d_h1 = decoder_hidden_1(d_in)\n",
    "d_h2 = decoder_hidden_2(d_h1)\n",
    "d_out = decoder_out(d_h2)\n",
    "decoder_vae = Model(d_in, d_out)\n",
    "\n",
    "def vae_loss(y_true, y_pred):\n",
    "    \"\"\" Calculate loss = reconstruction loss + KL loss for each data in minibatch \"\"\"\n",
    "    # E[log P(X|z)]\n",
    "    recon = K.sum(K.binary_crossentropy(y_pred, y_true), axis=1)\n",
    "    # D_KL(Q(z|X) || P(z|X)); calculate in closed form as both dist. are Gaussian\n",
    "    kl = 0.5 * K.sum(K.exp(log_sigma) + K.square(mu) - 1. - log_sigma, axis=1)\n",
    "\n",
    "    return recon + kl"
   ]
  },
  {
   "cell_type": "code",
   "execution_count": 291,
   "metadata": {},
   "outputs": [
    {
     "name": "stdout",
     "output_type": "stream",
     "text": [
      "Epoch 1/2\n"
     ]
    },
    {
     "name": "stdout",
     "output_type": "stream",
     "text": [
      " 64480/199659 [========>.....................] - ETA: 6:23:29 - loss: 354.32 - ETA: 29:50 - loss: 364.3344 - ETA: 17:04 - loss: 353.99 - ETA: 12:25 - loss: 347.52 - ETA: 9:26 - loss: 338.5654 - ETA: 8:36 - loss: 334.542 - ETA: 7:28 - loss: 327.216 - ETA: 6:18 - loss: 315.196 - ETA: 5:26 - loss: 298.956 - ETA: 4:53 - loss: 284.139 - ETA: 4:26 - loss: 269.357 - ETA: 3:58 - loss: 251.576 - ETA: 3:48 - loss: 244.480 - ETA: 3:36 - loss: 235.345 - ETA: 3:25 - loss: 227.246 - ETA: 3:19 - loss: 221.775 - ETA: 3:09 - loss: 214.479 - ETA: 3:03 - loss: 209.822 - ETA: 2:54 - loss: 202.722 - ETA: 2:47 - loss: 196.966 - ETA: 2:43 - loss: 193.506 - ETA: 2:37 - loss: 189.118 - ETA: 2:32 - loss: 185.004 - ETA: 2:29 - loss: 181.667 - ETA: 2:25 - loss: 178.112 - ETA: 2:23 - loss: 175.979 - ETA: 2:17 - loss: 172.202 - ETA: 2:12 - loss: 167.836 - ETA: 2:08 - loss: 165.139 - ETA: 2:07 - loss: 163.579 - ETA: 2:04 - loss: 161.061 - ETA: 2:02 - loss: 159.302 - ETA: 2:01 - loss: 157.650 - ETA: 2:00 - loss: 156.293 - ETA: 1:58 - loss: 154.715 - ETA: 1:56 - loss: 153.021 - ETA: 1:52 - loss: 150.195 - ETA: 1:50 - loss: 148.114 - ETA: 1:48 - loss: 146.166 - ETA: 1:45 - loss: 144.230 - ETA: 1:43 - loss: 142.550 - ETA: 1:42 - loss: 141.759 - ETA: 1:39 - loss: 139.597 - ETA: 1:39 - loss: 139.069 - ETA: 1:37 - loss: 137.481 - ETA: 1:35 - loss: 135.558 - ETA: 1:34 - loss: 134.462 - ETA: 1:33 - loss: 133.845 - ETA: 1:32 - loss: 132.767 - ETA: 1:30 - loss: 131.680 - ETA: 1:29 - loss: 130.564 - ETA: 1:29 - loss: 130.076 - ETA: 1:28 - loss: 129.440 - ETA: 1:27 - loss: 128.480 - ETA: 1:26 - loss: 127.431 - ETA: 1:24 - loss: 126.253 - ETA: 1:23 - loss: 125.344 - ETA: 1:22 - loss: 124.310 - ETA: 1:22 - loss: 123.717 - ETA: 1:20 - loss: 122.804 - ETA: 1:19 - loss: 121.970 - ETA: 1:19 - loss: 121.360 - ETA: 1:18 - loss: 120.418 - ETA: 1:17 - loss: 119.568 - ETA: 1:16 - loss: 118.677 - ETA: 1:15 - loss: 118.079 - ETA: 1:15 - loss: 117.734 - ETA: 1:15 - loss: 117.257 - ETA: 1:14 - loss: 116.502 - ETA: 1:13 - loss: 115.907 - ETA: 1:12 - loss: 115.116 - ETA: 1:12 - loss: 115.060 - ETA: 1:11 - loss: 114.349 - ETA: 1:12 - loss: 114.290 - ETA: 1:11 - loss: 113.643 - ETA: 1:11 - loss: 113.581 - ETA: 1:11 - loss: 113.077 - ETA: 1:10 - loss: 112.625 - ETA: 1:10 - loss: 112.239 - ETA: 1:09 - loss: 111.639 - ETA: 1:09 - loss: 111.597 - ETA: 1:09 - loss: 111.066 - ETA: 1:07 - loss: 110.384 - ETA: 1:07 - loss: 110.147 - ETA: 1:07 - loss: 109.773 - ETA: 1:07 - loss: 109.424 - ETA: 1:06 - loss: 109.006 - ETA: 1:05 - loss: 108.536 - ETA: 1:06 - loss: 108.450 - ETA: 1:05 - loss: 108.024 - ETA: 1:05 - loss: 107.825 - ETA: 1:04 - loss: 107.309 - ETA: 1:03 - loss: 106.801 - ETA: 1:03 - loss: 106.486 - ETA: 1:03 - loss: 106.194 - ETA: 1:02 - loss: 105.860 - ETA: 1:02 - loss: 105.726 - ETA: 1:02 - loss: 105.361 - ETA: 1:01 - loss: 105.069 - ETA: 1:01 - loss: 104.635 - ETA: 1:01 - loss: 104.585 - ETA: 1:00 - loss: 104.183 - ETA: 1:00 - loss: 103.985 - ETA: 1:00 - loss: 103.713 - ETA: 59s - loss: 103.279 - ETA: 59s - loss: 102.97 - ETA: 59s - loss: 102.85 - ETA: 59s - loss: 102.64 - ETA: 58s - loss: 102.46 - ETA: 58s - loss: 102.23 - ETA: 58s - loss: 101.94 - ETA: 57s - loss: 101.57 - ETA: 57s - loss: 101.51 - ETA: 56s - loss: 101.14 - ETA: 57s - loss: 101.05 - ETA: 56s - loss: 100.78 - ETA: 56s - loss: 100.48 - ETA: 56s - loss: 100.28 - ETA: 55s - loss: 100.12 - ETA: 55s - loss: 99.8006 - ETA: 55s - loss: 99.560 - ETA: 55s - loss: 99.494 - ETA: 55s - loss: 99.391 - ETA: 55s - loss: 99.267 - ETA: 55s - loss: 99.247 - ETA: 54s - loss: 98.894 - ETA: 54s - loss: 98.642 - ETA: 54s - loss: 98.491 - ETA: 54s - loss: 98.280 - ETA: 53s - loss: 98.028 - ETA: 53s - loss: 97.989 - ETA: 53s - loss: 97.731 - ETA: 52s - loss: 97.532 - ETA: 52s - loss: 97.340 - ETA: 52s - loss: 97.175 - ETA: 52s - loss: 96.934 - ETA: 51s - loss: 96.847 - ETA: 51s - loss: 96.668 - ETA: 51s - loss: 96.419 - ETA: 51s - loss: 96.243 - ETA: 50s - loss: 96.053 - ETA: 50s - loss: 95.954 - ETA: 50s - loss: 95.777 - ETA: 50s - loss: 95.643 - ETA: 50s - loss: 95.477 - ETA: 49s - loss: 95.356 - ETA: 49s - loss: 95.287 - ETA: 49s - loss: 95.190 - ETA: 49s - loss: 95.033 - ETA: 49s - loss: 94.934 - ETA: 49s - loss: 94.816 - ETA: 49s - loss: 94.787 - ETA: 49s - loss: 94.691 - ETA: 49s - loss: 94.679 - ETA: 49s - loss: 94.589 - ETA: 49s - loss: 94.573 - ETA: 49s - loss: 94.504 - ETA: 49s - loss: 94.374 - ETA: 49s - loss: 94.175 - ETA: 49s - loss: 93.994 - ETA: 48s - loss: 93.875 - ETA: 48s - loss: 93.739 - ETA: 48s - loss: 93.647 - ETA: 48s - loss: 93.525 - ETA: 48s - loss: 93.391 - ETA: 48s - loss: 93.341 - ETA: 47s - loss: 93.187 - ETA: 48s - loss: 93.158 - ETA: 47s - loss: 93.012 - ETA: 47s - loss: 92.935 - ETA: 47s - loss: 92.762 - ETA: 47s - loss: 92.712 - ETA: 47s - loss: 92.629 - ETA: 47s - loss: 92.557 - ETA: 47s - loss: 92.417 - ETA: 46s - loss: 92.311 - ETA: 46s - loss: 92.170 - ETA: 46s - loss: 92.104 - ETA: 46s - loss: 91.989 - ETA: 46s - loss: 91.852 - ETA: 46s - loss: 91.785 - ETA: 46s - loss: 91.619 - ETA: 46s - loss: 91.569 - ETA: 46s - loss: 91.501 - ETA: 46s - loss: 91.446 - ETA: 46s - loss: 91.391 - ETA: 46s - loss: 91.371 - ETA: 46s - loss: 91.304 - ETA: 46s - loss: 91.250 - ETA: 46s - loss: 91.230 - ETA: 46s - loss: 91.171 - ETA: 46s - loss: 91.135 - ETA: 46s - loss: 91.073 - ETA: 46s - loss: 91.053 - ETA: 46s - loss: 90.988 - ETA: 46s - loss: 90.944 - ETA: 46s - loss: 90.930 - ETA: 46s - loss: 90.858 - ETA: 46s - loss: 90.804 - ETA: 46s - loss: 90.681 - ETA: 46s - loss: 90.639 - ETA: 46s - loss: 90.527 - ETA: 45s - loss: 90.447 - ETA: 45s - loss: 90.360 - ETA: 45s - loss: 90.293 - ETA: 45s - loss: 90.259 - ETA: 45s - loss: 90.249 - ETA: 46s - loss: 90.228 - ETA: 46s - loss: 90.183 - ETA: 46s - loss: 90.159 - ETA: 46s - loss: 90.146 - ETA: 46s - loss: 90.136 - ETA: 46s - loss: 90.106 - ETA: 46s - loss: 90.030 - ETA: 46s - loss: 90.016 - ETA: 46s - loss: 89.955 - ETA: 46s - loss: 89.946 - ETA: 46s - loss: 89.911 - ETA: 46s - loss: 89.878 - ETA: 47s - loss: 89.848 - ETA: 47s - loss: 89.825 - ETA: 47s - loss: 89.781 - ETA: 46s - loss: 89.646 - ETA: 46s - loss: 89.571 - ETA: 46s - loss: 89.545 - ETA: 46s - loss: 89.504 - ETA: 46s - loss: 89.463 - ETA: 46s - loss: 89.439 - ETA: 46s - loss: 89.433 - ETA: 47s - loss: 89.424 - ETA: 47s - loss: 89.407 - ETA: 47s - loss: 89.386 - ETA: 47s - loss: 89.328 - ETA: 47s - loss: 89.323 - ETA: 47s - loss: 89.315 - ETA: 47s - loss: 89.309 - ETA: 47s - loss: 89.293 - ETA: 47s - loss: 89.263 - ETA: 48s - loss: 89.240 - ETA: 48s - loss: 89.187 - ETA: 48s - loss: 89.178 - ETA: 48s - loss: 89.120 - ETA: 48s - loss: 89.107 - ETA: 48s - loss: 89.062 - ETA: 48s - loss: 89.049 - ETA: 48s - loss: 88.989 - ETA: 48s - loss: 88.983 - ETA: 48s - loss: 88.962 - ETA: 48s - loss: 88.933 - ETA: 49s - loss: 88.924 - ETA: 49s - loss: 88.891 - ETA: 49s - loss: 88.883 - ETA: 49s - loss: 88.856 - ETA: 49s - loss: 88.831 - ETA: 49s - loss: 88.779 - ETA: 49s - loss: 88.736 - ETA: 49s - loss: 88.693 - ETA: 49s - loss: 88.684 - ETA: 49s - loss: 88.628 - ETA: 49s - loss: 88.620 - ETA: 49s - loss: 88.588 - ETA: 49s - loss: 88.578 - ETA: 49s - loss: 88.513 - ETA: 49s - loss: 88.504 - ETA: 49s - loss: 88.466 - ETA: 49s - loss: 88.450 - ETA: 49s - loss: 88.403 - ETA: 49s - loss: 88.357 - ETA: 49s - loss: 88.338 - ETA: 49s - loss: 88.277 - ETA: 49s - loss: 88.262 - ETA: 49s - loss: 88.219 - ETA: 49s - loss: 88.207 - ETA: 49s - loss: 88.156 - ETA: 49s - loss: 88.137 - ETA: 49s - loss: 88.087 - ETA: 49s - loss: 88.031 - ETA: 49s - loss: 88.014 - ETA: 49s - loss: 88.009 - ETA: 49s - loss: 87.958 - ETA: 49s - loss: 87.950 - ETA: 49s - loss: 87.904 - ETA: 50s - loss: 87.898 - ETA: 49s - loss: 87.779 - ETA: 49s - loss: 87.653 - ETA: 49s - loss: 87.634 - ETA: 49s - loss: 87.555 - ETA: 49s - loss: 87.478 - ETA: 49s - loss: 87.454 - ETA: 48s - loss: 87.403 - ETA: 48s - loss: 87.331 - ETA: 48s - loss: 87.286 - ETA: 48s - loss: 87.239 - ETA: 48s - loss: 87.145 - ETA: 48s - loss: 87.139 - ETA: 48s - loss: 87.058 - ETA: 47s - loss: 86.983 - ETA: 47s - loss: 86.925 - ETA: 47s - loss: 86.834 - ETA: 47s - loss: 86.787 - ETA: 47s - loss: 86.696 - ETA: 46s - loss: 86.621 - ETA: 46s - loss: 86.561 - ETA: 46s - loss: 86.509 - ETA: 46s - loss: 86.4596\b\b\b\b\b\b\b\b\b\b\b\b\b\b\b\b\b\b\b\b\b\b\b\b\b\b\b\b\b\b\b\b\b\b\b\b\b\b\b\b\b\b\b\b\b\b\b\b\b\b\b\b\b\b\b\b\b\b\b\b\b\b\b\b\b\b\b\b\b\b\b\b\b"
     ]
    },
    {
     "name": "stdout",
     "output_type": "stream",
     "text": [
      "136032/199659 [===================>..........] - ETA: 46s - loss: 86.424 - ETA: 46s - loss: 86.378 - ETA: 46s - loss: 86.312 - ETA: 46s - loss: 86.262 - ETA: 46s - loss: 86.212 - ETA: 46s - loss: 86.187 - ETA: 46s - loss: 86.167 - ETA: 46s - loss: 86.158 - ETA: 46s - loss: 86.127 - ETA: 46s - loss: 86.121 - ETA: 46s - loss: 86.106 - ETA: 46s - loss: 86.076 - ETA: 46s - loss: 86.054 - ETA: 46s - loss: 86.012 - ETA: 46s - loss: 85.986 - ETA: 46s - loss: 85.964 - ETA: 46s - loss: 85.934 - ETA: 46s - loss: 85.925 - ETA: 46s - loss: 85.854 - ETA: 46s - loss: 85.844 - ETA: 46s - loss: 85.808 - ETA: 46s - loss: 85.806 - ETA: 46s - loss: 85.753 - ETA: 46s - loss: 85.743 - ETA: 46s - loss: 85.699 - ETA: 46s - loss: 85.691 - ETA: 46s - loss: 85.666 - ETA: 46s - loss: 85.645 - ETA: 46s - loss: 85.603 - ETA: 46s - loss: 85.563 - ETA: 46s - loss: 85.560 - ETA: 46s - loss: 85.538 - ETA: 46s - loss: 85.530 - ETA: 46s - loss: 85.493 - ETA: 46s - loss: 85.457 - ETA: 45s - loss: 85.409 - ETA: 45s - loss: 85.384 - ETA: 46s - loss: 85.377 - ETA: 46s - loss: 85.344 - ETA: 46s - loss: 85.339 - ETA: 46s - loss: 85.316 - ETA: 46s - loss: 85.288 - ETA: 46s - loss: 85.283 - ETA: 46s - loss: 85.267 - ETA: 46s - loss: 85.252 - ETA: 46s - loss: 85.236 - ETA: 46s - loss: 85.216 - ETA: 46s - loss: 85.195 - ETA: 46s - loss: 85.192 - ETA: 46s - loss: 85.183 - ETA: 46s - loss: 85.174 - ETA: 46s - loss: 85.156 - ETA: 46s - loss: 85.142 - ETA: 46s - loss: 85.122 - ETA: 46s - loss: 85.093 - ETA: 46s - loss: 85.086 - ETA: 46s - loss: 85.081 - ETA: 46s - loss: 85.062 - ETA: 46s - loss: 85.045 - ETA: 46s - loss: 85.026 - ETA: 46s - loss: 85.015 - ETA: 46s - loss: 84.984 - ETA: 46s - loss: 84.983 - ETA: 46s - loss: 84.958 - ETA: 46s - loss: 84.938 - ETA: 46s - loss: 84.927 - ETA: 46s - loss: 84.915 - ETA: 47s - loss: 84.911 - ETA: 47s - loss: 84.877 - ETA: 47s - loss: 84.867 - ETA: 47s - loss: 84.837 - ETA: 47s - loss: 84.819 - ETA: 47s - loss: 84.813 - ETA: 47s - loss: 84.788 - ETA: 47s - loss: 84.778 - ETA: 47s - loss: 84.755 - ETA: 47s - loss: 84.724 - ETA: 46s - loss: 84.691 - ETA: 46s - loss: 84.646 - ETA: 46s - loss: 84.640 - ETA: 46s - loss: 84.580 - ETA: 46s - loss: 84.527 - ETA: 46s - loss: 84.479 - ETA: 45s - loss: 84.436 - ETA: 45s - loss: 84.414 - ETA: 45s - loss: 84.396 - ETA: 45s - loss: 84.366 - ETA: 45s - loss: 84.364 - ETA: 45s - loss: 84.341 - ETA: 45s - loss: 84.328 - ETA: 45s - loss: 84.321 - ETA: 45s - loss: 84.312 - ETA: 46s - loss: 84.306 - ETA: 45s - loss: 84.267 - ETA: 45s - loss: 84.260 - ETA: 45s - loss: 84.210 - ETA: 45s - loss: 84.197 - ETA: 45s - loss: 84.138 - ETA: 45s - loss: 84.117 - ETA: 45s - loss: 84.078 - ETA: 45s - loss: 84.058 - ETA: 45s - loss: 84.024 - ETA: 45s - loss: 84.009 - ETA: 44s - loss: 83.978 - ETA: 44s - loss: 83.980 - ETA: 44s - loss: 83.967 - ETA: 44s - loss: 83.957 - ETA: 44s - loss: 83.944 - ETA: 44s - loss: 83.933 - ETA: 44s - loss: 83.924 - ETA: 44s - loss: 83.913 - ETA: 44s - loss: 83.892 - ETA: 44s - loss: 83.884 - ETA: 44s - loss: 83.821 - ETA: 44s - loss: 83.815 - ETA: 44s - loss: 83.754 - ETA: 44s - loss: 83.749 - ETA: 44s - loss: 83.708 - ETA: 44s - loss: 83.679 - ETA: 43s - loss: 83.621 - ETA: 43s - loss: 83.587 - ETA: 43s - loss: 83.565 - ETA: 43s - loss: 83.530 - ETA: 43s - loss: 83.522 - ETA: 43s - loss: 83.506 - ETA: 43s - loss: 83.480 - ETA: 43s - loss: 83.417 - ETA: 43s - loss: 83.412 - ETA: 42s - loss: 83.362 - ETA: 42s - loss: 83.352 - ETA: 42s - loss: 83.295 - ETA: 42s - loss: 83.252 - ETA: 42s - loss: 83.224 - ETA: 42s - loss: 83.187 - ETA: 42s - loss: 83.183 - ETA: 41s - loss: 83.155 - ETA: 41s - loss: 83.139 - ETA: 41s - loss: 83.119 - ETA: 41s - loss: 83.106 - ETA: 41s - loss: 83.062 - ETA: 41s - loss: 83.052 - ETA: 41s - loss: 83.012 - ETA: 41s - loss: 82.973 - ETA: 41s - loss: 82.961 - ETA: 41s - loss: 82.941 - ETA: 41s - loss: 82.928 - ETA: 40s - loss: 82.880 - ETA: 40s - loss: 82.848 - ETA: 40s - loss: 82.817 - ETA: 40s - loss: 82.776 - ETA: 40s - loss: 82.757 - ETA: 40s - loss: 82.731 - ETA: 39s - loss: 82.692 - ETA: 39s - loss: 82.673 - ETA: 39s - loss: 82.643 - ETA: 39s - loss: 82.635 - ETA: 39s - loss: 82.586 - ETA: 39s - loss: 82.565 - ETA: 39s - loss: 82.540 - ETA: 39s - loss: 82.511 - ETA: 39s - loss: 82.496 - ETA: 38s - loss: 82.442 - ETA: 38s - loss: 82.424 - ETA: 38s - loss: 82.378 - ETA: 38s - loss: 82.348 - ETA: 38s - loss: 82.309 - ETA: 38s - loss: 82.305 - ETA: 37s - loss: 82.285 - ETA: 37s - loss: 82.266 - ETA: 37s - loss: 82.229 - ETA: 37s - loss: 82.226 - ETA: 37s - loss: 82.190 - ETA: 37s - loss: 82.165 - ETA: 37s - loss: 82.156 - ETA: 37s - loss: 82.132 - ETA: 37s - loss: 82.120 - ETA: 36s - loss: 82.079 - ETA: 36s - loss: 82.063 - ETA: 36s - loss: 82.033 - ETA: 36s - loss: 82.004 - ETA: 36s - loss: 81.994 - ETA: 36s - loss: 81.972 - ETA: 36s - loss: 81.959 - ETA: 35s - loss: 81.925 - ETA: 35s - loss: 81.902 - ETA: 35s - loss: 81.876 - ETA: 35s - loss: 81.836 - ETA: 35s - loss: 81.812 - ETA: 35s - loss: 81.788 - ETA: 35s - loss: 81.756 - ETA: 35s - loss: 81.736 - ETA: 34s - loss: 81.709 - ETA: 34s - loss: 81.671 - ETA: 34s - loss: 81.639 - ETA: 34s - loss: 81.615 - ETA: 34s - loss: 81.603 - ETA: 34s - loss: 81.578 - ETA: 33s - loss: 81.551 - ETA: 33s - loss: 81.513 - ETA: 33s - loss: 81.493 - ETA: 33s - loss: 81.478 - ETA: 33s - loss: 81.462 - ETA: 33s - loss: 81.422 - ETA: 32s - loss: 81.384 - ETA: 32s - loss: 81.364 - ETA: 32s - loss: 81.348 - ETA: 32s - loss: 81.330 - ETA: 32s - loss: 81.318 - ETA: 32s - loss: 81.293 - ETA: 32s - loss: 81.253 - ETA: 31s - loss: 81.229 - ETA: 31s - loss: 81.213 - ETA: 31s - loss: 81.177 - ETA: 31s - loss: 81.152 - ETA: 31s - loss: 81.135 - ETA: 31s - loss: 81.108 - ETA: 31s - loss: 81.075 - ETA: 30s - loss: 81.051 - ETA: 30s - loss: 81.024 - ETA: 30s - loss: 80.987 - ETA: 30s - loss: 80.969 - ETA: 30s - loss: 80.933 - ETA: 30s - loss: 80.911 - ETA: 29s - loss: 80.894 - ETA: 29s - loss: 80.880 - ETA: 29s - loss: 80.861 - ETA: 29s - loss: 80.832 - ETA: 29s - loss: 80.792 - ETA: 29s - loss: 80.782 - ETA: 29s - loss: 80.758 - ETA: 29s - loss: 80.757 - ETA: 28s - loss: 80.735 - ETA: 28s - loss: 80.709 - ETA: 28s - loss: 80.684 - ETA: 28s - loss: 80.670 - ETA: 28s - loss: 80.646 - ETA: 28s - loss: 80.611 - ETA: 28s - loss: 80.605 - ETA: 27s - loss: 80.571 - ETA: 27s - loss: 80.560 - ETA: 27s - loss: 80.528 - ETA: 27s - loss: 80.495 - ETA: 27s - loss: 80.458 - ETA: 27s - loss: 80.448 - ETA: 27s - loss: 80.431 - ETA: 26s - loss: 80.401 - ETA: 26s - loss: 80.398 - ETA: 26s - loss: 80.368 - ETA: 26s - loss: 80.364 - ETA: 26s - loss: 80.345 - ETA: 26s - loss: 80.337 - ETA: 26s - loss: 80.308 - ETA: 26s - loss: 80.288 - ETA: 26s - loss: 80.263 - ETA: 25s - loss: 80.247 - ETA: 25s - loss: 80.244 - ETA: 25s - loss: 80.227 - ETA: 25s - loss: 80.207 - ETA: 25s - loss: 80.186 - ETA: 25s - loss: 80.174 - ETA: 25s - loss: 80.159 - ETA: 25s - loss: 80.137 - ETA: 25s - loss: 80.128 - ETA: 24s - loss: 80.117 - ETA: 24s - loss: 80.096 - ETA: 24s - loss: 80.083 - ETA: 24s - loss: 80.077 - ETA: 24s - loss: 80.068 - ETA: 24s - loss: 80.052 - ETA: 24s - loss: 80.035 - ETA: 24s - loss: 80.016 - ETA: 23s - loss: 79.991 - ETA: 23s - loss: 79.967 - ETA: 23s - loss: 79.947 - ETA: 23s - loss: 79.918 - ETA: 23s - loss: 79.904 - ETA: 23s - loss: 79.895 - ETA: 23s - loss: 79.873 - ETA: 23s - loss: 79.853 - ETA: 22s - loss: 79.839 - ETA: 22s - loss: 79.819 - ETA: 22s - loss: 79.794 - ETA: 22s - loss: 79.789 - ETA: 22s - loss: 79.769 - ETA: 22s - loss: 79.760 - ETA: 22s - loss: 79.743 - ETA: 22s - loss: 79.739 - ETA: 22s - loss: 79.711 - ETA: 22s - loss: 79.698 - ETA: 22s - loss: 79.675 - ETA: 21s - loss: 79.646 - ETA: 21s - loss: 79.627 - ETA: 21s - loss: 79.609 - ETA: 21s - loss: 79.606 - ETA: 21s - loss: 79.595 - ETA: 21s - loss: 79.572 - ETA: 21s - loss: 79.555 - ETA: 20s - loss: 79.535 - ETA: 20s - loss: 79.526 - ETA: 20s - loss: 79.503 - ETA: 20s - loss: 79.475 - ETA: 20s - loss: 79.463 - ETA: 20s - loss: 79.451 - ETA: 20s - loss: 79.441 - ETA: 20s - loss: 79.434 - ETA: 20s - loss: 79.410 - ETA: 19s - loss: 79.388 - ETA: 19s - loss: 79.370 - ETA: 19s - loss: 79.369 - ETA: 19s - loss: 79.354 - ETA: 19s - loss: 79.338 - ETA: 19s - loss: 79.324 - ETA: 19s - loss: 79.313 - ETA: 19s - loss: 79.3055"
     ]
    },
    {
     "name": "stdout",
     "output_type": "stream",
     "text": [
      "199659/199659 [==============================] - ETA: 19s - loss: 79.295 - ETA: 19s - loss: 79.281 - ETA: 19s - loss: 79.261 - ETA: 19s - loss: 79.253 - ETA: 18s - loss: 79.244 - ETA: 18s - loss: 79.230 - ETA: 18s - loss: 79.215 - ETA: 18s - loss: 79.206 - ETA: 18s - loss: 79.185 - ETA: 18s - loss: 79.182 - ETA: 18s - loss: 79.170 - ETA: 18s - loss: 79.155 - ETA: 18s - loss: 79.154 - ETA: 18s - loss: 79.144 - ETA: 18s - loss: 79.140 - ETA: 18s - loss: 79.135 - ETA: 18s - loss: 79.136 - ETA: 18s - loss: 79.126 - ETA: 18s - loss: 79.127 - ETA: 18s - loss: 79.124 - ETA: 18s - loss: 79.117 - ETA: 18s - loss: 79.106 - ETA: 17s - loss: 79.101 - ETA: 17s - loss: 79.088 - ETA: 17s - loss: 79.084 - ETA: 17s - loss: 79.068 - ETA: 17s - loss: 79.046 - ETA: 17s - loss: 79.034 - ETA: 17s - loss: 79.021 - ETA: 17s - loss: 79.006 - ETA: 17s - loss: 79.004 - ETA: 17s - loss: 78.999 - ETA: 17s - loss: 78.991 - ETA: 17s - loss: 78.991 - ETA: 17s - loss: 78.984 - ETA: 17s - loss: 78.982 - ETA: 17s - loss: 78.968 - ETA: 17s - loss: 78.965 - ETA: 17s - loss: 78.950 - ETA: 17s - loss: 78.941 - ETA: 16s - loss: 78.926 - ETA: 16s - loss: 78.923 - ETA: 16s - loss: 78.917 - ETA: 16s - loss: 78.914 - ETA: 16s - loss: 78.906 - ETA: 16s - loss: 78.894 - ETA: 16s - loss: 78.890 - ETA: 16s - loss: 78.889 - ETA: 16s - loss: 78.888 - ETA: 16s - loss: 78.881 - ETA: 16s - loss: 78.879 - ETA: 16s - loss: 78.875 - ETA: 16s - loss: 78.861 - ETA: 16s - loss: 78.842 - ETA: 16s - loss: 78.819 - ETA: 16s - loss: 78.816 - ETA: 15s - loss: 78.800 - ETA: 15s - loss: 78.784 - ETA: 15s - loss: 78.781 - ETA: 15s - loss: 78.772 - ETA: 15s - loss: 78.763 - ETA: 15s - loss: 78.752 - ETA: 15s - loss: 78.745 - ETA: 15s - loss: 78.732 - ETA: 15s - loss: 78.719 - ETA: 15s - loss: 78.718 - ETA: 15s - loss: 78.702 - ETA: 15s - loss: 78.697 - ETA: 15s - loss: 78.691 - ETA: 15s - loss: 78.689 - ETA: 15s - loss: 78.688 - ETA: 15s - loss: 78.688 - ETA: 15s - loss: 78.681 - ETA: 15s - loss: 78.678 - ETA: 15s - loss: 78.676 - ETA: 15s - loss: 78.671 - ETA: 14s - loss: 78.669 - ETA: 14s - loss: 78.660 - ETA: 14s - loss: 78.657 - ETA: 14s - loss: 78.652 - ETA: 14s - loss: 78.649 - ETA: 14s - loss: 78.644 - ETA: 14s - loss: 78.643 - ETA: 14s - loss: 78.635 - ETA: 14s - loss: 78.635 - ETA: 14s - loss: 78.635 - ETA: 14s - loss: 78.632 - ETA: 14s - loss: 78.626 - ETA: 14s - loss: 78.620 - ETA: 14s - loss: 78.617 - ETA: 14s - loss: 78.605 - ETA: 14s - loss: 78.601 - ETA: 14s - loss: 78.597 - ETA: 14s - loss: 78.584 - ETA: 14s - loss: 78.574 - ETA: 14s - loss: 78.561 - ETA: 13s - loss: 78.548 - ETA: 13s - loss: 78.538 - ETA: 13s - loss: 78.535 - ETA: 13s - loss: 78.525 - ETA: 13s - loss: 78.520 - ETA: 13s - loss: 78.509 - ETA: 13s - loss: 78.504 - ETA: 13s - loss: 78.493 - ETA: 13s - loss: 78.488 - ETA: 13s - loss: 78.472 - ETA: 13s - loss: 78.464 - ETA: 13s - loss: 78.450 - ETA: 13s - loss: 78.446 - ETA: 13s - loss: 78.444 - ETA: 13s - loss: 78.431 - ETA: 12s - loss: 78.422 - ETA: 12s - loss: 78.414 - ETA: 12s - loss: 78.408 - ETA: 12s - loss: 78.396 - ETA: 12s - loss: 78.395 - ETA: 12s - loss: 78.388 - ETA: 12s - loss: 78.386 - ETA: 12s - loss: 78.372 - ETA: 12s - loss: 78.364 - ETA: 12s - loss: 78.350 - ETA: 12s - loss: 78.347 - ETA: 12s - loss: 78.330 - ETA: 12s - loss: 78.322 - ETA: 12s - loss: 78.323 - ETA: 12s - loss: 78.321 - ETA: 12s - loss: 78.318 - ETA: 11s - loss: 78.308 - ETA: 11s - loss: 78.306 - ETA: 11s - loss: 78.291 - ETA: 11s - loss: 78.289 - ETA: 11s - loss: 78.278 - ETA: 11s - loss: 78.274 - ETA: 11s - loss: 78.267 - ETA: 11s - loss: 78.266 - ETA: 11s - loss: 78.265 - ETA: 11s - loss: 78.252 - ETA: 11s - loss: 78.248 - ETA: 11s - loss: 78.228 - ETA: 11s - loss: 78.226 - ETA: 11s - loss: 78.221 - ETA: 11s - loss: 78.220 - ETA: 11s - loss: 78.208 - ETA: 10s - loss: 78.203 - ETA: 10s - loss: 78.186 - ETA: 10s - loss: 78.183 - ETA: 10s - loss: 78.172 - ETA: 10s - loss: 78.167 - ETA: 10s - loss: 78.157 - ETA: 10s - loss: 78.153 - ETA: 10s - loss: 78.144 - ETA: 10s - loss: 78.142 - ETA: 10s - loss: 78.135 - ETA: 10s - loss: 78.132 - ETA: 10s - loss: 78.117 - ETA: 10s - loss: 78.114 - ETA: 10s - loss: 78.104 - ETA: 9s - loss: 78.097 - ETA: 9s - loss: 78.09 - ETA: 9s - loss: 78.08 - ETA: 9s - loss: 78.08 - ETA: 9s - loss: 78.07 - ETA: 9s - loss: 78.05 - ETA: 9s - loss: 78.05 - ETA: 9s - loss: 78.05 - ETA: 9s - loss: 78.04 - ETA: 9s - loss: 78.03 - ETA: 9s - loss: 78.02 - ETA: 9s - loss: 78.01 - ETA: 8s - loss: 78.00 - ETA: 8s - loss: 78.00 - ETA: 8s - loss: 78.00 - ETA: 8s - loss: 77.99 - ETA: 8s - loss: 77.98 - ETA: 8s - loss: 77.97 - ETA: 8s - loss: 77.95 - ETA: 8s - loss: 77.95 - ETA: 8s - loss: 77.95 - ETA: 8s - loss: 77.94 - ETA: 8s - loss: 77.94 - ETA: 8s - loss: 77.93 - ETA: 8s - loss: 77.92 - ETA: 8s - loss: 77.91 - ETA: 8s - loss: 77.91 - ETA: 7s - loss: 77.91 - ETA: 7s - loss: 77.91 - ETA: 7s - loss: 77.90 - ETA: 7s - loss: 77.90 - ETA: 7s - loss: 77.88 - ETA: 7s - loss: 77.88 - ETA: 7s - loss: 77.87 - ETA: 7s - loss: 77.86 - ETA: 7s - loss: 77.86 - ETA: 7s - loss: 77.85 - ETA: 7s - loss: 77.84 - ETA: 6s - loss: 77.83 - ETA: 6s - loss: 77.83 - ETA: 6s - loss: 77.82 - ETA: 6s - loss: 77.81 - ETA: 6s - loss: 77.80 - ETA: 6s - loss: 77.80 - ETA: 6s - loss: 77.79 - ETA: 6s - loss: 77.79 - ETA: 6s - loss: 77.78 - ETA: 6s - loss: 77.78 - ETA: 6s - loss: 77.76 - ETA: 6s - loss: 77.75 - ETA: 6s - loss: 77.75 - ETA: 5s - loss: 77.74 - ETA: 5s - loss: 77.74 - ETA: 5s - loss: 77.74 - ETA: 5s - loss: 77.73 - ETA: 5s - loss: 77.72 - ETA: 5s - loss: 77.72 - ETA: 5s - loss: 77.72 - ETA: 5s - loss: 77.72 - ETA: 5s - loss: 77.71 - ETA: 5s - loss: 77.71 - ETA: 5s - loss: 77.71 - ETA: 5s - loss: 77.71 - ETA: 5s - loss: 77.70 - ETA: 5s - loss: 77.69 - ETA: 5s - loss: 77.69 - ETA: 5s - loss: 77.69 - ETA: 5s - loss: 77.68 - ETA: 5s - loss: 77.68 - ETA: 5s - loss: 77.68 - ETA: 5s - loss: 77.68 - ETA: 5s - loss: 77.67 - ETA: 5s - loss: 77.67 - ETA: 4s - loss: 77.66 - ETA: 4s - loss: 77.65 - ETA: 4s - loss: 77.65 - ETA: 4s - loss: 77.64 - ETA: 4s - loss: 77.64 - ETA: 4s - loss: 77.64 - ETA: 4s - loss: 77.63 - ETA: 4s - loss: 77.63 - ETA: 4s - loss: 77.63 - ETA: 4s - loss: 77.63 - ETA: 4s - loss: 77.62 - ETA: 4s - loss: 77.62 - ETA: 4s - loss: 77.61 - ETA: 4s - loss: 77.61 - ETA: 4s - loss: 77.61 - ETA: 4s - loss: 77.60 - ETA: 4s - loss: 77.59 - ETA: 4s - loss: 77.59 - ETA: 4s - loss: 77.58 - ETA: 3s - loss: 77.58 - ETA: 3s - loss: 77.57 - ETA: 3s - loss: 77.57 - ETA: 3s - loss: 77.56 - ETA: 3s - loss: 77.55 - ETA: 3s - loss: 77.55 - ETA: 3s - loss: 77.55 - ETA: 3s - loss: 77.55 - ETA: 3s - loss: 77.55 - ETA: 3s - loss: 77.54 - ETA: 3s - loss: 77.54 - ETA: 3s - loss: 77.54 - ETA: 3s - loss: 77.54 - ETA: 3s - loss: 77.52 - ETA: 3s - loss: 77.52 - ETA: 3s - loss: 77.51 - ETA: 3s - loss: 77.51 - ETA: 2s - loss: 77.50 - ETA: 2s - loss: 77.50 - ETA: 2s - loss: 77.49 - ETA: 2s - loss: 77.48 - ETA: 2s - loss: 77.48 - ETA: 2s - loss: 77.48 - ETA: 2s - loss: 77.47 - ETA: 2s - loss: 77.46 - ETA: 2s - loss: 77.46 - ETA: 2s - loss: 77.45 - ETA: 2s - loss: 77.45 - ETA: 2s - loss: 77.44 - ETA: 2s - loss: 77.44 - ETA: 1s - loss: 77.43 - ETA: 1s - loss: 77.42 - ETA: 1s - loss: 77.41 - ETA: 1s - loss: 77.40 - ETA: 1s - loss: 77.39 - ETA: 1s - loss: 77.39 - ETA: 1s - loss: 77.38 - ETA: 1s - loss: 77.38 - ETA: 1s - loss: 77.37 - ETA: 1s - loss: 77.37 - ETA: 1s - loss: 77.37 - ETA: 1s - loss: 77.37 - ETA: 1s - loss: 77.36 - ETA: 0s - loss: 77.35 - ETA: 0s - loss: 77.34 - ETA: 0s - loss: 77.33 - ETA: 0s - loss: 77.33 - ETA: 0s - loss: 77.33 - ETA: 0s - loss: 77.32 - ETA: 0s - loss: 77.32 - ETA: 0s - loss: 77.31 - ETA: 0s - loss: 77.30 - ETA: 0s - loss: 77.28 - ETA: 0s - loss: 77.27 - ETA: 0s - loss: 77.27 - 60s 300us/step - loss: 77.2697\n",
      "Epoch 2/2\n"
     ]
    },
    {
     "name": "stdout",
     "output_type": "stream",
     "text": [
      " 69664/199659 [=========>....................] - ETA: 3:37 - loss: 77.00 - ETA: 1:27 - loss: 74.60 - ETA: 1:12 - loss: 73.59 - ETA: 1:04 - loss: 73.19 - ETA: 1:08 - loss: 72.92 - ETA: 1:08 - loss: 73.88 - ETA: 1:09 - loss: 73.76 - ETA: 1:03 - loss: 73.46 - ETA: 1:08 - loss: 73.64 - ETA: 1:05 - loss: 73.67 - ETA: 1:01 - loss: 73.30 - ETA: 56s - loss: 73.3272 - ETA: 57s - loss: 73.148 - ETA: 58s - loss: 73.172 - ETA: 55s - loss: 72.926 - ETA: 56s - loss: 72.862 - ETA: 54s - loss: 73.234 - ETA: 53s - loss: 73.468 - ETA: 53s - loss: 73.336 - ETA: 52s - loss: 73.329 - ETA: 53s - loss: 73.342 - ETA: 52s - loss: 73.456 - ETA: 53s - loss: 73.598 - ETA: 50s - loss: 73.522 - ETA: 49s - loss: 73.413 - ETA: 47s - loss: 73.262 - ETA: 48s - loss: 73.188 - ETA: 47s - loss: 73.021 - ETA: 47s - loss: 72.833 - ETA: 46s - loss: 72.921 - ETA: 45s - loss: 72.889 - ETA: 44s - loss: 72.920 - ETA: 44s - loss: 72.917 - ETA: 44s - loss: 72.947 - ETA: 44s - loss: 72.992 - ETA: 43s - loss: 72.943 - ETA: 43s - loss: 72.926 - ETA: 42s - loss: 72.890 - ETA: 42s - loss: 72.838 - ETA: 41s - loss: 72.793 - ETA: 41s - loss: 72.826 - ETA: 41s - loss: 72.834 - ETA: 41s - loss: 72.787 - ETA: 41s - loss: 72.761 - ETA: 42s - loss: 72.700 - ETA: 43s - loss: 72.686 - ETA: 43s - loss: 72.664 - ETA: 43s - loss: 72.673 - ETA: 43s - loss: 72.693 - ETA: 43s - loss: 72.576 - ETA: 42s - loss: 72.524 - ETA: 42s - loss: 72.457 - ETA: 42s - loss: 72.447 - ETA: 42s - loss: 72.450 - ETA: 42s - loss: 72.424 - ETA: 41s - loss: 72.452 - ETA: 41s - loss: 72.437 - ETA: 42s - loss: 72.422 - ETA: 42s - loss: 72.458 - ETA: 42s - loss: 72.462 - ETA: 42s - loss: 72.467 - ETA: 43s - loss: 72.468 - ETA: 43s - loss: 72.483 - ETA: 44s - loss: 72.456 - ETA: 43s - loss: 72.498 - ETA: 43s - loss: 72.521 - ETA: 43s - loss: 72.543 - ETA: 44s - loss: 72.540 - ETA: 44s - loss: 72.579 - ETA: 44s - loss: 72.591 - ETA: 44s - loss: 72.557 - ETA: 44s - loss: 72.581 - ETA: 44s - loss: 72.658 - ETA: 44s - loss: 72.654 - ETA: 44s - loss: 72.672 - ETA: 44s - loss: 72.677 - ETA: 44s - loss: 72.710 - ETA: 44s - loss: 72.727 - ETA: 44s - loss: 72.689 - ETA: 44s - loss: 72.705 - ETA: 44s - loss: 72.680 - ETA: 44s - loss: 72.691 - ETA: 44s - loss: 72.643 - ETA: 44s - loss: 72.644 - ETA: 44s - loss: 72.632 - ETA: 45s - loss: 72.633 - ETA: 44s - loss: 72.662 - ETA: 45s - loss: 72.689 - ETA: 44s - loss: 72.674 - ETA: 45s - loss: 72.668 - ETA: 44s - loss: 72.674 - ETA: 45s - loss: 72.651 - ETA: 44s - loss: 72.631 - ETA: 44s - loss: 72.623 - ETA: 44s - loss: 72.620 - ETA: 44s - loss: 72.614 - ETA: 44s - loss: 72.609 - ETA: 44s - loss: 72.612 - ETA: 44s - loss: 72.640 - ETA: 44s - loss: 72.629 - ETA: 44s - loss: 72.600 - ETA: 44s - loss: 72.592 - ETA: 44s - loss: 72.600 - ETA: 44s - loss: 72.615 - ETA: 44s - loss: 72.628 - ETA: 44s - loss: 72.620 - ETA: 45s - loss: 72.631 - ETA: 44s - loss: 72.637 - ETA: 44s - loss: 72.648 - ETA: 44s - loss: 72.660 - ETA: 45s - loss: 72.663 - ETA: 44s - loss: 72.662 - ETA: 45s - loss: 72.664 - ETA: 45s - loss: 72.674 - ETA: 44s - loss: 72.679 - ETA: 45s - loss: 72.670 - ETA: 44s - loss: 72.639 - ETA: 44s - loss: 72.683 - ETA: 44s - loss: 72.680 - ETA: 44s - loss: 72.688 - ETA: 44s - loss: 72.686 - ETA: 44s - loss: 72.705 - ETA: 44s - loss: 72.694 - ETA: 44s - loss: 72.719 - ETA: 44s - loss: 72.708 - ETA: 44s - loss: 72.707 - ETA: 44s - loss: 72.702 - ETA: 44s - loss: 72.695 - ETA: 44s - loss: 72.670 - ETA: 43s - loss: 72.682 - ETA: 44s - loss: 72.683 - ETA: 43s - loss: 72.677 - ETA: 44s - loss: 72.673 - ETA: 44s - loss: 72.676 - ETA: 45s - loss: 72.680 - ETA: 45s - loss: 72.673 - ETA: 45s - loss: 72.688 - ETA: 46s - loss: 72.685 - ETA: 49s - loss: 72.710 - ETA: 49s - loss: 72.703 - ETA: 49s - loss: 72.709 - ETA: 49s - loss: 72.713 - ETA: 49s - loss: 72.714 - ETA: 53s - loss: 72.736 - ETA: 53s - loss: 72.752 - ETA: 53s - loss: 72.758 - ETA: 53s - loss: 72.768 - ETA: 52s - loss: 72.793 - ETA: 52s - loss: 72.812 - ETA: 52s - loss: 72.802 - ETA: 52s - loss: 72.803 - ETA: 52s - loss: 72.806 - ETA: 51s - loss: 72.797 - ETA: 52s - loss: 72.800 - ETA: 51s - loss: 72.795 - ETA: 51s - loss: 72.772 - ETA: 51s - loss: 72.787 - ETA: 51s - loss: 72.799 - ETA: 50s - loss: 72.821 - ETA: 50s - loss: 72.828 - ETA: 50s - loss: 72.825 - ETA: 50s - loss: 72.829 - ETA: 50s - loss: 72.832 - ETA: 50s - loss: 72.856 - ETA: 50s - loss: 72.859 - ETA: 49s - loss: 72.847 - ETA: 49s - loss: 72.853 - ETA: 49s - loss: 72.854 - ETA: 49s - loss: 72.869 - ETA: 49s - loss: 72.870 - ETA: 49s - loss: 72.880 - ETA: 48s - loss: 72.870 - ETA: 48s - loss: 72.880 - ETA: 48s - loss: 72.886 - ETA: 48s - loss: 72.875 - ETA: 48s - loss: 72.854 - ETA: 48s - loss: 72.857 - ETA: 48s - loss: 72.865 - ETA: 47s - loss: 72.854 - ETA: 47s - loss: 72.851 - ETA: 47s - loss: 72.851 - ETA: 47s - loss: 72.885 - ETA: 47s - loss: 72.893 - ETA: 47s - loss: 72.916 - ETA: 47s - loss: 72.910 - ETA: 46s - loss: 72.913 - ETA: 46s - loss: 72.909 - ETA: 46s - loss: 72.920 - ETA: 46s - loss: 72.916 - ETA: 45s - loss: 72.905 - ETA: 45s - loss: 72.919 - ETA: 45s - loss: 72.931 - ETA: 45s - loss: 72.940 - ETA: 45s - loss: 72.945 - ETA: 45s - loss: 72.942 - ETA: 45s - loss: 72.934 - ETA: 45s - loss: 72.935 - ETA: 44s - loss: 72.942 - ETA: 44s - loss: 72.940 - ETA: 44s - loss: 72.927 - ETA: 44s - loss: 72.922 - ETA: 44s - loss: 72.905 - ETA: 44s - loss: 72.927 - ETA: 44s - loss: 72.916 - ETA: 44s - loss: 72.934 - ETA: 43s - loss: 72.943 - ETA: 43s - loss: 72.925 - ETA: 43s - loss: 72.933 - ETA: 43s - loss: 72.940 - ETA: 43s - loss: 72.942 - ETA: 42s - loss: 72.948 - ETA: 42s - loss: 72.942 - ETA: 42s - loss: 72.946 - ETA: 42s - loss: 72.950 - ETA: 42s - loss: 72.952 - ETA: 42s - loss: 72.950 - ETA: 42s - loss: 72.947 - ETA: 42s - loss: 72.961 - ETA: 42s - loss: 72.958 - ETA: 42s - loss: 72.952 - ETA: 42s - loss: 72.951 - ETA: 43s - loss: 72.951 - ETA: 43s - loss: 72.946 - ETA: 43s - loss: 72.944 - ETA: 43s - loss: 72.940 - ETA: 43s - loss: 72.942 - ETA: 43s - loss: 72.936 - ETA: 42s - loss: 72.943 - ETA: 42s - loss: 72.950 - ETA: 42s - loss: 72.968 - ETA: 42s - loss: 72.963 - ETA: 42s - loss: 72.968 - ETA: 42s - loss: 72.965 - ETA: 42s - loss: 72.975 - ETA: 42s - loss: 72.987 - ETA: 42s - loss: 72.999 - ETA: 42s - loss: 72.991 - ETA: 42s - loss: 72.985 - ETA: 42s - loss: 72.987 - ETA: 42s - loss: 72.975 - ETA: 42s - loss: 72.979 - ETA: 42s - loss: 72.979 - ETA: 43s - loss: 72.981 - ETA: 43s - loss: 72.972 - ETA: 43s - loss: 72.980 - ETA: 43s - loss: 72.983 - ETA: 43s - loss: 72.986 - ETA: 43s - loss: 72.992 - ETA: 42s - loss: 72.977 - ETA: 42s - loss: 72.968 - ETA: 42s - loss: 72.973 - ETA: 42s - loss: 72.973 - ETA: 42s - loss: 72.971 - ETA: 42s - loss: 72.965 - ETA: 41s - loss: 72.965 - ETA: 41s - loss: 72.955 - ETA: 41s - loss: 72.950 - ETA: 41s - loss: 72.950 - ETA: 41s - loss: 72.966 - ETA: 41s - loss: 72.955 - ETA: 41s - loss: 72.932 - ETA: 41s - loss: 72.935 - ETA: 40s - loss: 72.939 - ETA: 40s - loss: 72.947 - ETA: 40s - loss: 72.935 - ETA: 40s - loss: 72.926 - ETA: 40s - loss: 72.933 - ETA: 40s - loss: 72.934 - ETA: 40s - loss: 72.933 - ETA: 40s - loss: 72.935 - ETA: 40s - loss: 72.938 - ETA: 39s - loss: 72.936 - ETA: 39s - loss: 72.945 - ETA: 39s - loss: 72.942 - ETA: 40s - loss: 72.947 - ETA: 40s - loss: 72.944 - ETA: 40s - loss: 72.941 - ETA: 40s - loss: 72.950 - ETA: 40s - loss: 72.950 - ETA: 40s - loss: 72.945 - ETA: 40s - loss: 72.954 - ETA: 40s - loss: 72.948 - ETA: 40s - loss: 72.954 - ETA: 40s - loss: 72.952 - ETA: 39s - loss: 72.956 - ETA: 39s - loss: 72.950 - ETA: 39s - loss: 72.961 - ETA: 39s - loss: 72.951 - ETA: 39s - loss: 72.959 - ETA: 39s - loss: 72.955 - ETA: 39s - loss: 72.960 - ETA: 38s - loss: 72.956 - ETA: 38s - loss: 72.957 - ETA: 38s - loss: 72.954 - ETA: 38s - loss: 72.949 - ETA: 38s - loss: 72.948 - ETA: 38s - loss: 72.941 - ETA: 38s - loss: 72.945 - ETA: 38s - loss: 72.934 - ETA: 37s - loss: 72.914 - ETA: 37s - loss: 72.916 - ETA: 37s - loss: 72.916 - ETA: 37s - loss: 72.916 - ETA: 37s - loss: 72.919 - ETA: 37s - loss: 72.919 - ETA: 37s - loss: 72.919 - ETA: 37s - loss: 72.907 - ETA: 37s - loss: 72.912 - ETA: 37s - loss: 72.914 - ETA: 36s - loss: 72.921 - ETA: 36s - loss: 72.929 - ETA: 36s - loss: 72.929 - ETA: 36s - loss: 72.927 - ETA: 36s - loss: 72.9296"
     ]
    },
    {
     "name": "stdout",
     "output_type": "stream",
     "text": [
      "136288/199659 [===================>..........] - ETA: 36s - loss: 72.910 - ETA: 36s - loss: 72.917 - ETA: 36s - loss: 72.923 - ETA: 36s - loss: 72.935 - ETA: 36s - loss: 72.928 - ETA: 35s - loss: 72.945 - ETA: 36s - loss: 72.950 - ETA: 35s - loss: 72.953 - ETA: 35s - loss: 72.953 - ETA: 35s - loss: 72.960 - ETA: 35s - loss: 72.960 - ETA: 35s - loss: 72.971 - ETA: 35s - loss: 72.972 - ETA: 35s - loss: 72.973 - ETA: 35s - loss: 72.976 - ETA: 35s - loss: 72.973 - ETA: 35s - loss: 72.973 - ETA: 35s - loss: 72.990 - ETA: 35s - loss: 72.986 - ETA: 35s - loss: 72.979 - ETA: 34s - loss: 72.983 - ETA: 35s - loss: 72.981 - ETA: 34s - loss: 72.995 - ETA: 34s - loss: 72.995 - ETA: 34s - loss: 72.993 - ETA: 34s - loss: 72.994 - ETA: 34s - loss: 72.993 - ETA: 34s - loss: 73.005 - ETA: 34s - loss: 73.007 - ETA: 34s - loss: 72.995 - ETA: 35s - loss: 72.998 - ETA: 35s - loss: 72.999 - ETA: 35s - loss: 73.000 - ETA: 35s - loss: 72.990 - ETA: 35s - loss: 72.989 - ETA: 35s - loss: 72.997 - ETA: 35s - loss: 72.999 - ETA: 35s - loss: 73.002 - ETA: 34s - loss: 73.007 - ETA: 34s - loss: 73.001 - ETA: 34s - loss: 72.993 - ETA: 34s - loss: 72.991 - ETA: 34s - loss: 72.994 - ETA: 34s - loss: 72.996 - ETA: 34s - loss: 72.993 - ETA: 34s - loss: 73.006 - ETA: 34s - loss: 73.005 - ETA: 34s - loss: 73.009 - ETA: 34s - loss: 73.016 - ETA: 34s - loss: 72.996 - ETA: 34s - loss: 72.996 - ETA: 34s - loss: 73.001 - ETA: 34s - loss: 72.997 - ETA: 34s - loss: 72.994 - ETA: 34s - loss: 72.996 - ETA: 34s - loss: 72.995 - ETA: 34s - loss: 72.997 - ETA: 34s - loss: 72.989 - ETA: 34s - loss: 72.988 - ETA: 34s - loss: 72.987 - ETA: 34s - loss: 72.984 - ETA: 34s - loss: 72.982 - ETA: 34s - loss: 72.985 - ETA: 34s - loss: 72.984 - ETA: 34s - loss: 72.988 - ETA: 34s - loss: 72.991 - ETA: 34s - loss: 72.995 - ETA: 34s - loss: 73.002 - ETA: 34s - loss: 73.002 - ETA: 34s - loss: 73.015 - ETA: 34s - loss: 73.010 - ETA: 33s - loss: 73.018 - ETA: 34s - loss: 73.018 - ETA: 33s - loss: 73.007 - ETA: 33s - loss: 73.013 - ETA: 33s - loss: 73.014 - ETA: 33s - loss: 73.018 - ETA: 33s - loss: 73.012 - ETA: 33s - loss: 73.011 - ETA: 34s - loss: 73.012 - ETA: 34s - loss: 73.019 - ETA: 34s - loss: 73.020 - ETA: 34s - loss: 73.026 - ETA: 34s - loss: 73.019 - ETA: 33s - loss: 73.014 - ETA: 33s - loss: 73.011 - ETA: 33s - loss: 73.012 - ETA: 33s - loss: 73.021 - ETA: 33s - loss: 73.018 - ETA: 33s - loss: 73.009 - ETA: 33s - loss: 73.008 - ETA: 33s - loss: 73.009 - ETA: 33s - loss: 73.008 - ETA: 33s - loss: 73.026 - ETA: 33s - loss: 73.022 - ETA: 33s - loss: 73.022 - ETA: 33s - loss: 73.015 - ETA: 33s - loss: 73.018 - ETA: 33s - loss: 73.023 - ETA: 33s - loss: 73.021 - ETA: 33s - loss: 73.024 - ETA: 33s - loss: 73.022 - ETA: 33s - loss: 73.012 - ETA: 33s - loss: 73.011 - ETA: 33s - loss: 73.020 - ETA: 33s - loss: 73.015 - ETA: 33s - loss: 73.015 - ETA: 33s - loss: 73.021 - ETA: 33s - loss: 73.019 - ETA: 33s - loss: 73.016 - ETA: 32s - loss: 73.017 - ETA: 32s - loss: 73.016 - ETA: 32s - loss: 73.012 - ETA: 32s - loss: 73.011 - ETA: 32s - loss: 73.005 - ETA: 32s - loss: 73.004 - ETA: 32s - loss: 73.005 - ETA: 32s - loss: 73.000 - ETA: 32s - loss: 73.004 - ETA: 32s - loss: 73.004 - ETA: 32s - loss: 72.998 - ETA: 32s - loss: 72.992 - ETA: 32s - loss: 72.991 - ETA: 32s - loss: 72.996 - ETA: 32s - loss: 72.987 - ETA: 32s - loss: 72.990 - ETA: 32s - loss: 72.988 - ETA: 31s - loss: 72.982 - ETA: 31s - loss: 72.993 - ETA: 31s - loss: 72.989 - ETA: 31s - loss: 72.989 - ETA: 31s - loss: 72.981 - ETA: 31s - loss: 72.974 - ETA: 31s - loss: 72.984 - ETA: 31s - loss: 72.980 - ETA: 31s - loss: 72.975 - ETA: 31s - loss: 72.962 - ETA: 31s - loss: 72.954 - ETA: 31s - loss: 72.954 - ETA: 31s - loss: 72.953 - ETA: 31s - loss: 72.958 - ETA: 31s - loss: 72.958 - ETA: 31s - loss: 72.956 - ETA: 31s - loss: 72.953 - ETA: 30s - loss: 72.958 - ETA: 30s - loss: 72.961 - ETA: 30s - loss: 72.959 - ETA: 30s - loss: 72.950 - ETA: 30s - loss: 72.949 - ETA: 30s - loss: 72.947 - ETA: 30s - loss: 72.941 - ETA: 30s - loss: 72.939 - ETA: 30s - loss: 72.935 - ETA: 30s - loss: 72.934 - ETA: 30s - loss: 72.940 - ETA: 30s - loss: 72.939 - ETA: 30s - loss: 72.938 - ETA: 30s - loss: 72.939 - ETA: 30s - loss: 72.939 - ETA: 30s - loss: 72.944 - ETA: 30s - loss: 72.937 - ETA: 29s - loss: 72.937 - ETA: 29s - loss: 72.936 - ETA: 29s - loss: 72.931 - ETA: 29s - loss: 72.934 - ETA: 29s - loss: 72.925 - ETA: 29s - loss: 72.924 - ETA: 29s - loss: 72.925 - ETA: 29s - loss: 72.923 - ETA: 29s - loss: 72.914 - ETA: 29s - loss: 72.909 - ETA: 29s - loss: 72.908 - ETA: 29s - loss: 72.916 - ETA: 29s - loss: 72.915 - ETA: 29s - loss: 72.911 - ETA: 29s - loss: 72.919 - ETA: 28s - loss: 72.914 - ETA: 28s - loss: 72.915 - ETA: 28s - loss: 72.916 - ETA: 28s - loss: 72.920 - ETA: 28s - loss: 72.919 - ETA: 28s - loss: 72.922 - ETA: 28s - loss: 72.923 - ETA: 28s - loss: 72.922 - ETA: 28s - loss: 72.939 - ETA: 28s - loss: 72.943 - ETA: 28s - loss: 72.938 - ETA: 28s - loss: 72.935 - ETA: 28s - loss: 72.931 - ETA: 27s - loss: 72.930 - ETA: 27s - loss: 72.929 - ETA: 27s - loss: 72.934 - ETA: 27s - loss: 72.933 - ETA: 27s - loss: 72.936 - ETA: 27s - loss: 72.930 - ETA: 27s - loss: 72.926 - ETA: 27s - loss: 72.924 - ETA: 27s - loss: 72.921 - ETA: 27s - loss: 72.934 - ETA: 27s - loss: 72.936 - ETA: 27s - loss: 72.928 - ETA: 26s - loss: 72.933 - ETA: 26s - loss: 72.935 - ETA: 26s - loss: 72.940 - ETA: 26s - loss: 72.947 - ETA: 26s - loss: 72.938 - ETA: 26s - loss: 72.940 - ETA: 26s - loss: 72.939 - ETA: 26s - loss: 72.943 - ETA: 26s - loss: 72.937 - ETA: 26s - loss: 72.939 - ETA: 26s - loss: 72.937 - ETA: 25s - loss: 72.942 - ETA: 25s - loss: 72.946 - ETA: 25s - loss: 72.947 - ETA: 25s - loss: 72.951 - ETA: 25s - loss: 72.953 - ETA: 25s - loss: 72.944 - ETA: 25s - loss: 72.946 - ETA: 25s - loss: 72.947 - ETA: 25s - loss: 72.948 - ETA: 25s - loss: 72.953 - ETA: 25s - loss: 72.957 - ETA: 25s - loss: 72.961 - ETA: 24s - loss: 72.969 - ETA: 24s - loss: 72.966 - ETA: 24s - loss: 72.965 - ETA: 24s - loss: 72.969 - ETA: 24s - loss: 72.964 - ETA: 24s - loss: 72.967 - ETA: 24s - loss: 72.970 - ETA: 24s - loss: 72.965 - ETA: 24s - loss: 72.961 - ETA: 23s - loss: 72.958 - ETA: 23s - loss: 72.958 - ETA: 23s - loss: 72.953 - ETA: 23s - loss: 72.956 - ETA: 23s - loss: 72.954 - ETA: 23s - loss: 72.949 - ETA: 23s - loss: 72.949 - ETA: 23s - loss: 72.950 - ETA: 23s - loss: 72.953 - ETA: 23s - loss: 72.957 - ETA: 23s - loss: 72.954 - ETA: 23s - loss: 72.956 - ETA: 23s - loss: 72.953 - ETA: 23s - loss: 72.947 - ETA: 22s - loss: 72.951 - ETA: 22s - loss: 72.952 - ETA: 22s - loss: 72.955 - ETA: 22s - loss: 72.954 - ETA: 22s - loss: 72.954 - ETA: 22s - loss: 72.957 - ETA: 22s - loss: 72.962 - ETA: 22s - loss: 72.959 - ETA: 22s - loss: 72.959 - ETA: 22s - loss: 72.960 - ETA: 22s - loss: 72.959 - ETA: 22s - loss: 72.957 - ETA: 22s - loss: 72.961 - ETA: 21s - loss: 72.967 - ETA: 21s - loss: 72.971 - ETA: 21s - loss: 72.970 - ETA: 21s - loss: 72.971 - ETA: 21s - loss: 72.973 - ETA: 21s - loss: 72.973 - ETA: 21s - loss: 72.978 - ETA: 21s - loss: 72.980 - ETA: 21s - loss: 72.972 - ETA: 21s - loss: 72.969 - ETA: 21s - loss: 72.967 - ETA: 21s - loss: 72.967 - ETA: 21s - loss: 72.968 - ETA: 20s - loss: 72.959 - ETA: 20s - loss: 72.955 - ETA: 20s - loss: 72.954 - ETA: 20s - loss: 72.957 - ETA: 20s - loss: 72.964 - ETA: 20s - loss: 72.967 - ETA: 20s - loss: 72.971 - ETA: 20s - loss: 72.973 - ETA: 20s - loss: 72.972 - ETA: 20s - loss: 72.973 - ETA: 20s - loss: 72.975 - ETA: 20s - loss: 72.977 - ETA: 20s - loss: 72.978 - ETA: 20s - loss: 72.982 - ETA: 20s - loss: 72.988 - ETA: 19s - loss: 72.996 - ETA: 19s - loss: 72.995 - ETA: 19s - loss: 72.992 - ETA: 19s - loss: 72.992 - ETA: 19s - loss: 72.994 - ETA: 19s - loss: 72.999 - ETA: 19s - loss: 72.995 - ETA: 19s - loss: 72.992 - ETA: 19s - loss: 72.991 - ETA: 19s - loss: 72.991 - ETA: 19s - loss: 72.991 - ETA: 19s - loss: 72.995 - ETA: 18s - loss: 72.999 - ETA: 18s - loss: 73.000 - ETA: 18s - loss: 72.998 - ETA: 18s - loss: 72.999 - ETA: 18s - loss: 73.001 - ETA: 18s - loss: 72.998 - ETA: 18s - loss: 73.004 - ETA: 18s - loss: 73.000 - ETA: 18s - loss: 73.002 - ETA: 18s - loss: 72.994 - ETA: 18s - loss: 72.995 - ETA: 18s - loss: 72.998 - ETA: 18s - loss: 72.993 - ETA: 18s - loss: 72.9906"
     ]
    },
    {
     "name": "stdout",
     "output_type": "stream",
     "text": [
      "199659/199659 [==============================] - ETA: 17s - loss: 72.990 - ETA: 17s - loss: 72.989 - ETA: 17s - loss: 72.985 - ETA: 17s - loss: 72.984 - ETA: 17s - loss: 72.988 - ETA: 17s - loss: 72.985 - ETA: 17s - loss: 72.984 - ETA: 17s - loss: 72.981 - ETA: 16s - loss: 72.990 - ETA: 16s - loss: 72.980 - ETA: 16s - loss: 72.975 - ETA: 16s - loss: 72.981 - ETA: 16s - loss: 72.982 - ETA: 16s - loss: 72.986 - ETA: 15s - loss: 72.988 - ETA: 15s - loss: 72.983 - ETA: 15s - loss: 72.977 - ETA: 15s - loss: 72.973 - ETA: 15s - loss: 72.973 - ETA: 15s - loss: 72.973 - ETA: 15s - loss: 72.974 - ETA: 15s - loss: 72.966 - ETA: 15s - loss: 72.965 - ETA: 15s - loss: 72.965 - ETA: 15s - loss: 72.966 - ETA: 15s - loss: 72.962 - ETA: 15s - loss: 72.963 - ETA: 15s - loss: 72.961 - ETA: 14s - loss: 72.959 - ETA: 14s - loss: 72.949 - ETA: 14s - loss: 72.952 - ETA: 14s - loss: 72.949 - ETA: 14s - loss: 72.943 - ETA: 14s - loss: 72.942 - ETA: 14s - loss: 72.940 - ETA: 14s - loss: 72.938 - ETA: 14s - loss: 72.935 - ETA: 14s - loss: 72.930 - ETA: 14s - loss: 72.926 - ETA: 14s - loss: 72.925 - ETA: 13s - loss: 72.925 - ETA: 13s - loss: 72.926 - ETA: 13s - loss: 72.927 - ETA: 13s - loss: 72.924 - ETA: 13s - loss: 72.925 - ETA: 13s - loss: 72.924 - ETA: 13s - loss: 72.924 - ETA: 13s - loss: 72.926 - ETA: 13s - loss: 72.922 - ETA: 13s - loss: 72.924 - ETA: 13s - loss: 72.925 - ETA: 13s - loss: 72.925 - ETA: 13s - loss: 72.915 - ETA: 13s - loss: 72.915 - ETA: 12s - loss: 72.923 - ETA: 12s - loss: 72.917 - ETA: 12s - loss: 72.920 - ETA: 12s - loss: 72.922 - ETA: 12s - loss: 72.918 - ETA: 12s - loss: 72.919 - ETA: 12s - loss: 72.923 - ETA: 12s - loss: 72.920 - ETA: 12s - loss: 72.919 - ETA: 12s - loss: 72.913 - ETA: 12s - loss: 72.913 - ETA: 12s - loss: 72.911 - ETA: 12s - loss: 72.907 - ETA: 12s - loss: 72.902 - ETA: 11s - loss: 72.901 - ETA: 11s - loss: 72.906 - ETA: 11s - loss: 72.906 - ETA: 11s - loss: 72.907 - ETA: 11s - loss: 72.903 - ETA: 11s - loss: 72.900 - ETA: 11s - loss: 72.904 - ETA: 11s - loss: 72.904 - ETA: 11s - loss: 72.908 - ETA: 11s - loss: 72.913 - ETA: 11s - loss: 72.911 - ETA: 11s - loss: 72.907 - ETA: 11s - loss: 72.903 - ETA: 10s - loss: 72.897 - ETA: 10s - loss: 72.893 - ETA: 10s - loss: 72.893 - ETA: 10s - loss: 72.903 - ETA: 10s - loss: 72.907 - ETA: 10s - loss: 72.906 - ETA: 10s - loss: 72.905 - ETA: 10s - loss: 72.906 - ETA: 10s - loss: 72.904 - ETA: 10s - loss: 72.902 - ETA: 10s - loss: 72.900 - ETA: 10s - loss: 72.902 - ETA: 10s - loss: 72.904 - ETA: 9s - loss: 72.900 - ETA: 9s - loss: 72.89 - ETA: 9s - loss: 72.90 - ETA: 9s - loss: 72.90 - ETA: 9s - loss: 72.90 - ETA: 9s - loss: 72.90 - ETA: 9s - loss: 72.89 - ETA: 9s - loss: 72.89 - ETA: 9s - loss: 72.89 - ETA: 9s - loss: 72.90 - ETA: 9s - loss: 72.89 - ETA: 9s - loss: 72.89 - ETA: 9s - loss: 72.89 - ETA: 9s - loss: 72.90 - ETA: 9s - loss: 72.89 - ETA: 9s - loss: 72.89 - ETA: 9s - loss: 72.89 - ETA: 8s - loss: 72.89 - ETA: 8s - loss: 72.89 - ETA: 8s - loss: 72.88 - ETA: 8s - loss: 72.88 - ETA: 8s - loss: 72.88 - ETA: 8s - loss: 72.88 - ETA: 8s - loss: 72.88 - ETA: 8s - loss: 72.88 - ETA: 8s - loss: 72.88 - ETA: 8s - loss: 72.88 - ETA: 8s - loss: 72.88 - ETA: 8s - loss: 72.88 - ETA: 7s - loss: 72.87 - ETA: 7s - loss: 72.87 - ETA: 7s - loss: 72.87 - ETA: 7s - loss: 72.87 - ETA: 7s - loss: 72.86 - ETA: 7s - loss: 72.86 - ETA: 7s - loss: 72.86 - ETA: 7s - loss: 72.86 - ETA: 7s - loss: 72.86 - ETA: 7s - loss: 72.86 - ETA: 7s - loss: 72.86 - ETA: 7s - loss: 72.87 - ETA: 7s - loss: 72.87 - ETA: 7s - loss: 72.87 - ETA: 7s - loss: 72.87 - ETA: 7s - loss: 72.87 - ETA: 7s - loss: 72.87 - ETA: 6s - loss: 72.87 - ETA: 6s - loss: 72.87 - ETA: 6s - loss: 72.86 - ETA: 6s - loss: 72.86 - ETA: 6s - loss: 72.86 - ETA: 6s - loss: 72.86 - ETA: 6s - loss: 72.86 - ETA: 6s - loss: 72.85 - ETA: 6s - loss: 72.85 - ETA: 6s - loss: 72.85 - ETA: 6s - loss: 72.85 - ETA: 6s - loss: 72.85 - ETA: 6s - loss: 72.85 - ETA: 6s - loss: 72.85 - ETA: 6s - loss: 72.85 - ETA: 6s - loss: 72.85 - ETA: 5s - loss: 72.84 - ETA: 5s - loss: 72.84 - ETA: 5s - loss: 72.84 - ETA: 5s - loss: 72.84 - ETA: 5s - loss: 72.83 - ETA: 5s - loss: 72.83 - ETA: 5s - loss: 72.83 - ETA: 5s - loss: 72.83 - ETA: 5s - loss: 72.83 - ETA: 5s - loss: 72.83 - ETA: 5s - loss: 72.83 - ETA: 5s - loss: 72.83 - ETA: 5s - loss: 72.83 - ETA: 5s - loss: 72.83 - ETA: 5s - loss: 72.83 - ETA: 4s - loss: 72.83 - ETA: 4s - loss: 72.83 - ETA: 4s - loss: 72.83 - ETA: 4s - loss: 72.83 - ETA: 4s - loss: 72.83 - ETA: 4s - loss: 72.84 - ETA: 4s - loss: 72.83 - ETA: 4s - loss: 72.83 - ETA: 4s - loss: 72.83 - ETA: 4s - loss: 72.83 - ETA: 4s - loss: 72.83 - ETA: 4s - loss: 72.82 - ETA: 4s - loss: 72.82 - ETA: 4s - loss: 72.82 - ETA: 4s - loss: 72.82 - ETA: 3s - loss: 72.82 - ETA: 3s - loss: 72.83 - ETA: 3s - loss: 72.83 - ETA: 3s - loss: 72.82 - ETA: 3s - loss: 72.83 - ETA: 3s - loss: 72.83 - ETA: 3s - loss: 72.83 - ETA: 3s - loss: 72.83 - ETA: 3s - loss: 72.83 - ETA: 3s - loss: 72.83 - ETA: 3s - loss: 72.83 - ETA: 3s - loss: 72.82 - ETA: 3s - loss: 72.82 - ETA: 3s - loss: 72.82 - ETA: 3s - loss: 72.82 - ETA: 2s - loss: 72.83 - ETA: 2s - loss: 72.83 - ETA: 2s - loss: 72.82 - ETA: 2s - loss: 72.82 - ETA: 2s - loss: 72.82 - ETA: 2s - loss: 72.82 - ETA: 2s - loss: 72.82 - ETA: 2s - loss: 72.82 - ETA: 2s - loss: 72.82 - ETA: 2s - loss: 72.83 - ETA: 2s - loss: 72.82 - ETA: 2s - loss: 72.82 - ETA: 2s - loss: 72.82 - ETA: 2s - loss: 72.82 - ETA: 2s - loss: 72.82 - ETA: 2s - loss: 72.82 - ETA: 2s - loss: 72.82 - ETA: 2s - loss: 72.82 - ETA: 2s - loss: 72.81 - ETA: 2s - loss: 72.81 - ETA: 1s - loss: 72.81 - ETA: 1s - loss: 72.82 - ETA: 1s - loss: 72.82 - ETA: 1s - loss: 72.82 - ETA: 1s - loss: 72.82 - ETA: 1s - loss: 72.82 - ETA: 1s - loss: 72.82 - ETA: 1s - loss: 72.81 - ETA: 1s - loss: 72.81 - ETA: 1s - loss: 72.81 - ETA: 1s - loss: 72.81 - ETA: 1s - loss: 72.81 - ETA: 1s - loss: 72.81 - ETA: 1s - loss: 72.81 - ETA: 1s - loss: 72.81 - ETA: 1s - loss: 72.82 - ETA: 1s - loss: 72.82 - ETA: 1s - loss: 72.82 - ETA: 1s - loss: 72.82 - ETA: 1s - loss: 72.82 - ETA: 1s - loss: 72.82 - ETA: 1s - loss: 72.82 - ETA: 1s - loss: 72.82 - ETA: 1s - loss: 72.82 - ETA: 0s - loss: 72.82 - ETA: 0s - loss: 72.82 - ETA: 0s - loss: 72.82 - ETA: 0s - loss: 72.82 - ETA: 0s - loss: 72.82 - ETA: 0s - loss: 72.82 - ETA: 0s - loss: 72.83 - ETA: 0s - loss: 72.83 - ETA: 0s - loss: 72.83 - ETA: 0s - loss: 72.83 - ETA: 0s - loss: 72.83 - ETA: 0s - loss: 72.83 - ETA: 0s - loss: 72.83 - ETA: 0s - loss: 72.83 - ETA: 0s - loss: 72.83 - ETA: 0s - loss: 72.84 - ETA: 0s - loss: 72.84 - ETA: 0s - loss: 72.84 - ETA: 0s - loss: 72.84 - ETA: 0s - loss: 72.84 - ETA: 0s - loss: 72.84 - ETA: 0s - loss: 72.84 - ETA: 0s - loss: 72.85 - ETA: 0s - loss: 72.84 - 55s 276us/step - loss: 72.8483\n"
     ]
    },
    {
     "data": {
      "text/plain": [
       "<keras.callbacks.History at 0x20606020e48>"
      ]
     },
     "execution_count": 291,
     "metadata": {},
     "output_type": "execute_result"
    }
   ],
   "source": [
    "n_epoch = 2\n",
    "\n",
    "vae.compile(optimizer='adam', loss=vae_loss)\n",
    "vae.fit(X_autoencoder, X_autoencoder, batch_size=m, nb_epoch=n_epoch,verbose=1)"
   ]
  },
  {
   "cell_type": "markdown",
   "metadata": {},
   "source": [
    "## Check on val set"
   ]
  },
  {
   "cell_type": "code",
   "execution_count": 292,
   "metadata": {},
   "outputs": [
    {
     "data": {
      "text/html": [
       "<div>\n",
       "<style scoped>\n",
       "    .dataframe tbody tr th:only-of-type {\n",
       "        vertical-align: middle;\n",
       "    }\n",
       "\n",
       "    .dataframe tbody tr th {\n",
       "        vertical-align: top;\n",
       "    }\n",
       "\n",
       "    .dataframe thead th {\n",
       "        text-align: right;\n",
       "    }\n",
       "</style>\n",
       "<table border=\"1\" class=\"dataframe\">\n",
       "  <thead>\n",
       "    <tr style=\"text-align: right;\">\n",
       "      <th></th>\n",
       "      <th>reconstruction_error</th>\n",
       "      <th>true_class</th>\n",
       "    </tr>\n",
       "  </thead>\n",
       "  <tbody>\n",
       "    <tr>\n",
       "      <th>count</th>\n",
       "      <td>50000.000000</td>\n",
       "      <td>50000.000000</td>\n",
       "    </tr>\n",
       "    <tr>\n",
       "      <th>mean</th>\n",
       "      <td>0.999342</td>\n",
       "      <td>0.001820</td>\n",
       "    </tr>\n",
       "    <tr>\n",
       "      <th>std</th>\n",
       "      <td>2.247743</td>\n",
       "      <td>0.042623</td>\n",
       "    </tr>\n",
       "    <tr>\n",
       "      <th>min</th>\n",
       "      <td>0.406005</td>\n",
       "      <td>0.000000</td>\n",
       "    </tr>\n",
       "    <tr>\n",
       "      <th>25%</th>\n",
       "      <td>0.566215</td>\n",
       "      <td>0.000000</td>\n",
       "    </tr>\n",
       "    <tr>\n",
       "      <th>50%</th>\n",
       "      <td>0.692728</td>\n",
       "      <td>0.000000</td>\n",
       "    </tr>\n",
       "    <tr>\n",
       "      <th>75%</th>\n",
       "      <td>0.923943</td>\n",
       "      <td>0.000000</td>\n",
       "    </tr>\n",
       "    <tr>\n",
       "      <th>max</th>\n",
       "      <td>156.720235</td>\n",
       "      <td>1.000000</td>\n",
       "    </tr>\n",
       "  </tbody>\n",
       "</table>\n",
       "</div>"
      ],
      "text/plain": [
       "       reconstruction_error    true_class\n",
       "count          50000.000000  50000.000000\n",
       "mean               0.999342      0.001820\n",
       "std                2.247743      0.042623\n",
       "min                0.406005      0.000000\n",
       "25%                0.566215      0.000000\n",
       "50%                0.692728      0.000000\n",
       "75%                0.923943      0.000000\n",
       "max              156.720235      1.000000"
      ]
     },
     "execution_count": 292,
     "metadata": {},
     "output_type": "execute_result"
    }
   ],
   "source": [
    "predictions_m5 = vae.predict(X_val)\n",
    "\n",
    "mse_m5 = np.mean(np.power(X_val - predictions_m5, 2), axis=1)\n",
    "\n",
    "error_df_m5 = pd.DataFrame({'reconstruction_error': mse_m5,\n",
    "                        'true_class': y_val})\n",
    "error_df_m5.describe()"
   ]
  },
  {
   "cell_type": "code",
   "execution_count": 298,
   "metadata": {},
   "outputs": [
    {
     "data": {
      "image/png": "[encoded data removed]",
      "text/plain": [
       "<matplotlib.figure.Figure at 0x20600955a58>"
      ]
     },
     "metadata": {},
     "output_type": "display_data"
    }
   ],
   "source": [
    "threshold_m5 = 2.5\n",
    "\n",
    "groups = error_df_m5.groupby('true_class')\n",
    "fig, ax = plt.subplots()\n",
    "\n",
    "for name, group in groups:\n",
    "    ax.plot(group.index, group.reconstruction_error, marker='o', ms=3.5, linestyle='',\n",
    "            label= \"Fraud\" if name == 1 else \"Normal\")\n",
    "ax.hlines(threshold_m5, ax.get_xlim()[0], ax.get_xlim()[1], colors=\"r\", zorder=100, label='Threshold')\n",
    "ax.legend()\n",
    "plt.title(\"Reconstruction error for different classes\")\n",
    "plt.ylabel(\"Reconstruction error\")\n",
    "plt.xlabel(\"Data point index\")\n",
    "plt.show();"
   ]
  },
  {
   "cell_type": "code",
   "execution_count": 299,
   "metadata": {},
   "outputs": [
    {
     "data": {
      "text/plain": [
       "<matplotlib.figure.Figure at 0x20600ac5128>"
      ]
     },
     "execution_count": 299,
     "metadata": {},
     "output_type": "execute_result"
    },
    {
     "data": {
      "text/plain": [
       "<matplotlib.axes._subplots.AxesSubplot at 0x20600be0208>"
      ]
     },
     "execution_count": 299,
     "metadata": {},
     "output_type": "execute_result"
    },
    {
     "data": {
      "text/plain": [
       "Text(0.5,1,'Confusion matrix')"
      ]
     },
     "execution_count": 299,
     "metadata": {},
     "output_type": "execute_result"
    },
    {
     "data": {
      "text/plain": [
       "Text(87,0.5,'True class')"
      ]
     },
     "execution_count": 299,
     "metadata": {},
     "output_type": "execute_result"
    },
    {
     "data": {
      "text/plain": [
       "Text(0.5,87,'Predicted class')"
      ]
     },
     "execution_count": 299,
     "metadata": {},
     "output_type": "execute_result"
    },
    {
     "data": {
      "image/png": "[encoded data removed]",
      "text/plain": [
       "<matplotlib.figure.Figure at 0x20600ac5128>"
      ]
     },
     "metadata": {},
     "output_type": "display_data"
    },
    {
     "data": {
      "text/plain": [
       "0.08602150537634407"
      ]
     },
     "execution_count": 299,
     "metadata": {},
     "output_type": "execute_result"
    }
   ],
   "source": [
    "y_pred_m5 = [1 if e > threshold_m5 else 0 for e in error_df_m5.reconstruction_error.values]\n",
    "conf_matrix_m5 = confusion_matrix(error_df_m5.true_class, y_pred_m5)\n",
    "plt.figure(figsize=(12, 12))\n",
    "sns.heatmap(conf_matrix_m5, annot=True, fmt=\"d\");\n",
    "plt.title(\"Confusion matrix\")\n",
    "plt.ylabel('True class')\n",
    "plt.xlabel('Predicted class')\n",
    "plt.show()\n",
    "\n",
    "f1_score(error_df_m5.true_class, y_pred_m5)"
   ]
  },
  {
   "cell_type": "markdown",
   "metadata": {},
   "source": [
    "## Check on test set"
   ]
  },
  {
   "cell_type": "code",
   "execution_count": 294,
   "metadata": {},
   "outputs": [
    {
     "data": {
      "text/html": [
       "<div>\n",
       "<style scoped>\n",
       "    .dataframe tbody tr th:only-of-type {\n",
       "        vertical-align: middle;\n",
       "    }\n",
       "\n",
       "    .dataframe tbody tr th {\n",
       "        vertical-align: top;\n",
       "    }\n",
       "\n",
       "    .dataframe thead th {\n",
       "        text-align: right;\n",
       "    }\n",
       "</style>\n",
       "<table border=\"1\" class=\"dataframe\">\n",
       "  <thead>\n",
       "    <tr style=\"text-align: right;\">\n",
       "      <th></th>\n",
       "      <th>reconstruction_error</th>\n",
       "      <th>true_class</th>\n",
       "    </tr>\n",
       "  </thead>\n",
       "  <tbody>\n",
       "    <tr>\n",
       "      <th>count</th>\n",
       "      <td>34807.000000</td>\n",
       "      <td>34807.000000</td>\n",
       "    </tr>\n",
       "    <tr>\n",
       "      <th>mean</th>\n",
       "      <td>0.986055</td>\n",
       "      <td>0.001724</td>\n",
       "    </tr>\n",
       "    <tr>\n",
       "      <th>std</th>\n",
       "      <td>1.818297</td>\n",
       "      <td>0.041483</td>\n",
       "    </tr>\n",
       "    <tr>\n",
       "      <th>min</th>\n",
       "      <td>0.391495</td>\n",
       "      <td>0.000000</td>\n",
       "    </tr>\n",
       "    <tr>\n",
       "      <th>25%</th>\n",
       "      <td>0.565695</td>\n",
       "      <td>0.000000</td>\n",
       "    </tr>\n",
       "    <tr>\n",
       "      <th>50%</th>\n",
       "      <td>0.692888</td>\n",
       "      <td>0.000000</td>\n",
       "    </tr>\n",
       "    <tr>\n",
       "      <th>75%</th>\n",
       "      <td>0.923472</td>\n",
       "      <td>0.000000</td>\n",
       "    </tr>\n",
       "    <tr>\n",
       "      <th>max</th>\n",
       "      <td>150.859258</td>\n",
       "      <td>1.000000</td>\n",
       "    </tr>\n",
       "  </tbody>\n",
       "</table>\n",
       "</div>"
      ],
      "text/plain": [
       "       reconstruction_error    true_class\n",
       "count          34807.000000  34807.000000\n",
       "mean               0.986055      0.001724\n",
       "std                1.818297      0.041483\n",
       "min                0.391495      0.000000\n",
       "25%                0.565695      0.000000\n",
       "50%                0.692888      0.000000\n",
       "75%                0.923472      0.000000\n",
       "max              150.859258      1.000000"
      ]
     },
     "execution_count": 294,
     "metadata": {},
     "output_type": "execute_result"
    }
   ],
   "source": [
    "predictions_m5_t = vae.predict(X_test)\n",
    "\n",
    "mse_m5_t = np.mean(np.power(X_test - predictions_m5_t, 2), axis=1)\n",
    "\n",
    "error_df_m5_t = pd.DataFrame({'reconstruction_error': mse_m5_t,\n",
    "                        'true_class': y_test})\n",
    "error_df_m5_t.describe()"
   ]
  },
  {
   "cell_type": "code",
   "execution_count": 300,
   "metadata": {},
   "outputs": [
    {
     "data": {
      "image/png": "[encoded data removed]",
      "text/plain": [
       "<matplotlib.figure.Figure at 0x20600c15c50>"
      ]
     },
     "metadata": {},
     "output_type": "display_data"
    }
   ],
   "source": [
    "threshold_m5_t = 2.5\n",
    "\n",
    "groups = error_df_m5_t.groupby('true_class')\n",
    "fig, ax = plt.subplots()\n",
    "\n",
    "for name, group in groups:\n",
    "    ax.plot(group.index, group.reconstruction_error, marker='o', ms=3.5, linestyle='',\n",
    "            label= \"Fraud\" if name == 1 else \"Normal\")\n",
    "ax.hlines(threshold_m5_t, ax.get_xlim()[0], ax.get_xlim()[1], colors=\"r\", zorder=100, label='Threshold')\n",
    "ax.legend()\n",
    "plt.title(\"Reconstruction error for different classes\")\n",
    "plt.ylabel(\"Reconstruction error\")\n",
    "plt.xlabel(\"Data point index\")\n",
    "plt.show();"
   ]
  },
  {
   "cell_type": "code",
   "execution_count": 301,
   "metadata": {},
   "outputs": [
    {
     "data": {
      "text/plain": [
       "<matplotlib.figure.Figure at 0x2060641ada0>"
      ]
     },
     "execution_count": 301,
     "metadata": {},
     "output_type": "execute_result"
    },
    {
     "data": {
      "text/plain": [
       "<matplotlib.axes._subplots.AxesSubplot at 0x20604bbf9e8>"
      ]
     },
     "execution_count": 301,
     "metadata": {},
     "output_type": "execute_result"
    },
    {
     "data": {
      "text/plain": [
       "Text(0.5,1,'Confusion matrix')"
      ]
     },
     "execution_count": 301,
     "metadata": {},
     "output_type": "execute_result"
    },
    {
     "data": {
      "text/plain": [
       "Text(87,0.5,'True class')"
      ]
     },
     "execution_count": 301,
     "metadata": {},
     "output_type": "execute_result"
    },
    {
     "data": {
      "text/plain": [
       "Text(0.5,87,'Predicted class')"
      ]
     },
     "execution_count": 301,
     "metadata": {},
     "output_type": "execute_result"
    },
    {
     "data": {
      "image/png": "[encoded data removed]",
      "text/plain": [
       "<matplotlib.figure.Figure at 0x2060641ada0>"
      ]
     },
     "metadata": {},
     "output_type": "display_data"
    },
    {
     "data": {
      "text/plain": [
       "0.07389937106918239"
      ]
     },
     "execution_count": 301,
     "metadata": {},
     "output_type": "execute_result"
    }
   ],
   "source": [
    "y_pred_m5_t = [1 if e > threshold_m5_t else 0 for e in error_df_m5_t.reconstruction_error.values]\n",
    "conf_matrix_m5_t = confusion_matrix(error_df_m5_t.true_class, y_pred_m5_t)\n",
    "plt.figure(figsize=(12, 12))\n",
    "sns.heatmap(conf_matrix_m5_t, annot=True, fmt=\"d\");\n",
    "plt.title(\"Confusion matrix\")\n",
    "plt.ylabel('True class')\n",
    "plt.xlabel('Predicted class')\n",
    "plt.show()\n",
    "\n",
    "f1_score(error_df_m5_t.true_class, y_pred_m5_t)"
   ]
  },
  {
   "cell_type": "markdown",
   "metadata": {},
   "source": [
    "Saving autoencoder results on test set:"
   ]
  },
  {
   "cell_type": "code",
   "execution_count": 306,
   "metadata": {},
   "outputs": [],
   "source": [
    "error_df_t.to_csv('errors_auto_1_layer.csv')"
   ]
  },
  {
   "cell_type": "code",
   "execution_count": 307,
   "metadata": {},
   "outputs": [],
   "source": [
    "error_df_m2_t.to_csv('errors_auto_2_layer.csv')"
   ]
  },
  {
   "cell_type": "code",
   "execution_count": 311,
   "metadata": {},
   "outputs": [],
   "source": [
    "error_df_t_h2o.to_csv('errors_auto_h2o.csv')"
   ]
  },
  {
   "cell_type": "code",
   "execution_count": 309,
   "metadata": {},
   "outputs": [],
   "source": [
    "error_df_m4_t.to_csv('errors_auto_tied_weights.csv')"
   ]
  },
  {
   "cell_type": "code",
   "execution_count": 310,
   "metadata": {},
   "outputs": [],
   "source": [
    "error_df_m5_t.to_csv('errors_auto_variational.csv')"
   ]
  },
  {
   "cell_type": "markdown",
   "metadata": {},
   "source": [
    "# LightGBM"
   ]
  },
  {
   "cell_type": "code",
   "execution_count": 66,
   "metadata": {},
   "outputs": [],
   "source": [
    "import lightgbm as lgb"
   ]
  },
  {
   "cell_type": "code",
   "execution_count": 67,
   "metadata": {},
   "outputs": [],
   "source": [
    "parameters = {\n",
    "    'boosting_type': 'gbdt',\n",
    "    'objective': 'binary',\n",
    "    'metric': 'auc',\n",
    "    'learning_rate': 0.08,\n",
    "    'is_unbalance': 'true', # replaced with scale_pos_weight argument\n",
    "    'num_leaves': 7,  # 2^max_depth - 1\n",
    "    'max_depth': 4,  # -1 means no limit\n",
    "    'min_child_samples': 100,  # Minimum number of data need in a child(min_data_in_leaf)\n",
    "    'max_bin': 100,  # Number of bucketed bin for feature values\n",
    "    'subsample': 0.7,  # Subsample ratio of the training instance.\n",
    "    'subsample_freq': 1,  # frequence of subsample, <=0 means no enable\n",
    "    'colsample_bytree': 0.7,  # Subsample ratio of columns when constructing each tree.\n",
    "    'min_child_weight': 0, # Minimum sum of instance weight(hessian) needed in a child(leaf)\n",
    "    'min_split_gain': 0,\n",
    "    #'scale_pos_weight': 200 # because training data is extremely unbalanced \n",
    "    }\n",
    "\n",
    "#categorical = []"
   ]
  },
  {
   "cell_type": "code",
   "execution_count": 68,
   "metadata": {},
   "outputs": [],
   "source": [
    "XG_train = lgb.Dataset(X_train_a, label=y_train_a.values,\n",
    "                          feature_name=X.columns.tolist()\n",
    "                          #categorical_feature=categorical\n",
    "                          )\n",
    "XG_valid = lgb.Dataset(X_val, label=y_val.values,\n",
    "                          feature_name=X.columns.tolist()\n",
    "                          #categorical_feature=categorical\n",
    "                          )"
   ]
  },
  {
   "cell_type": "code",
   "execution_count": 69,
   "metadata": {
    "scrolled": false
   },
   "outputs": [
    {
     "name": "stdout",
     "output_type": "stream",
     "text": [
      "Training until validation scores don't improve for 50 rounds.\n",
      "[10]\ttrain's auc: 0.987492\tvalid's auc: 0.967451\n",
      "[20]\ttrain's auc: 0.994225\tvalid's auc: 0.97358\n",
      "[30]\ttrain's auc: 0.996038\tvalid's auc: 0.978214\n",
      "[40]\ttrain's auc: 0.99736\tvalid's auc: 0.984484\n",
      "[50]\ttrain's auc: 0.998331\tvalid's auc: 0.984201\n",
      "[60]\ttrain's auc: 0.998784\tvalid's auc: 0.985308\n",
      "[70]\ttrain's auc: 0.999161\tvalid's auc: 0.98607\n",
      "[80]\ttrain's auc: 0.999354\tvalid's auc: 0.984937\n",
      "[90]\ttrain's auc: 0.999522\tvalid's auc: 0.985858\n",
      "[100]\ttrain's auc: 0.999618\tvalid's auc: 0.983794\n",
      "[110]\ttrain's auc: 0.999666\tvalid's auc: 0.98335\n",
      "[120]\ttrain's auc: 0.999694\tvalid's auc: 0.983974\n",
      "Early stopping, best iteration is:\n",
      "[71]\ttrain's auc: 0.999181\tvalid's auc: 0.98667\n"
     ]
    }
   ],
   "source": [
    "lgb_model = lgb.train(parameters, \n",
    "                     XG_train, \n",
    "                     valid_sets=[XG_train,XG_valid], \n",
    "                     valid_names=['train','valid'], \n",
    "                     num_boost_round=3000,\n",
    "                     early_stopping_rounds=50,\n",
    "                     verbose_eval=10)"
   ]
  },
  {
   "cell_type": "markdown",
   "metadata": {},
   "source": [
    "## Check on val set"
   ]
  },
  {
   "cell_type": "code",
   "execution_count": 84,
   "metadata": {},
   "outputs": [],
   "source": [
    "y_prob_lgb_v=lgb_model.predict(X_val)"
   ]
  },
  {
   "cell_type": "code",
   "execution_count": 91,
   "metadata": {},
   "outputs": [],
   "source": [
    "pred_threshold_v=0.5\n",
    "y_pred_lgb_v = (y_prob_lgb_v>=pred_threshold_v)*1"
   ]
  },
  {
   "cell_type": "code",
   "execution_count": 92,
   "metadata": {},
   "outputs": [
    {
     "data": {
      "text/plain": [
       "<matplotlib.figure.Figure at 0x205c1420ac8>"
      ]
     },
     "execution_count": 92,
     "metadata": {},
     "output_type": "execute_result"
    },
    {
     "data": {
      "text/plain": [
       "<matplotlib.axes._subplots.AxesSubplot at 0x205c13f4cf8>"
      ]
     },
     "execution_count": 92,
     "metadata": {},
     "output_type": "execute_result"
    },
    {
     "data": {
      "text/plain": [
       "Text(0.5,1,'Confusion matrix')"
      ]
     },
     "execution_count": 92,
     "metadata": {},
     "output_type": "execute_result"
    },
    {
     "data": {
      "text/plain": [
       "Text(87,0.5,'True class')"
      ]
     },
     "execution_count": 92,
     "metadata": {},
     "output_type": "execute_result"
    },
    {
     "data": {
      "text/plain": [
       "Text(0.5,87,'Predicted class')"
      ]
     },
     "execution_count": 92,
     "metadata": {},
     "output_type": "execute_result"
    },
    {
     "data": {
      "image/png": "[encoded data removed]",
      "text/plain": [
       "<matplotlib.figure.Figure at 0x205c1420ac8>"
      ]
     },
     "metadata": {},
     "output_type": "display_data"
    },
    {
     "data": {
      "text/plain": [
       "0.21494102228047182"
      ]
     },
     "execution_count": 92,
     "metadata": {},
     "output_type": "execute_result"
    }
   ],
   "source": [
    "conf_matrix_lgb_v = confusion_matrix(y_val, y_pred_lgb_v)\n",
    "plt.figure(figsize=(12, 12))\n",
    "sns.heatmap(conf_matrix_lgb_v, annot=True, fmt=\"d\");\n",
    "plt.title(\"Confusion matrix\")\n",
    "plt.ylabel('True class')\n",
    "plt.xlabel('Predicted class')\n",
    "plt.show()\n",
    "\n",
    "f1_score(y_val, y_pred_lgb_v)"
   ]
  },
  {
   "cell_type": "code",
   "execution_count": 87,
   "metadata": {},
   "outputs": [],
   "source": [
    "f1=[]\n",
    "f1probs=[]\n",
    "\n",
    "for i in np.arange(0,1,0.01):\n",
    "    \n",
    "    y_pred_t=(y_prob_lgb_v>=i)*1\n",
    "    f1probs.append(i)\n",
    "    f1.append(f1_score(y_val, y_pred_t))\n",
    "    \n",
    "f1_probs=pd.DataFrame({'f1': np.array(f1),\n",
    "                        'probs': np.array(f1probs)})"
   ]
  },
  {
   "cell_type": "code",
   "execution_count": 88,
   "metadata": {},
   "outputs": [
    {
     "name": "stdout",
     "output_type": "stream",
     "text": [
      "Threshold for max. F1 score: 0.97\n"
     ]
    },
    {
     "data": {
      "image/png": "[encoded data removed]",
      "text/plain": [
       "<matplotlib.figure.Figure at 0x205c13343c8>"
      ]
     },
     "metadata": {},
     "output_type": "display_data"
    }
   ],
   "source": [
    "print('Threshold for max. F1 score: ' +str(f1_probs[f1_probs.f1==f1_probs.f1.max()].probs.values[0]))\n",
    "\n",
    "plt.figure();\n",
    "plt.plot(f1_probs.probs, f1_probs.f1);\n",
    "plt.xlabel('Threshold');\n",
    "plt.ylabel('F1 score');\n",
    "plt.title('F1 - Threshold');\n",
    "plt.show();"
   ]
  },
  {
   "cell_type": "markdown",
   "metadata": {},
   "source": [
    "## Check on the test set"
   ]
  },
  {
   "cell_type": "code",
   "execution_count": 70,
   "metadata": {},
   "outputs": [],
   "source": [
    "y_prob_lgb=lgb_model.predict(X_test)"
   ]
  },
  {
   "cell_type": "code",
   "execution_count": 71,
   "metadata": {},
   "outputs": [
    {
     "data": {
      "text/plain": [
       "array([0.01407751, 0.00990288, 0.02794184, ..., 0.01345464, 0.02592773,\n",
       "       0.00491188])"
      ]
     },
     "execution_count": 71,
     "metadata": {},
     "output_type": "execute_result"
    }
   ],
   "source": [
    "y_prob_lgb"
   ]
  },
  {
   "cell_type": "code",
   "execution_count": 119,
   "metadata": {},
   "outputs": [],
   "source": [
    "pred_threshold=0.5\n",
    "y_pred_lgb = (y_prob_lgb>=pred_threshold)*1"
   ]
  },
  {
   "cell_type": "code",
   "execution_count": 120,
   "metadata": {},
   "outputs": [
    {
     "data": {
      "text/plain": [
       "<matplotlib.figure.Figure at 0x205e00ed5c0>"
      ]
     },
     "execution_count": 120,
     "metadata": {},
     "output_type": "execute_result"
    },
    {
     "data": {
      "text/plain": [
       "<matplotlib.axes._subplots.AxesSubplot at 0x205c13c5a20>"
      ]
     },
     "execution_count": 120,
     "metadata": {},
     "output_type": "execute_result"
    },
    {
     "data": {
      "text/plain": [
       "Text(0.5,1,'Confusion matrix')"
      ]
     },
     "execution_count": 120,
     "metadata": {},
     "output_type": "execute_result"
    },
    {
     "data": {
      "text/plain": [
       "Text(87,0.5,'True class')"
      ]
     },
     "execution_count": 120,
     "metadata": {},
     "output_type": "execute_result"
    },
    {
     "data": {
      "text/plain": [
       "Text(0.5,87,'Predicted class')"
      ]
     },
     "execution_count": 120,
     "metadata": {},
     "output_type": "execute_result"
    },
    {
     "data": {
      "image/png": "[encoded data removed]",
      "text/plain": [
       "<matplotlib.figure.Figure at 0x205e00ed5c0>"
      ]
     },
     "metadata": {},
     "output_type": "display_data"
    },
    {
     "data": {
      "text/plain": [
       "0.1923076923076923"
      ]
     },
     "execution_count": 120,
     "metadata": {},
     "output_type": "execute_result"
    },
    {
     "data": {
      "text/plain": [
       "0.9723369403593596"
      ]
     },
     "execution_count": 120,
     "metadata": {},
     "output_type": "execute_result"
    }
   ],
   "source": [
    "conf_matrix_lgb = confusion_matrix(y_test, y_pred_lgb)\n",
    "plt.figure(figsize=(12, 12))\n",
    "sns.heatmap(conf_matrix_lgb, annot=True, fmt=\"d\");\n",
    "plt.title(\"Confusion matrix\")\n",
    "plt.ylabel('True class')\n",
    "plt.xlabel('Predicted class')\n",
    "plt.show()\n",
    "\n",
    "f1_score(y_test, y_pred_lgb)\n",
    "roc_auc_score(y_test,y_prob_lgb)"
   ]
  },
  {
   "cell_type": "code",
   "execution_count": null,
   "metadata": {},
   "outputs": [],
   "source": []
  },
  {
   "cell_type": "code",
   "execution_count": null,
   "metadata": {},
   "outputs": [],
   "source": []
  },
  {
   "cell_type": "code",
   "execution_count": null,
   "metadata": {},
   "outputs": [],
   "source": []
  },
  {
   "cell_type": "code",
   "execution_count": null,
   "metadata": {},
   "outputs": [],
   "source": []
  },
  {
   "cell_type": "code",
   "execution_count": null,
   "metadata": {},
   "outputs": [],
   "source": []
  },
  {
   "cell_type": "code",
   "execution_count": null,
   "metadata": {},
   "outputs": [],
   "source": []
  },
  {
   "cell_type": "code",
   "execution_count": null,
   "metadata": {},
   "outputs": [],
   "source": []
  },
  {
   "cell_type": "code",
   "execution_count": null,
   "metadata": {},
   "outputs": [],
   "source": []
  },
  {
   "cell_type": "code",
   "execution_count": null,
   "metadata": {},
   "outputs": [],
   "source": []
  },
  {
   "cell_type": "code",
   "execution_count": null,
   "metadata": {},
   "outputs": [],
   "source": []
  },
  {
   "cell_type": "code",
   "execution_count": null,
   "metadata": {},
   "outputs": [],
   "source": []
  },
  {
   "cell_type": "code",
   "execution_count": null,
   "metadata": {},
   "outputs": [],
   "source": []
  },
  {
   "cell_type": "code",
   "execution_count": null,
   "metadata": {},
   "outputs": [],
   "source": []
  },
  {
   "cell_type": "code",
   "execution_count": null,
   "metadata": {},
   "outputs": [],
   "source": []
  },
  {
   "cell_type": "code",
   "execution_count": null,
   "metadata": {},
   "outputs": [],
   "source": []
  },
  {
   "cell_type": "code",
   "execution_count": null,
   "metadata": {},
   "outputs": [],
   "source": []
  }
 ],
 "metadata": {
  "kernelspec": {
   "display_name": "Python 3",
   "language": "python",
   "name": "python3"
  },
  "language_info": {
   "codemirror_mode": {
    "name": "ipython",
    "version": 3
   },
   "file_extension": ".py",
   "mimetype": "text/x-python",
   "name": "python",
   "nbconvert_exporter": "python",
   "pygments_lexer": "ipython3",
   "version": "3.5.4"
  }
 },
 "nbformat": 4,
 "nbformat_minor": 2
}
